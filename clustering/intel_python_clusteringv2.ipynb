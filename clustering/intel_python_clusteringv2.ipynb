{
 "cells": [
  {
   "cell_type": "code",
   "execution_count": 5,
   "id": "2c6b3fdd",
   "metadata": {},
   "outputs": [
    {
     "data": {
      "text/plain": [
       "'3.7.10 (default, Jun  4 2021, 06:52:02) \\n[GCC 9.3.0]'"
      ]
     },
     "execution_count": 5,
     "metadata": {},
     "output_type": "execute_result"
    }
   ],
   "source": [
    "import sys\n",
    "sys.version"
   ]
  },
  {
   "cell_type": "code",
   "execution_count": 6,
   "id": "a8e4e577",
   "metadata": {},
   "outputs": [
    {
     "name": "stderr",
     "output_type": "stream",
     "text": [
      "Intel(R) Extension for Scikit-learn* enabled (https://github.com/intel/scikit-learn-intelex)\n"
     ]
    }
   ],
   "source": [
    "from sklearnex import patch_sklearn\n",
    "patch_sklearn()"
   ]
  },
  {
   "cell_type": "code",
   "execution_count": 7,
   "id": "081578eb",
   "metadata": {},
   "outputs": [
    {
     "name": "stdout",
     "output_type": "stream",
     "text": [
      "INFO\r\n"
     ]
    }
   ],
   "source": [
    "!echo $SKLEARNEX_VERBOSE"
   ]
  },
  {
   "cell_type": "code",
   "execution_count": 8,
   "id": "d6861da4",
   "metadata": {},
   "outputs": [],
   "source": [
    "import pandas as pd\n",
    "from sklearn import cluster\n",
    "import os\n",
    "import seaborn as sns"
   ]
  },
  {
   "cell_type": "code",
   "execution_count": 9,
   "id": "6780eccc",
   "metadata": {},
   "outputs": [],
   "source": [
    "data_dir='/opt/notebooks/QA_attentions_pickled'"
   ]
  },
  {
   "cell_type": "code",
   "execution_count": 10,
   "id": "8b20b64a",
   "metadata": {},
   "outputs": [],
   "source": [
    "df = pd.read_csv(os.path.join(data_dir,'representation_df.csv'))"
   ]
  },
  {
   "cell_type": "code",
   "execution_count": 11,
   "id": "fa5f5a52",
   "metadata": {},
   "outputs": [],
   "source": [
    "df_small = df[:14400]"
   ]
  },
  {
   "cell_type": "code",
   "execution_count": 12,
   "id": "30eade52",
   "metadata": {},
   "outputs": [
    {
     "name": "stdout",
     "output_type": "stream",
     "text": [
      "SKLEARNEX INFO: sklearn.cluster.KMeans.fit: running accelerated version on CPU\n",
      "CPU times: user 10min 3s, sys: 2.44 s, total: 10min 5s\n",
      "Wall time: 1min 26s\n"
     ]
    }
   ],
   "source": [
    "%%time\n",
    "kmeans_dataset1 = cluster.KMeans(n_clusters=80, \n",
    "                                 init='k-means++').fit_predict(df_small)"
   ]
  },
  {
   "cell_type": "code",
   "execution_count": 13,
   "id": "a9740c76",
   "metadata": {},
   "outputs": [
    {
     "name": "stderr",
     "output_type": "stream",
     "text": [
      "/opt/conda/envs/idp3/lib/python3.7/site-packages/seaborn/_decorators.py:43: FutureWarning: Pass the following variables as keyword args: x, y. From version 0.12, the only valid positional argument will be `data`, and passing other arguments without an explicit keyword will result in an error or misinterpretation.\n",
      "  FutureWarning\n"
     ]
    },
    {
     "data": {
      "text/plain": [
       "<matplotlib.axes._subplots.AxesSubplot at 0x7f20a26a2090>"
      ]
     },
     "execution_count": 13,
     "metadata": {},
     "output_type": "execute_result"
    },
    {
     "data": {
      "image/png": "[encoded data removed]",
      "text/plain": [
       "<Figure size 432x288 with 1 Axes>"
      ]
     },
     "metadata": {
      "needs_background": "light"
     },
     "output_type": "display_data"
    }
   ],
   "source": [
    "df_labels = pd.DataFrame(kmeans_dataset1)\n",
    "rating_count = df_labels[0].value_counts()\n",
    "\n",
    "x = rating_count.index\n",
    "y = rating_count.values\n",
    "\n",
    "sns.barplot(x, y)"
   ]
  },
  {
   "cell_type": "code",
   "execution_count": 15,
   "id": "beeaa24e",
   "metadata": {},
   "outputs": [
    {
     "name": "stdout",
     "output_type": "stream",
     "text": [
      "SKLEARNEX INFO: sklearn.cluster.KMeans.fit: running accelerated version on CPU\n",
      "CPU times: user 5h 3min 45s, sys: 1min 17s, total: 5h 5min 2s\n",
      "Wall time: 42min 20s\n"
     ]
    }
   ],
   "source": [
    "%%time\n",
    "kmeans_dataset_large = cluster.KMeans(n_clusters=30, \n",
    "                                 init='k-means++').fit_predict(df)"
   ]
  },
  {
   "cell_type": "code",
   "execution_count": 16,
   "id": "e2061706",
   "metadata": {},
   "outputs": [
    {
     "name": "stderr",
     "output_type": "stream",
     "text": [
      "/opt/conda/envs/idp3/lib/python3.7/site-packages/seaborn/_decorators.py:43: FutureWarning: Pass the following variables as keyword args: x, y. From version 0.12, the only valid positional argument will be `data`, and passing other arguments without an explicit keyword will result in an error or misinterpretation.\n",
      "  FutureWarning\n"
     ]
    },
    {
     "data": {
      "text/plain": [
       "<matplotlib.axes._subplots.AxesSubplot at 0x7f2084d7f910>"
      ]
     },
     "execution_count": 16,
     "metadata": {},
     "output_type": "execute_result"
    },
    {
     "data": {
      "image/png": "[encoded data removed]",
      "text/plain": [
       "<Figure size 432x288 with 1 Axes>"
      ]
     },
     "metadata": {
      "needs_background": "light"
     },
     "output_type": "display_data"
    }
   ],
   "source": [
    "df_labels = pd.DataFrame(kmeans_dataset_large)\n",
    "rating_count = df_labels[0].value_counts()\n",
    "\n",
    "x = rating_count.index\n",
    "y = rating_count.values\n",
    "\n",
    "sns.barplot(x, y)"
   ]
  },
  {
   "cell_type": "code",
   "execution_count": null,
   "id": "64b21260",
   "metadata": {},
   "outputs": [],
   "source": []
  }
 ],
 "metadata": {
  "kernelspec": {
   "display_name": "Python 3",
   "language": "python",
   "name": "python3"
  },
  "language_info": {
   "codemirror_mode": {
    "name": "ipython",
    "version": 3
   },
   "file_extension": ".py",
   "mimetype": "text/x-python",
   "name": "python",
   "nbconvert_exporter": "python",
   "pygments_lexer": "ipython3",
   "version": "3.7.10"
  }
 },
 "nbformat": 4,
 "nbformat_minor": 5
}
