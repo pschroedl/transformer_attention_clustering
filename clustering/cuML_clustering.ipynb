{
 "cells": [
  {
   "cell_type": "code",
   "execution_count": 1,
   "metadata": {},
   "outputs": [],
   "source": [
    "import cuml\n",
    "import cudf\n",
    "import os\n",
    "import time"
   ]
  },
  {
   "cell_type": "code",
   "execution_count": 2,
   "metadata": {},
   "outputs": [],
   "source": [
    "import seaborn as sns\n",
    "import pandas as pd\n",
    "import matplotlib.pyplot as plt"
   ]
  },
  {
   "cell_type": "code",
   "execution_count": 3,
   "metadata": {},
   "outputs": [],
   "source": [
    "from cuml import DBSCAN as cumlDBSCAN\n",
    "from cuml.cluster import KMeans as cuKMeans\n",
    "from cuml.decomposition import PCA\n",
    "import cupy"
   ]
  },
  {
   "cell_type": "code",
   "execution_count": 4,
   "metadata": {},
   "outputs": [
    {
     "name": "stdout",
     "output_type": "stream",
     "text": [
      "Python 3.7.10\n"
     ]
    }
   ],
   "source": [
    "!python --version"
   ]
  },
  {
   "cell_type": "code",
   "execution_count": 5,
   "metadata": {},
   "outputs": [
    {
     "name": "stdout",
     "output_type": "stream",
     "text": [
      "/rapids/notebooks/host\n"
     ]
    }
   ],
   "source": [
    "!pwd"
   ]
  },
  {
   "cell_type": "code",
   "execution_count": 6,
   "metadata": {},
   "outputs": [],
   "source": [
    "data_dir='/rapids/notebooks/host/QA_attentions_pickled'"
   ]
  },
  {
   "cell_type": "code",
   "execution_count": 7,
   "metadata": {},
   "outputs": [],
   "source": [
    "df = cudf.read_csv(os.path.join(data_dir,'representation_df.csv'))"
   ]
  },
  {
   "cell_type": "code",
   "execution_count": 82,
   "metadata": {},
   "outputs": [
    {
     "name": "stdout",
     "output_type": "stream",
     "text": [
      "<class 'cudf.core.dataframe.DataFrame'>\n",
      "RangeIndex: 288000 entries, 0 to 287999\n",
      "Columns: 2049 entries, Unnamed: 0 to 2047\n",
      "dtypes: float64(2048), int64(1)\n",
      "memory usage: 4.4 GB\n"
     ]
    }
   ],
   "source": [
    "df.info()"
   ]
  },
  {
   "cell_type": "code",
   "execution_count": 8,
   "metadata": {},
   "outputs": [],
   "source": [
    "## From running HDBSCAN on CPU on 14400 samples\n",
    "# start_time = time.time()\n",
    "# clusterer2 = hdbscan.HDBSCAN(\n",
    "#     metric=\"manhattan\",\n",
    "#     min_cluster_size=40,\n",
    "#     min_samples = 20,\n",
    "#     core_dist_n_jobs=16)\n",
    "# clusterer2.fit(df_b)\n",
    "# print(\"--- %s seconds ---\" % (time.time() - start_time))\n",
    "##--- 729.1382730007172 seconds ---"
   ]
  },
  {
   "cell_type": "code",
   "execution_count": 11,
   "metadata": {},
   "outputs": [],
   "source": [
    "df_small = df[0:14400]"
   ]
  },
  {
   "cell_type": "code",
   "execution_count": 14,
   "metadata": {},
   "outputs": [
    {
     "name": "stdout",
     "output_type": "stream",
     "text": [
      "<class 'cudf.core.dataframe.DataFrame'>\n",
      "RangeIndex: 14400 entries, 0 to 14399\n",
      "Columns: 2049 entries, Unnamed: 0 to 2047\n",
      "dtypes: float64(2048), int64(1)\n",
      "memory usage: 225.1 MB\n"
     ]
    }
   ],
   "source": [
    "df_small.info()"
   ]
  },
  {
   "cell_type": "code",
   "execution_count": 7,
   "metadata": {},
   "outputs": [],
   "source": [
    "cuml_dbscan = cumlDBSCAN( eps = 0.000001,\n",
    "                          metric='euclidean', #default - no manhattan here?\n",
    "                          min_samples = 5)"
   ]
  },
  {
   "cell_type": "code",
   "execution_count": 78,
   "metadata": {},
   "outputs": [
    {
     "name": "stdout",
     "output_type": "stream",
     "text": [
      "--- 4.435322523117065 seconds ---\n"
     ]
    }
   ],
   "source": [
    "start_time = time.time()\n",
    "trained_DBSCAN = cuml_dbscan.fit(df_small)\n",
    "print(\"--- %s seconds ---\" % (time.time() - start_time))"
   ]
  },
  {
   "cell_type": "code",
   "execution_count": 79,
   "metadata": {},
   "outputs": [],
   "source": [
    "# wut. LOL"
   ]
  },
  {
   "cell_type": "code",
   "execution_count": 80,
   "metadata": {},
   "outputs": [
    {
     "name": "stderr",
     "output_type": "stream",
     "text": [
      "/opt/conda/envs/rapids/lib/python3.7/site-packages/seaborn/_decorators.py:43: FutureWarning: Pass the following variables as keyword args: x, y. From version 0.12, the only valid positional argument will be `data`, and passing other arguments without an explicit keyword will result in an error or misinterpretation.\n",
      "  FutureWarning\n"
     ]
    },
    {
     "data": {
      "text/plain": [
       "<AxesSubplot:>"
      ]
     },
     "execution_count": 80,
     "metadata": {},
     "output_type": "execute_result"
    },
    {
     "data": {
      "image/png": "[encoded data removed]",
      "text/plain": [
       "<Figure size 432x288 with 1 Axes>"
      ]
     },
     "metadata": {
      "needs_background": "light"
     },
     "output_type": "display_data"
    }
   ],
   "source": [
    "df_labels = pd.DataFrame(trained_DBSCAN.labels_.to_pandas())\n",
    "rating_count = df_labels[0].value_counts()\n",
    "\n",
    "x = rating_count.index\n",
    "y = rating_count.values\n",
    "\n",
    "sns.barplot(x, y)"
   ]
  },
  {
   "cell_type": "code",
   "execution_count": 66,
   "metadata": {},
   "outputs": [],
   "source": [
    "n_clusters = 80\n",
    "random_state = 0"
   ]
  },
  {
   "cell_type": "code",
   "execution_count": 67,
   "metadata": {},
   "outputs": [
    {
     "name": "stdout",
     "output_type": "stream",
     "text": [
      "CPU times: user 22.6 s, sys: 0 ns, total: 22.6 s\n",
      "Wall time: 21.8 s\n"
     ]
    }
   ],
   "source": [
    "%%time\n",
    "kmeans_cuml = cuKMeans(init=\"k-means||\",\n",
    "                       n_clusters=n_clusters,\n",
    "                       oversampling_factor=400,\n",
    "                       random_state=random_state)\n",
    "\n",
    "trained_kmeans = kmeans_cuml.fit(df_small)"
   ]
  },
  {
   "cell_type": "code",
   "execution_count": 68,
   "metadata": {},
   "outputs": [
    {
     "name": "stderr",
     "output_type": "stream",
     "text": [
      "/opt/conda/envs/rapids/lib/python3.7/site-packages/seaborn/_decorators.py:43: FutureWarning: Pass the following variables as keyword args: x, y. From version 0.12, the only valid positional argument will be `data`, and passing other arguments without an explicit keyword will result in an error or misinterpretation.\n",
      "  FutureWarning\n"
     ]
    },
    {
     "data": {
      "text/plain": [
       "<AxesSubplot:>"
      ]
     },
     "execution_count": 68,
     "metadata": {},
     "output_type": "execute_result"
    },
    {
     "data": {
      "image/png": "[encoded data removed]",
      "text/plain": [
       "<Figure size 432x288 with 1 Axes>"
      ]
     },
     "metadata": {
      "needs_background": "light"
     },
     "output_type": "display_data"
    }
   ],
   "source": [
    "df_labels = pd.DataFrame(trained_kmeans.labels_.to_pandas())\n",
    "rating_count = df_labels[0].value_counts()\n",
    "\n",
    "x = rating_count.index\n",
    "y = rating_count.values\n",
    "\n",
    "sns.barplot(x, y)"
   ]
  },
  {
   "cell_type": "code",
   "execution_count": 84,
   "metadata": {},
   "outputs": [
    {
     "name": "stdout",
     "output_type": "stream",
     "text": [
      "CPU times: user 15min 3s, sys: 6.73 ms, total: 15min 3s\n",
      "Wall time: 14min 57s\n"
     ]
    }
   ],
   "source": [
    "n_clusters = 30\n",
    "random_state = 0\n",
    "\n",
    "%%time\n",
    "kmeans_cuml = cuKMeans(init=\"k-means||\",\n",
    "                       n_clusters=n_clusters,\n",
    "                       oversampling_factor=400,\n",
    "                       random_state=random_state)\n",
    "\n",
    "trained_kmeans = kmeans_cuml.fit(df)"
   ]
  },
  {
   "cell_type": "code",
   "execution_count": 85,
   "metadata": {},
   "outputs": [
    {
     "name": "stderr",
     "output_type": "stream",
     "text": [
      "/opt/conda/envs/rapids/lib/python3.7/site-packages/seaborn/_decorators.py:43: FutureWarning: Pass the following variables as keyword args: x, y. From version 0.12, the only valid positional argument will be `data`, and passing other arguments without an explicit keyword will result in an error or misinterpretation.\n",
      "  FutureWarning\n"
     ]
    },
    {
     "data": {
      "text/plain": [
       "<AxesSubplot:>"
      ]
     },
     "execution_count": 85,
     "metadata": {},
     "output_type": "execute_result"
    },
    {
     "data": {
      "image/png": "[encoded data removed]",
      "text/plain": [
       "<Figure size 432x288 with 1 Axes>"
      ]
     },
     "metadata": {
      "needs_background": "light"
     },
     "output_type": "display_data"
    }
   ],
   "source": [
    "df_labels = pd.DataFrame(trained_kmeans.labels_.to_pandas())\n",
    "rating_count = df_labels[0].value_counts()\n",
    "\n",
    "x = rating_count.index\n",
    "y = rating_count.values\n",
    "\n",
    "sns.barplot(x, y)"
   ]
  },
  {
   "cell_type": "code",
   "execution_count": 89,
   "metadata": {},
   "outputs": [
    {
     "data": {
      "text/plain": [
       "PCA()"
      ]
     },
     "execution_count": 89,
     "metadata": {},
     "output_type": "execute_result"
    }
   ],
   "source": [
    "pca_float = PCA(n_components = 2)\n",
    "pca_float.fit(df)"
   ]
  },
  {
   "cell_type": "code",
   "execution_count": 90,
   "metadata": {},
   "outputs": [
    {
     "name": "stdout",
     "output_type": "stream",
     "text": [
      "components:            0             1             2             3             4     \\\n",
      "0 -1.000000e+00  7.987097e-09  1.300720e-08 -3.318241e-09  1.169171e-08   \n",
      "1  7.042852e-07  1.527258e-02  1.909899e-02  4.310537e-05  1.445623e-02   \n",
      "\n",
      "           5             6             7             8             9     ...  \\\n",
      "0  1.761976e-08  5.577395e-09  8.295878e-09  3.910529e-08  4.433001e-09  ...   \n",
      "1  7.219042e-03  5.894176e-03  6.222899e-03  6.369957e-02  6.303537e-03  ...   \n",
      "\n",
      "           2039          2040          2041          2042          2043  \\\n",
      "0  7.595453e-09  1.319307e-08  8.931765e-09  3.846817e-08  2.232395e-08   \n",
      "1 -2.504062e-03  2.086796e-02  1.032663e-02  5.535971e-02  3.293147e-02   \n",
      "\n",
      "           2044          2045          2046          2047          2048  \n",
      "0  1.794644e-08  6.768712e-09  1.571451e-08  4.038068e-09 -1.691690e-09  \n",
      "1  2.436508e-02  1.189893e-02  2.199973e-02  8.816845e-03  5.586183e-03  \n",
      "\n",
      "[2 rows x 2049 columns]\n",
      "explained variance: 0    6.912024e+09\n",
      "1    1.120759e-01\n",
      "dtype: float64\n",
      "explained variance ratio: 0    1.000000e+00\n",
      "1    1.621463e-11\n",
      "dtype: float64\n",
      "singular values: 0    4.461677e+07\n",
      "1    1.796601e+02\n",
      "dtype: float64\n",
      "mean: 0       143999.500000\n",
      "1            0.005293\n",
      "2            0.012804\n",
      "3            0.024561\n",
      "4            0.025781\n",
      "            ...      \n",
      "2044         0.025495\n",
      "2045         0.004433\n",
      "2046         0.008677\n",
      "2047         0.008698\n",
      "2048         0.025890\n",
      "Length: 2049, dtype: float64\n",
      "noise variance: 0    0.0\n",
      "dtype: float64\n",
      "Inverse:                0         1\n",
      "0       143999.5  0.209765\n",
      "1       143998.5  0.136001\n",
      "2       143997.5 -0.206092\n",
      "3       143996.5 -0.241874\n",
      "4       143995.5  0.234367\n",
      "...          ...       ...\n",
      "287995 -143995.5 -0.237560\n",
      "287996 -143996.5 -0.205750\n",
      "287997 -143997.5 -0.295117\n",
      "287998 -143998.5 -0.301149\n",
      "287999 -143999.5 -0.350722\n",
      "\n",
      "[288000 rows x 2 columns]\n",
      "Input:                 0         1         2         3         4         5     \\\n",
      "0       2.628076e-08  0.009647  0.018683  0.024092  0.030497  0.033558   \n",
      "1       1.000000e+00  0.008520  0.017274  0.024089  0.029431  0.033025   \n",
      "2       2.000000e+00  0.003295  0.010741  0.024074  0.024486  0.030556   \n",
      "3       3.000000e+00  0.002749  0.010057  0.024073  0.023968  0.030297   \n",
      "4       4.000000e+00  0.010022  0.019153  0.024093  0.030853  0.033735   \n",
      "...              ...       ...       ...       ...       ...       ...   \n",
      "287995  2.879950e+05  0.000515  0.006394  0.025028  0.020663  0.025254   \n",
      "287996  2.879960e+05  0.001000  0.007001  0.025030  0.021123  0.025484   \n",
      "287997  2.879970e+05 -0.000364  0.005294  0.025026  0.019831  0.024839   \n",
      "287998  2.879980e+05 -0.000457  0.005179  0.025026  0.019744  0.024795   \n",
      "287999  2.879990e+05 -0.001214  0.004232  0.025024  0.019028  0.024437   \n",
      "\n",
      "            6         7         8         9     ...      2039      2040  \\\n",
      "0       0.007225  0.028638  0.094363  0.015337  ...  0.023451  0.021540   \n",
      "1       0.006790  0.028179  0.089665  0.014872  ...  0.023636  0.020001   \n",
      "2       0.004774  0.026050  0.067873  0.012716  ...  0.024493  0.012862   \n",
      "3       0.004563  0.025828  0.065594  0.012490  ...  0.024582  0.012115   \n",
      "4       0.007370  0.028791  0.095930  0.015492  ...  0.023390  0.022053   \n",
      "...          ...       ...       ...       ...  ...       ...       ...   \n",
      "287995  0.002982  0.023465  0.054607  0.011241  ...  0.022384  0.008406   \n",
      "287996  0.003170  0.023663  0.056633  0.011441  ...  0.022304  0.009069   \n",
      "287997  0.002643  0.023107  0.050940  0.010878  ...  0.022528  0.007204   \n",
      "287998  0.002607  0.023070  0.050556  0.010840  ...  0.022543  0.007079   \n",
      "287999  0.002315  0.022761  0.047398  0.010527  ...  0.022667  0.006044   \n",
      "\n",
      "            2041      2042      2043      2044      2045      2046      2047  \\\n",
      "0       0.015088  0.097644  0.022981  0.033190  0.007904  0.015555  0.011129   \n",
      "1       0.014326  0.093561  0.020551  0.031393  0.007026  0.013932  0.010479   \n",
      "2       0.010794  0.074622  0.009286  0.023057  0.002956  0.006406  0.007462   \n",
      "3       0.010424  0.072642  0.008107  0.022186  0.002530  0.005619  0.007147   \n",
      "4       0.015342  0.099006  0.023791  0.033789  0.008197  0.016096  0.011346   \n",
      "...          ...       ...       ...       ...       ...       ...       ...   \n",
      "287995  0.007897  0.061802  0.001820  0.017122  0.000632  0.001188  0.006022   \n",
      "287996  0.008225  0.063563  0.002868  0.017897  0.001011  0.001888  0.006303   \n",
      "287997  0.007302  0.058615 -0.000075  0.015720 -0.000053 -0.000078  0.005515   \n",
      "287998  0.007240  0.058281 -0.000274  0.015573 -0.000125 -0.000211  0.005461   \n",
      "287999  0.006728  0.055537 -0.001906  0.014365 -0.000714 -0.001301  0.005024   \n",
      "\n",
      "            2048  \n",
      "0       0.026819  \n",
      "1       0.026406  \n",
      "2       0.024496  \n",
      "3       0.024296  \n",
      "4       0.026956  \n",
      "...          ...  \n",
      "287995  0.024807  \n",
      "287996  0.024985  \n",
      "287997  0.024485  \n",
      "287998  0.024452  \n",
      "287999  0.024175  \n",
      "\n",
      "[288000 rows x 2049 columns]\n"
     ]
    }
   ],
   "source": [
    "print(f'components: {pca_float.components_}')\n",
    "print(f'explained variance: {pca_float.explained_variance_}')\n",
    "exp_var = pca_float.explained_variance_ratio_\n",
    "print(f'explained variance ratio: {exp_var}')\n",
    "\n",
    "print(f'singular values: {pca_float.singular_values_}')\n",
    "print(f'mean: {pca_float.mean_}')\n",
    "print(f'noise variance: {pca_float.noise_variance_}')\n",
    "\n",
    "trans_gdf_float = pca_float.transform(df)\n",
    "print(f'Inverse: {trans_gdf_float}')\n",
    "\n",
    "input_gdf_float = pca_float.inverse_transform(trans_gdf_float)\n",
    "print(f'Input: {input_gdf_float}')"
   ]
  },
  {
   "cell_type": "code",
   "execution_count": 92,
   "metadata": {},
   "outputs": [
    {
     "name": "stdout",
     "output_type": "stream",
     "text": [
      "CPU times: user 11.1 s, sys: 0 ns, total: 11.1 s\n",
      "Wall time: 11 s\n"
     ]
    }
   ],
   "source": [
    "%%time\n",
    "n_clusters = 30\n",
    "random_state = 0\n",
    "\n",
    "kmeans_cuml = cuKMeans(init=\"k-means||\",\n",
    "                       n_clusters=n_clusters,\n",
    "                       oversampling_factor=400,\n",
    "                       random_state=random_state)\n",
    "\n",
    "trained_kmeans = kmeans_cuml.fit(trans_gdf_float)"
   ]
  },
  {
   "cell_type": "code",
   "execution_count": 93,
   "metadata": {},
   "outputs": [
    {
     "name": "stderr",
     "output_type": "stream",
     "text": [
      "/opt/conda/envs/rapids/lib/python3.7/site-packages/seaborn/_decorators.py:43: FutureWarning: Pass the following variables as keyword args: x, y. From version 0.12, the only valid positional argument will be `data`, and passing other arguments without an explicit keyword will result in an error or misinterpretation.\n",
      "  FutureWarning\n"
     ]
    },
    {
     "data": {
      "text/plain": [
       "<AxesSubplot:>"
      ]
     },
     "execution_count": 93,
     "metadata": {},
     "output_type": "execute_result"
    },
    {
     "data": {
      "image/png": "[encoded data removed]",
      "text/plain": [
       "<Figure size 432x288 with 1 Axes>"
      ]
     },
     "metadata": {
      "needs_background": "light"
     },
     "output_type": "display_data"
    }
   ],
   "source": [
    "df_labels = pd.DataFrame(trained_kmeans.labels_.to_pandas())\n",
    "rating_count = df_labels[0].value_counts()\n",
    "\n",
    "x = rating_count.index\n",
    "y = rating_count.values\n",
    "\n",
    "sns.barplot(x, y)"
   ]
  },
  {
   "cell_type": "code",
   "execution_count": 109,
   "metadata": {},
   "outputs": [
    {
     "data": {
      "image/png": "[encoded data removed]",
      "text/plain": [
       "<Figure size 1152x720 with 1 Axes>"
      ]
     },
     "metadata": {
      "needs_background": "light"
     },
     "output_type": "display_data"
    }
   ],
   "source": [
    "fig = plt.figure(figsize=(16, 10))\n",
    "host_data = trans_gdf_float.to_pandas()\n",
    "plt.scatter(host_data.iloc[:, 0], host_data.iloc[:, 1], s=50, cmap='viridis')\n",
    "\n",
    "#plot the cuml kmeans centers with red circle outlines\n",
    "centers_cuml = kmeans_cuml.cluster_centers_\n",
    "plt.scatter(cupy.asnumpy(centers_cuml[0].values), \n",
    "            cupy.asnumpy(centers_cuml[1].values), \n",
    "            facecolors = 'none', edgecolors='red', s=100)\n",
    "\n",
    "plt.title('cuml clustering')\n",
    "\n",
    "plt.show()"
   ]
  },
  {
   "cell_type": "markdown",
   "metadata": {},
   "source": []
  },
  {
   "cell_type": "code",
   "execution_count": 5,
   "metadata": {},
   "outputs": [],
   "source": [
    "data_dir='/rapids/notebooks/host/'"
   ]
  },
  {
   "cell_type": "code",
   "execution_count": 6,
   "metadata": {},
   "outputs": [],
   "source": [
    "df = cudf.read_csv(os.path.join(data_dir,'representation_df_10000.csv'), nrows=500000)"
   ]
  },
  {
   "cell_type": "code",
   "execution_count": 9,
   "metadata": {},
   "outputs": [],
   "source": [
    "cuml_dbscan = cumlDBSCAN( eps = 1,\n",
    "                          metric='euclidean', #default - no manhattan here?\n",
    "                          min_samples = 5)"
   ]
  },
  {
   "cell_type": "code",
   "execution_count": 10,
   "metadata": {},
   "outputs": [
    {
     "name": "stdout",
     "output_type": "stream",
     "text": [
      "[W] [02:53:11.719277] Batch size limited by the chosen integer type (4 bytes). 4862 -> 4294. Using the larger integer type might result in better performance\n",
      "--- 7197.254801273346 seconds ---\n"
     ]
    }
   ],
   "source": [
    "start_time = time.time()\n",
    "trained_DBSCAN = cuml_dbscan.fit(df)\n",
    "print(\"--- %s seconds ---\" % (time.time() - start_time))"
   ]
  },
  {
   "cell_type": "code",
   "execution_count": 11,
   "metadata": {},
   "outputs": [
    {
     "name": "stderr",
     "output_type": "stream",
     "text": [
      "/opt/conda/envs/rapids/lib/python3.7/site-packages/seaborn/_decorators.py:43: FutureWarning: Pass the following variables as keyword args: x, y. From version 0.12, the only valid positional argument will be `data`, and passing other arguments without an explicit keyword will result in an error or misinterpretation.\n",
      "  FutureWarning\n"
     ]
    },
    {
     "data": {
      "text/plain": [
       "<AxesSubplot:>"
      ]
     },
     "execution_count": 11,
     "metadata": {},
     "output_type": "execute_result"
    },
    {
     "data": {
      "image/png": "[encoded data removed]",
      "text/plain": [
       "<Figure size 432x288 with 1 Axes>"
      ]
     },
     "metadata": {
      "needs_background": "light"
     },
     "output_type": "display_data"
    }
   ],
   "source": [
    "df_labels = pd.DataFrame(trained_DBSCAN.labels_.to_pandas())\n",
    "rating_count = df_labels[0].value_counts()\n",
    "\n",
    "x = rating_count.index\n",
    "y = rating_count.values\n",
    "\n",
    "sns.barplot(x, y)"
   ]
  },
  {
   "cell_type": "code",
   "execution_count": 10,
   "metadata": {},
   "outputs": [],
   "source": [
    "sm = df[:100000]"
   ]
  },
  {
   "cell_type": "code",
   "execution_count": 11,
   "metadata": {},
   "outputs": [],
   "source": [
    "sm = sm.iloc[:,1:]"
   ]
  },
  {
   "cell_type": "code",
   "execution_count": 15,
   "metadata": {},
   "outputs": [
    {
     "name": "stdout",
     "output_type": "stream",
     "text": [
      "--- 255.17437767982483 seconds ---\n",
      "Estimated number of clusters: 14\n",
      "Estimated number of noise points: 97590\n",
      "CPU times: user 4min 15s, sys: 236 ms, total: 4min 15s\n",
      "Wall time: 4min 15s\n"
     ]
    }
   ],
   "source": [
    "%%time\n",
    "cuml_dbscan = cumlDBSCAN( eps = 0.5,\n",
    "                          metric='euclidean', #default - no manhattan here?\n",
    "                          min_samples = 10,\n",
    "                          max_mbytes_per_batch = 10000\n",
    "                        )\n",
    "\n",
    "start_time = time.time()\n",
    "trained_DBSCAN = cuml_dbscan.fit(sm)\n",
    "print(\"--- %s seconds ---\" % (time.time() - start_time))\n",
    "\n",
    "labels = trained_DBSCAN.labels_.values_host\n",
    "\n",
    "# Number of clusters in labels, ignoring noise if present.\n",
    "n_clusters_ = len(set(labels)) - (1 if -1 in labels else 0)\n",
    "n_noise_ = list(labels).count(-1)\n",
    "print('Estimated number of clusters: %d' % n_clusters_)\n",
    "print('Estimated number of noise points: %d' % n_noise_)\n",
    "\n",
    "# df_labels = pd.DataFrame(trained_DBSCAN.labels_.to_pandas())\n",
    "# rating_count = df_labels[0].value_counts()\n",
    "\n",
    "# x = rating_count.index\n",
    "# y = rating_count.values\n",
    "\n",
    "# sns.barplot(x, y)"
   ]
  },
  {
   "cell_type": "code",
   "execution_count": 17,
   "metadata": {},
   "outputs": [
    {
     "name": "stderr",
     "output_type": "stream",
     "text": [
      "/opt/conda/envs/rapids/lib/python3.7/site-packages/seaborn/_decorators.py:43: FutureWarning: Pass the following variables as keyword args: x, y. From version 0.12, the only valid positional argument will be `data`, and passing other arguments without an explicit keyword will result in an error or misinterpretation.\n",
      "  FutureWarning\n"
     ]
    },
    {
     "data": {
      "text/plain": [
       "<AxesSubplot:>"
      ]
     },
     "execution_count": 17,
     "metadata": {},
     "output_type": "execute_result"
    },
    {
     "data": {
      "image/png": "[encoded data removed]",
      "text/plain": [
       "<Figure size 432x288 with 1 Axes>"
      ]
     },
     "metadata": {
      "needs_background": "light"
     },
     "output_type": "display_data"
    }
   ],
   "source": [
    "df_labels = pd.DataFrame(trained_DBSCAN.labels_.to_pandas())\n",
    "rating_count = df_labels[0].value_counts()\n",
    "\n",
    "x = rating_count.index\n",
    "y = rating_count.values\n",
    "\n",
    "sns.barplot(x, y)"
   ]
  },
  {
   "cell_type": "code",
   "execution_count": 40,
   "metadata": {},
   "outputs": [
    {
     "data": {
      "text/plain": [
       "-1     97590\n",
       " 0      1869\n",
       " 5       218\n",
       " 1        82\n",
       " 4        75\n",
       " 3        38\n",
       " 6        31\n",
       " 10       15\n",
       " 9        14\n",
       " 11       14\n",
       " 2        12\n",
       " 13       12\n",
       " 7        10\n",
       " 8        10\n",
       " 12       10\n",
       "Name: 0, dtype: int64"
      ]
     },
     "execution_count": 40,
     "metadata": {},
     "output_type": "execute_result"
    }
   ],
   "source": [
    "rating_count"
   ]
  },
  {
   "cell_type": "code",
   "execution_count": 21,
   "metadata": {},
   "outputs": [],
   "source": [
    "from cuml.neighbors import NearestNeighbors"
   ]
  },
  {
   "cell_type": "code",
   "execution_count": 24,
   "metadata": {},
   "outputs": [],
   "source": [
    "import numpy as np"
   ]
  },
  {
   "cell_type": "code",
   "execution_count": 29,
   "metadata": {},
   "outputs": [
    {
     "data": {
      "text/plain": [
       "<Figure size 720x360 with 0 Axes>"
      ]
     },
     "metadata": {},
     "output_type": "display_data"
    }
   ],
   "source": [
    "plt.figure(figsize=(10,5))\n",
    "nn = NearestNeighbors(n_neighbors=5).fit(sm)\n",
    "distances, idx = nn.kneighbors(sm)\n",
    "distances = distances.values\n"
   ]
  },
  {
   "cell_type": "code",
   "execution_count": 36,
   "metadata": {},
   "outputs": [],
   "source": [
    "distances = cupy.asnumpy(distances)"
   ]
  },
  {
   "cell_type": "code",
   "execution_count": 38,
   "metadata": {},
   "outputs": [
    {
     "data": {
      "text/plain": [
       "array([[0.        , 0.29186642, 0.77420497, 0.8226489 , 0.82618546],\n",
       "       [0.00138107, 0.34081823, 0.7350986 , 0.8109363 , 0.81589735],\n",
       "       [0.00352105, 0.24164744, 0.7432032 , 0.7448522 , 0.74507016],\n",
       "       [0.00195312, 0.1845393 , 0.6967942 , 0.7010052 , 0.7132925 ],\n",
       "       [0.00195312, 0.3866059 , 0.7982116 , 0.8248956 , 0.8423875 ],\n",
       "       [0.        , 0.4345396 , 0.7860506 , 0.8078775 , 0.8130605 ],\n",
       "       [0.        , 0.38028616, 0.8245126 , 0.84708846, 0.8518267 ],\n",
       "       [0.00195312, 0.45699108, 0.79223686, 0.8058223 , 0.8072274 ],\n",
       "       [0.00138107, 0.19984964, 0.7352251 , 0.74168104, 0.7434059 ],\n",
       "       [0.        , 0.50276184, 0.82692355, 0.8535136 , 0.86132836]],\n",
       "      dtype=float32)"
      ]
     },
     "execution_count": 38,
     "metadata": {},
     "output_type": "execute_result"
    }
   ],
   "source": [
    "distances[:10]"
   ]
  },
  {
   "cell_type": "code",
   "execution_count": 39,
   "metadata": {},
   "outputs": [
    {
     "data": {
      "image/png": "[encoded data removed]",
      "text/plain": [
       "<Figure size 432x288 with 1 Axes>"
      ]
     },
     "metadata": {
      "needs_background": "light"
     },
     "output_type": "display_data"
    }
   ],
   "source": [
    "distances = np.sort(distances, axis=0)\n",
    "distances = distances[:,1]\n",
    "plt.plot(distances)\n",
    "plt.show()"
   ]
  },
  {
   "cell_type": "code",
   "execution_count": 42,
   "metadata": {},
   "outputs": [
    {
     "name": "stdout",
     "output_type": "stream",
     "text": [
      "--- 255.34441256523132 seconds ---\n",
      "Estimated number of clusters: 55\n",
      "Estimated number of noise points: 36019\n",
      "CPU times: user 4min 15s, sys: 256 ms, total: 4min 15s\n",
      "Wall time: 4min 15s\n"
     ]
    }
   ],
   "source": [
    "%%time\n",
    "cuml_dbscan = cumlDBSCAN( eps = 0.75,\n",
    "                          metric='euclidean', #default - no manhattan here?\n",
    "                          min_samples = 10,\n",
    "                          max_mbytes_per_batch = 10000\n",
    "                        )\n",
    "\n",
    "start_time = time.time()\n",
    "trained_DBSCAN = cuml_dbscan.fit(sm)\n",
    "print(\"--- %s seconds ---\" % (time.time() - start_time))\n",
    "\n",
    "labels = trained_DBSCAN.labels_.values_host\n",
    "\n",
    "# Number of clusters in labels, ignoring noise if present.\n",
    "n_clusters_ = len(set(labels)) - (1 if -1 in labels else 0)\n",
    "n_noise_ = list(labels).count(-1)\n",
    "print('Estimated number of clusters: %d' % n_clusters_)\n",
    "print('Estimated number of noise points: %d' % n_noise_)\n",
    "\n"
   ]
  },
  {
   "cell_type": "code",
   "execution_count": 44,
   "metadata": {},
   "outputs": [
    {
     "name": "stderr",
     "output_type": "stream",
     "text": [
      "/opt/conda/envs/rapids/lib/python3.7/site-packages/seaborn/_decorators.py:43: FutureWarning: Pass the following variables as keyword args: x, y. From version 0.12, the only valid positional argument will be `data`, and passing other arguments without an explicit keyword will result in an error or misinterpretation.\n",
      "  FutureWarning\n"
     ]
    },
    {
     "data": {
      "text/plain": [
       "<AxesSubplot:>"
      ]
     },
     "execution_count": 44,
     "metadata": {},
     "output_type": "execute_result"
    },
    {
     "data": {
      "image/png": "[encoded data removed]",
      "text/plain": [
       "<Figure size 432x288 with 1 Axes>"
      ]
     },
     "metadata": {
      "needs_background": "light"
     },
     "output_type": "display_data"
    }
   ],
   "source": [
    "df_labels = pd.DataFrame(trained_DBSCAN.labels_.to_pandas())\n",
    "rating_count = df_labels[0].value_counts()\n",
    "\n",
    "x = rating_count.index\n",
    "y = rating_count.values\n",
    "\n",
    "sns.barplot(x, y)"
   ]
  },
  {
   "cell_type": "code",
   "execution_count": 45,
   "metadata": {},
   "outputs": [
    {
     "data": {
      "text/plain": [
       " 0     62977\n",
       "-1     36019\n",
       " 2       352\n",
       " 11       50\n",
       " 5        35\n",
       " 1        22\n",
       " 3        22\n",
       " 35       21\n",
       " 18       19\n",
       " 23       16\n",
       " 20       16\n",
       " 21       15\n",
       " 22       14\n",
       " 19       14\n",
       " 24       13\n",
       " 39       12\n",
       " 41       12\n",
       " 33       12\n",
       " 38       12\n",
       " 42       12\n",
       " 10       12\n",
       " 4        12\n",
       " 27       11\n",
       " 44       11\n",
       " 25       11\n",
       " 28       11\n",
       " 26       10\n",
       " 37       10\n",
       " 54       10\n",
       " 51       10\n",
       " 50       10\n",
       " 49       10\n",
       " 47       10\n",
       " 45       10\n",
       " 43       10\n",
       " 17       10\n",
       " 12       10\n",
       " 8        10\n",
       " 36       10\n",
       " 15       10\n",
       " 13       10\n",
       " 30       10\n",
       " 34       10\n",
       " 31       10\n",
       " 9         9\n",
       " 32        9\n",
       " 40        9\n",
       " 14        8\n",
       " 7         8\n",
       " 29        8\n",
       " 6         7\n",
       " 16        7\n",
       " 46        6\n",
       " 48        6\n",
       " 52        6\n",
       " 53        4\n",
       "Name: 0, dtype: int64"
      ]
     },
     "execution_count": 45,
     "metadata": {},
     "output_type": "execute_result"
    }
   ],
   "source": [
    "rating_count"
   ]
  },
  {
   "cell_type": "code",
   "execution_count": 7,
   "metadata": {},
   "outputs": [],
   "source": [
    "med = df[:400000]"
   ]
  },
  {
   "cell_type": "code",
   "execution_count": 8,
   "metadata": {},
   "outputs": [],
   "source": [
    "med = med.iloc[:,1:]"
   ]
  },
  {
   "cell_type": "code",
   "execution_count": 9,
   "metadata": {},
   "outputs": [
    {
     "name": "stdout",
     "output_type": "stream",
     "text": [
      "--- 4578.115650892258 seconds ---\n",
      "Estimated number of clusters: 69\n",
      "Estimated number of noise points: 105521\n",
      "CPU times: user 1h 16min 21s, sys: 2.47 s, total: 1h 16min 23s\n",
      "Wall time: 1h 16min 18s\n"
     ]
    }
   ],
   "source": [
    "%%time\n",
    "cuml_dbscan = cumlDBSCAN( eps = 0.75,\n",
    "                          metric='euclidean', #default - no manhattan here?\n",
    "                          min_samples = 10,\n",
    "                          max_mbytes_per_batch = 10000\n",
    "                        )\n",
    "\n",
    "start_time = time.time()\n",
    "trained_DBSCAN = cuml_dbscan.fit(med)\n",
    "print(\"--- %s seconds ---\" % (time.time() - start_time))\n",
    "\n",
    "labels = trained_DBSCAN.labels_.values_host\n",
    "\n",
    "# Number of clusters in labels, ignoring noise if present.\n",
    "n_clusters_ = len(set(labels)) - (1 if -1 in labels else 0)\n",
    "n_noise_ = list(labels).count(-1)\n",
    "print('Estimated number of clusters: %d' % n_clusters_)\n",
    "print('Estimated number of noise points: %d' % n_noise_)\n",
    "\n"
   ]
  },
  {
   "cell_type": "code",
   "execution_count": 13,
   "metadata": {},
   "outputs": [
    {
     "name": "stderr",
     "output_type": "stream",
     "text": [
      "/opt/conda/envs/rapids/lib/python3.7/site-packages/seaborn/_decorators.py:43: FutureWarning: Pass the following variables as keyword args: x, y. From version 0.12, the only valid positional argument will be `data`, and passing other arguments without an explicit keyword will result in an error or misinterpretation.\n",
      "  FutureWarning\n"
     ]
    },
    {
     "data": {
      "text/plain": [
       "<AxesSubplot:>"
      ]
     },
     "execution_count": 13,
     "metadata": {},
     "output_type": "execute_result"
    },
    {
     "data": {
      "image/png": "[encoded data removed]",
      "text/plain": [
       "<Figure size 432x288 with 1 Axes>"
      ]
     },
     "metadata": {
      "needs_background": "light"
     },
     "output_type": "display_data"
    }
   ],
   "source": [
    "df_labels = pd.DataFrame(trained_DBSCAN.labels_.to_pandas())\n",
    "label_count = df_labels[0].value_counts()\n",
    "\n",
    "x = label_count.index\n",
    "y = label_count.values\n",
    "\n",
    "sns.barplot(x, y)"
   ]
  },
  {
   "cell_type": "code",
   "execution_count": 14,
   "metadata": {},
   "outputs": [
    {
     "data": {
      "text/plain": [
       " 0     293241\n",
       "-1     105521\n",
       " 2        198\n",
       " 4         46\n",
       " 10        42\n",
       "        ...  \n",
       " 67         8\n",
       " 9          7\n",
       " 56         7\n",
       " 43         7\n",
       " 57         5\n",
       "Name: 0, Length: 70, dtype: int64"
      ]
     },
     "execution_count": 14,
     "metadata": {},
     "output_type": "execute_result"
    }
   ],
   "source": [
    "rating_count"
   ]
  },
  {
   "cell_type": "code",
   "execution_count": 15,
   "metadata": {},
   "outputs": [
    {
     "data": {
      "text/plain": [
       " 0     293241\n",
       "-1     105521\n",
       " 2        198\n",
       " 4         46\n",
       " 10        42\n",
       " 1         40\n",
       " 6         40\n",
       " 60        37\n",
       " 26        33\n",
       " 25        33\n",
       " 51        30\n",
       " 15        30\n",
       " 5         28\n",
       " 14        26\n",
       " 46        24\n",
       " 7         23\n",
       " 13        21\n",
       " 45        21\n",
       " 8         19\n",
       " 53        19\n",
       "Name: 0, dtype: int64"
      ]
     },
     "execution_count": 15,
     "metadata": {},
     "output_type": "execute_result"
    }
   ],
   "source": [
    "rating_count[:20]"
   ]
  },
  {
   "cell_type": "code",
   "execution_count": null,
   "metadata": {},
   "outputs": [],
   "source": []
  }
 ],
 "metadata": {
  "kernelspec": {
   "display_name": "Python 3",
   "language": "python",
   "name": "python3"
  },
  "language_info": {
   "codemirror_mode": {
    "name": "ipython",
    "version": 3
   },
   "file_extension": ".py",
   "mimetype": "text/x-python",
   "name": "python",
   "nbconvert_exporter": "python",
   "pygments_lexer": "ipython3",
   "version": "3.7.10"
  }
 },
 "nbformat": 4,
 "nbformat_minor": 4
}
