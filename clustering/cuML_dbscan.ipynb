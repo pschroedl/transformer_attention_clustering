{
 "cells": [
  {
   "cell_type": "code",
   "execution_count": 1,
   "metadata": {},
   "outputs": [],
   "source": [
    "import cuml\n",
    "import cudf\n",
    "import os\n",
    "import time"
   ]
  },
  {
   "cell_type": "code",
   "execution_count": 2,
   "metadata": {},
   "outputs": [],
   "source": [
    "import seaborn as sns\n",
    "import pandas as pd\n",
    "import matplotlib.pyplot as plt\n",
    "import numpy as np"
   ]
  },
  {
   "cell_type": "code",
   "execution_count": 3,
   "metadata": {},
   "outputs": [],
   "source": [
    "from cuml import DBSCAN as cumlDBSCAN\n",
    "from cuml.cluster import KMeans as cuKMeans\n",
    "from cuml.neighbors import NearestNeighbors\n",
    "import cupy"
   ]
  },
  {
   "cell_type": "code",
   "execution_count": 4,
   "metadata": {},
   "outputs": [
    {
     "name": "stdout",
     "output_type": "stream",
     "text": [
      "Python 3.7.10\n"
     ]
    }
   ],
   "source": [
    "!python --version"
   ]
  },
  {
   "cell_type": "code",
   "execution_count": 5,
   "metadata": {},
   "outputs": [
    {
     "name": "stdout",
     "output_type": "stream",
     "text": [
      "/rapids/notebooks/host\n"
     ]
    }
   ],
   "source": [
    "!pwd"
   ]
  },
  {
   "cell_type": "code",
   "execution_count": 6,
   "metadata": {},
   "outputs": [],
   "source": [
    "data_dir='/rapids/notebooks/host/QA_attentions_pickled'"
   ]
  },
  {
   "cell_type": "code",
   "execution_count": 7,
   "metadata": {},
   "outputs": [],
   "source": [
    "df = cudf.read_csv(os.path.join(data_dir,'representation_df.csv'))"
   ]
  },
  {
   "cell_type": "code",
   "execution_count": 82,
   "metadata": {},
   "outputs": [
    {
     "name": "stdout",
     "output_type": "stream",
     "text": [
      "<class 'cudf.core.dataframe.DataFrame'>\n",
      "RangeIndex: 288000 entries, 0 to 287999\n",
      "Columns: 2049 entries, Unnamed: 0 to 2047\n",
      "dtypes: float64(2048), int64(1)\n",
      "memory usage: 4.4 GB\n"
     ]
    }
   ],
   "source": [
    "df.info()"
   ]
  },
  {
   "cell_type": "code",
   "execution_count": 8,
   "metadata": {},
   "outputs": [],
   "source": [
    "## From running HDBSCAN on CPU on 14400 samples\n",
    "# start_time = time.time()\n",
    "# clusterer2 = hdbscan.HDBSCAN(\n",
    "#     metric=\"manhattan\",\n",
    "#     min_cluster_size=40,\n",
    "#     min_samples = 20,\n",
    "#     core_dist_n_jobs=16)\n",
    "# clusterer2.fit(df_b)\n",
    "# print(\"--- %s seconds ---\" % (time.time() - start_time))\n",
    "##--- 729.1382730007172 seconds ---"
   ]
  },
  {
   "cell_type": "code",
   "execution_count": 11,
   "metadata": {},
   "outputs": [],
   "source": [
    "df_small = df[0:14400]"
   ]
  },
  {
   "cell_type": "code",
   "execution_count": 14,
   "metadata": {},
   "outputs": [
    {
     "name": "stdout",
     "output_type": "stream",
     "text": [
      "<class 'cudf.core.dataframe.DataFrame'>\n",
      "RangeIndex: 14400 entries, 0 to 14399\n",
      "Columns: 2049 entries, Unnamed: 0 to 2047\n",
      "dtypes: float64(2048), int64(1)\n",
      "memory usage: 225.1 MB\n"
     ]
    }
   ],
   "source": [
    "df_small.info()"
   ]
  },
  {
   "cell_type": "code",
   "execution_count": 7,
   "metadata": {},
   "outputs": [],
   "source": [
    "cuml_dbscan = cumlDBSCAN( eps = 0.000001,\n",
    "                          metric='euclidean',\n",
    "                          min_samples = 5)"
   ]
  },
  {
   "cell_type": "code",
   "execution_count": 78,
   "metadata": {},
   "outputs": [
    {
     "name": "stdout",
     "output_type": "stream",
     "text": [
      "--- 4.435322523117065 seconds ---\n"
     ]
    }
   ],
   "source": [
    "start_time = time.time()\n",
    "trained_DBSCAN = cuml_dbscan.fit(df_small)\n",
    "print(\"--- %s seconds ---\" % (time.time() - start_time))"
   ]
  },
  {
   "cell_type": "markdown",
   "metadata": {},
   "source": [
    "CuML DBScan, albeit with a different parameterization, ran nearly 200x faster than CPU"
   ]
  },
  {
   "cell_type": "markdown",
   "metadata": {},
   "source": [
    "Here we use Nearest Neighbors in our subset to find an optimal Epsilon for DBSCAN"
   ]
  },
  {
   "cell_type": "code",
   "execution_count": 29,
   "metadata": {},
   "outputs": [
    {
     "data": {
      "text/plain": [
       "<Figure size 720x360 with 0 Axes>"
      ]
     },
     "metadata": {},
     "output_type": "display_data"
    }
   ],
   "source": [
    "plt.figure(figsize=(10,5))\n",
    "nn = NearestNeighbors(n_neighbors=5).fit(sm)\n",
    "distances, idx = nn.kneighbors(sm)\n",
    "distances = distances.values\n"
   ]
  },
  {
   "cell_type": "code",
   "execution_count": 36,
   "metadata": {},
   "outputs": [],
   "source": [
    "distances = cupy.asnumpy(distances)"
   ]
  },
  {
   "cell_type": "code",
   "execution_count": 38,
   "metadata": {},
   "outputs": [
    {
     "data": {
      "text/plain": [
       "array([[0.        , 0.29186642, 0.77420497, 0.8226489 , 0.82618546],\n",
       "       [0.00138107, 0.34081823, 0.7350986 , 0.8109363 , 0.81589735],\n",
       "       [0.00352105, 0.24164744, 0.7432032 , 0.7448522 , 0.74507016],\n",
       "       [0.00195312, 0.1845393 , 0.6967942 , 0.7010052 , 0.7132925 ],\n",
       "       [0.00195312, 0.3866059 , 0.7982116 , 0.8248956 , 0.8423875 ],\n",
       "       [0.        , 0.4345396 , 0.7860506 , 0.8078775 , 0.8130605 ],\n",
       "       [0.        , 0.38028616, 0.8245126 , 0.84708846, 0.8518267 ],\n",
       "       [0.00195312, 0.45699108, 0.79223686, 0.8058223 , 0.8072274 ],\n",
       "       [0.00138107, 0.19984964, 0.7352251 , 0.74168104, 0.7434059 ],\n",
       "       [0.        , 0.50276184, 0.82692355, 0.8535136 , 0.86132836]],\n",
       "      dtype=float32)"
      ]
     },
     "execution_count": 38,
     "metadata": {},
     "output_type": "execute_result"
    }
   ],
   "source": [
    "distances[:10]"
   ]
  },
  {
   "cell_type": "code",
   "execution_count": 39,
   "metadata": {},
   "outputs": [
    {
     "data": {
      "image/png": "[encoded data removed]",
      "text/plain": [
       "<Figure size 432x288 with 1 Axes>"
      ]
     },
     "metadata": {
      "needs_background": "light"
     },
     "output_type": "display_data"
    }
   ],
   "source": [
    "distances = np.sort(distances, axis=0)\n",
    "distances = distances[:,1]\n",
    "plt.plot(distances)\n",
    "plt.show()"
   ]
  },
  {
   "cell_type": "code",
   "execution_count": null,
   "metadata": {},
   "outputs": [],
   "source": []
  },
  {
   "cell_type": "code",
   "execution_count": 42,
   "metadata": {},
   "outputs": [
    {
     "name": "stdout",
     "output_type": "stream",
     "text": [
      "--- 255.34441256523132 seconds ---\n",
      "Estimated number of clusters: 55\n",
      "Estimated number of noise points: 36019\n",
      "CPU times: user 4min 15s, sys: 256 ms, total: 4min 15s\n",
      "Wall time: 4min 15s\n"
     ]
    }
   ],
   "source": [
    "%%time\n",
    "cuml_dbscan = cumlDBSCAN( eps = 0.75,\n",
    "                          metric='euclidean',\n",
    "                          min_samples = 10,\n",
    "                          max_mbytes_per_batch = 10000\n",
    "                        )\n",
    "\n",
    "start_time = time.time()\n",
    "trained_DBSCAN = cuml_dbscan.fit(sm)\n",
    "print(\"--- %s seconds ---\" % (time.time() - start_time))\n",
    "\n",
    "labels = trained_DBSCAN.labels_.values_host\n",
    "\n",
    "# Number of clusters in labels, ignoring noise if present.\n",
    "n_clusters_ = len(set(labels)) - (1 if -1 in labels else 0)\n",
    "n_noise_ = list(labels).count(-1)\n",
    "print('Estimated number of clusters: %d' % n_clusters_)\n",
    "print('Estimated number of noise points: %d' % n_noise_)\n",
    "\n"
   ]
  },
  {
   "cell_type": "code",
   "execution_count": 44,
   "metadata": {},
   "outputs": [
    {
     "name": "stderr",
     "output_type": "stream",
     "text": [
      "/opt/conda/envs/rapids/lib/python3.7/site-packages/seaborn/_decorators.py:43: FutureWarning: Pass the following variables as keyword args: x, y. From version 0.12, the only valid positional argument will be `data`, and passing other arguments without an explicit keyword will result in an error or misinterpretation.\n",
      "  FutureWarning\n"
     ]
    },
    {
     "data": {
      "text/plain": [
       "<AxesSubplot:>"
      ]
     },
     "execution_count": 44,
     "metadata": {},
     "output_type": "execute_result"
    },
    {
     "data": {
      "image/png": "[encoded data removed]",
      "text/plain": [
       "<Figure size 432x288 with 1 Axes>"
      ]
     },
     "metadata": {
      "needs_background": "light"
     },
     "output_type": "display_data"
    }
   ],
   "source": [
    "df_labels = pd.DataFrame(trained_DBSCAN.labels_.to_pandas())\n",
    "rating_count = df_labels[0].value_counts()\n",
    "\n",
    "x = rating_count.index\n",
    "y = rating_count.values\n",
    "\n",
    "sns.barplot(x, y)"
   ]
  },
  {
   "cell_type": "code",
   "execution_count": 45,
   "metadata": {},
   "outputs": [
    {
     "data": {
      "text/plain": [
       " 0     62977\n",
       "-1     36019\n",
       " 2       352\n",
       " 11       50\n",
       " 5        35\n",
       " 1        22\n",
       " 3        22\n",
       " 35       21\n",
       " 18       19\n",
       " 23       16\n",
       " 20       16\n",
       " 21       15\n",
       " 22       14\n",
       " 19       14\n",
       " 24       13\n",
       " 39       12\n",
       " 41       12\n",
       " 33       12\n",
       " 38       12\n",
       " 42       12\n",
       " 10       12\n",
       " 4        12\n",
       " 27       11\n",
       " 44       11\n",
       " 25       11\n",
       " 28       11\n",
       " 26       10\n",
       " 37       10\n",
       " 54       10\n",
       " 51       10\n",
       " 50       10\n",
       " 49       10\n",
       " 47       10\n",
       " 45       10\n",
       " 43       10\n",
       " 17       10\n",
       " 12       10\n",
       " 8        10\n",
       " 36       10\n",
       " 15       10\n",
       " 13       10\n",
       " 30       10\n",
       " 34       10\n",
       " 31       10\n",
       " 9         9\n",
       " 32        9\n",
       " 40        9\n",
       " 14        8\n",
       " 7         8\n",
       " 29        8\n",
       " 6         7\n",
       " 16        7\n",
       " 46        6\n",
       " 48        6\n",
       " 52        6\n",
       " 53        4\n",
       "Name: 0, dtype: int64"
      ]
     },
     "execution_count": 45,
     "metadata": {},
     "output_type": "execute_result"
    }
   ],
   "source": [
    "rating_count"
   ]
  },
  {
   "cell_type": "code",
   "execution_count": 7,
   "metadata": {},
   "outputs": [],
   "source": [
    "med = df[:400000]"
   ]
  },
  {
   "cell_type": "code",
   "execution_count": 8,
   "metadata": {},
   "outputs": [],
   "source": [
    "med = med.iloc[:,1:]"
   ]
  },
  {
   "cell_type": "code",
   "execution_count": 9,
   "metadata": {},
   "outputs": [
    {
     "name": "stdout",
     "output_type": "stream",
     "text": [
      "--- 4578.115650892258 seconds ---\n",
      "Estimated number of clusters: 69\n",
      "Estimated number of noise points: 105521\n",
      "CPU times: user 1h 16min 21s, sys: 2.47 s, total: 1h 16min 23s\n",
      "Wall time: 1h 16min 18s\n"
     ]
    }
   ],
   "source": [
    "%%time\n",
    "cuml_dbscan = cumlDBSCAN( eps = 0.75,\n",
    "                          metric='euclidean', #default - no manhattan here?\n",
    "                          min_samples = 10,\n",
    "                          max_mbytes_per_batch = 10000\n",
    "                        )\n",
    "\n",
    "start_time = time.time()\n",
    "trained_DBSCAN = cuml_dbscan.fit(med)\n",
    "print(\"--- %s seconds ---\" % (time.time() - start_time))\n",
    "\n",
    "labels = trained_DBSCAN.labels_.values_host\n",
    "\n",
    "# Number of clusters in labels, ignoring noise if present.\n",
    "n_clusters_ = len(set(labels)) - (1 if -1 in labels else 0)\n",
    "n_noise_ = list(labels).count(-1)\n",
    "print('Estimated number of clusters: %d' % n_clusters_)\n",
    "print('Estimated number of noise points: %d' % n_noise_)\n",
    "\n"
   ]
  },
  {
   "cell_type": "code",
   "execution_count": 13,
   "metadata": {},
   "outputs": [
    {
     "name": "stderr",
     "output_type": "stream",
     "text": [
      "/opt/conda/envs/rapids/lib/python3.7/site-packages/seaborn/_decorators.py:43: FutureWarning: Pass the following variables as keyword args: x, y. From version 0.12, the only valid positional argument will be `data`, and passing other arguments without an explicit keyword will result in an error or misinterpretation.\n",
      "  FutureWarning\n"
     ]
    },
    {
     "data": {
      "text/plain": [
       "<AxesSubplot:>"
      ]
     },
     "execution_count": 13,
     "metadata": {},
     "output_type": "execute_result"
    },
    {
     "data": {
      "image/png": "[encoded data removed]",
      "text/plain": [
       "<Figure size 432x288 with 1 Axes>"
      ]
     },
     "metadata": {
      "needs_background": "light"
     },
     "output_type": "display_data"
    }
   ],
   "source": [
    "df_labels = pd.DataFrame(trained_DBSCAN.labels_.to_pandas())\n",
    "label_count = df_labels[0].value_counts()\n",
    "\n",
    "x = label_count.index\n",
    "y = label_count.values\n",
    "\n",
    "sns.barplot(x, y)"
   ]
  },
  {
   "cell_type": "code",
   "execution_count": 14,
   "metadata": {},
   "outputs": [
    {
     "data": {
      "text/plain": [
       " 0     293241\n",
       "-1     105521\n",
       " 2        198\n",
       " 4         46\n",
       " 10        42\n",
       "        ...  \n",
       " 67         8\n",
       " 9          7\n",
       " 56         7\n",
       " 43         7\n",
       " 57         5\n",
       "Name: 0, Length: 70, dtype: int64"
      ]
     },
     "execution_count": 14,
     "metadata": {},
     "output_type": "execute_result"
    }
   ],
   "source": [
    "rating_count"
   ]
  },
  {
   "cell_type": "code",
   "execution_count": 15,
   "metadata": {},
   "outputs": [
    {
     "data": {
      "text/plain": [
       " 0     293241\n",
       "-1     105521\n",
       " 2        198\n",
       " 4         46\n",
       " 10        42\n",
       " 1         40\n",
       " 6         40\n",
       " 60        37\n",
       " 26        33\n",
       " 25        33\n",
       " 51        30\n",
       " 15        30\n",
       " 5         28\n",
       " 14        26\n",
       " 46        24\n",
       " 7         23\n",
       " 13        21\n",
       " 45        21\n",
       " 8         19\n",
       " 53        19\n",
       "Name: 0, dtype: int64"
      ]
     },
     "execution_count": 15,
     "metadata": {},
     "output_type": "execute_result"
    }
   ],
   "source": [
    "rating_count[:20]"
   ]
  },
  {
   "cell_type": "code",
   "execution_count": null,
   "metadata": {},
   "outputs": [],
   "source": []
  }
 ],
 "metadata": {
  "kernelspec": {
   "display_name": "Python 3",
   "language": "python",
   "name": "python3"
  },
  "language_info": {
   "codemirror_mode": {
    "name": "ipython",
    "version": 3
   },
   "file_extension": ".py",
   "mimetype": "text/x-python",
   "name": "python",
   "nbconvert_exporter": "python",
   "pygments_lexer": "ipython3",
   "version": "3.7.10"
  }
 },
 "nbformat": 4,
 "nbformat_minor": 4
}
