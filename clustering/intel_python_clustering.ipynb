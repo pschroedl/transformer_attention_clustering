{
 "cells": [
  {
   "cell_type": "markdown",
   "id": "417e8915-4a7a-4d22-be44-d54c87654f07",
   "metadata": {},
   "source": [
    "# Scikit-learn IntelX accelerated clustering"
   ]
  },
  {
   "cell_type": "markdown",
   "id": "06f7a16d-810d-48c9-80b4-a122a2cf96fe",
   "metadata": {},
   "source": [
    "In the pursuit of scaling clustering of our 2048 dimension dataset,\n",
    "we test out the efficacy of Intel's Extension for Scikit-learn.\n",
    "\n",
    "With a smaller size dataset of 100 squad2 examples ( 14400 attention heads ), kMeans on 8 cores shows a roughly linear improvement from 10 minutes to 1.5 minutes.\n",
    "\n",
    "On a larger set - the 2000 squad2 example output from pipeline/transform_attentions.ipynb - speedup was similar (~7x) and took over 45x longer to cluster with only 2x the # of rows.\n",
    "\n",
    "* we're going to need a bigger boat\n",
    "\n",
    "Considering 2000 examples is only ~1/65th of our full dataset of over 130,000 examples in squad2, This doesn't seem like it could be a feasable option.  While our 400GB dataset could fit in a memory-optimized VM on GCP or AWS, even on a 128 core epyc server this could take a _long_ time.  Even if kMeans were linear in complexity it could take more hours than feasable ( which it is clearly not - its somewhere on the lines of O(n^2) depending on the algorithm, and # of rows, clusters, iterations, and columns )."
   ]
  },
  {
   "cell_type": "code",
   "execution_count": 6,
   "id": "a8e4e577",
   "metadata": {},
   "outputs": [
    {
     "name": "stderr",
     "output_type": "stream",
     "text": [
      "Intel(R) Extension for Scikit-learn* enabled (https://github.com/intel/scikit-learn-intelex)\n"
     ]
    }
   ],
   "source": [
    "from sklearnex import patch_sklearn\n",
    "patch_sklearn()"
   ]
  },
  {
   "cell_type": "code",
   "execution_count": 7,
   "id": "081578eb",
   "metadata": {},
   "outputs": [
    {
     "name": "stdout",
     "output_type": "stream",
     "text": [
      "INFO\n"
     ]
    }
   ],
   "source": [
    "!echo $SKLEARNEX_VERBOSE"
   ]
  },
  {
   "cell_type": "code",
   "execution_count": 2,
   "id": "d6861da4",
   "metadata": {},
   "outputs": [],
   "source": [
    "import pandas as pd\n",
    "from sklearn import cluster\n",
    "import os\n",
    "import seaborn as sns"
   ]
  },
  {
   "cell_type": "code",
   "execution_count": 4,
   "id": "6780eccc",
   "metadata": {},
   "outputs": [],
   "source": [
    "data_dir='/rapids/notebooks/host/representations/'"
   ]
  },
  {
   "cell_type": "code",
   "execution_count": 6,
   "id": "8b20b64a",
   "metadata": {},
   "outputs": [],
   "source": [
    "df = pd.read_csv(os.path.join(data_dir,'representation_df.csv'))"
   ]
  },
  {
   "cell_type": "code",
   "execution_count": 10,
   "id": "f40b8081-d0d7-4506-abe1-1bc0a6eb08ad",
   "metadata": {},
   "outputs": [
    {
     "name": "stdout",
     "output_type": "stream",
     "text": [
      "<class 'pandas.core.frame.DataFrame'>\n",
      "RangeIndex: 288000 entries, 0 to 287999\n",
      "Columns: 2049 entries, Unnamed: 0 to 2047\n",
      "dtypes: float64(2048), int64(1)\n",
      "memory usage: 4.4 GB\n"
     ]
    }
   ],
   "source": [
    "df.info()"
   ]
  },
  {
   "cell_type": "code",
   "execution_count": 11,
   "id": "fa5f5a52",
   "metadata": {},
   "outputs": [],
   "source": [
    "df_small = df[:14400]"
   ]
  },
  {
   "cell_type": "code",
   "execution_count": 12,
   "id": "30eade52",
   "metadata": {},
   "outputs": [
    {
     "name": "stdout",
     "output_type": "stream",
     "text": [
      "SKLEARNEX INFO: sklearn.cluster.KMeans.fit: running accelerated version on CPU\n",
      "CPU times: user 10min 3s, sys: 2.44 s, total: 10min 5s\n",
      "Wall time: 1min 26s\n"
     ]
    }
   ],
   "source": [
    "%%time\n",
    "kmeans_dataset_small = cluster.KMeans(n_clusters=30, \n",
    "                                 init='k-means++').fit_predict(df_small)"
   ]
  },
  {
   "cell_type": "code",
   "execution_count": 15,
   "id": "beeaa24e",
   "metadata": {},
   "outputs": [
    {
     "name": "stdout",
     "output_type": "stream",
     "text": [
      "SKLEARNEX INFO: sklearn.cluster.KMeans.fit: running accelerated version on CPU\n",
      "CPU times: user 5h 3min 45s, sys: 1min 17s, total: 5h 5min 2s\n",
      "Wall time: 42min 20s\n"
     ]
    }
   ],
   "source": [
    "%%time\n",
    "kmeans_dataset_large = cluster.KMeans(n_clusters=30, \n",
    "                                 init='k-means++').fit_predict(df)"
   ]
  },
  {
   "cell_type": "code",
   "execution_count": null,
   "id": "64b21260",
   "metadata": {},
   "outputs": [],
   "source": []
  }
 ],
 "metadata": {
  "kernelspec": {
   "display_name": "Python 3",
   "language": "python",
   "name": "python3"
  },
  "language_info": {
   "codemirror_mode": {
    "name": "ipython",
    "version": 3
   },
   "file_extension": ".py",
   "mimetype": "text/x-python",
   "name": "python",
   "nbconvert_exporter": "python",
   "pygments_lexer": "ipython3",
   "version": "3.7.10"
  }
 },
 "nbformat": 4,
 "nbformat_minor": 5
}
