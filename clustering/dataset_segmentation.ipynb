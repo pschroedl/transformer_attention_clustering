{
 "cells": [
  {
   "cell_type": "markdown",
   "id": "50072f78-0b7d-4255-8648-54a6b8b07b5c",
   "metadata": {},
   "source": [
    "Segmenting the 130k Squad2 Dataset\n",
    "\n",
    "Currently in 26 files of 5000 examples apiece ( 16gb, 720,000 rows  )\n",
    "\n",
    "Initial Segmentation for Dask, 26 files of 300 examples apiece ( each ~1GB )\n",
    "144 rows / example = 43,200 rows/segment"
   ]
  },
  {
   "cell_type": "code",
   "execution_count": 4,
   "id": "45db2b60-5793-4a28-86e0-efafbe19c7b2",
   "metadata": {},
   "outputs": [],
   "source": [
    "import pandas as pd\n",
    "import os"
   ]
  },
  {
   "cell_type": "code",
   "execution_count": 24,
   "id": "2918441d-93b8-4325-99cb-12b340633559",
   "metadata": {},
   "outputs": [
    {
     "name": "stdout",
     "output_type": "stream",
     "text": [
      "Beginning segmentation of 5000 ...Beginning segmentation of 15000 ...Beginning segmentation of 25000 ...Beginning segmentation of 35000 ...Beginning segmentation of 45000 ...Beginning segmentation of 55000 ...\n",
      "\n",
      "\n",
      "\n",
      "\n",
      "\n",
      "Writing segment 25000 ...\n",
      "Writing segment 15000 ...\n",
      "Writing segment 55000 ...\n",
      "Writing segment 45000 ...\n",
      "Writing segment 35000 ...\n",
      "Writing segment 5000 ...\n",
      "Beginning segmentation of 65000 ...\n",
      "Beginning segmentation of 75000 ...\n",
      "Beginning segmentation of 85000 ...\n",
      "Beginning segmentation of 95000 ...\n",
      "Beginning segmentation of 105000 ...\n",
      "Beginning segmentation of 115000 ...\n",
      "Writing segment 65000 ...\n",
      "Writing segment 75000 ...\n",
      "Writing segment 85000 ...\n",
      "Writing segment 95000 ...\n",
      "Writing segment 105000 ...\n",
      "Writing segment 115000 ...\n",
      "Beginning segmentation of 125000 ...\n",
      "Writing segment 125000 ...\n",
      "Beginning segmentation of 20000 ...Beginning segmentation of 30000 ...Beginning segmentation of 10000 ...Beginning segmentation of 50000 ...Beginning segmentation of 40000 ...Beginning segmentation of 60000 ...\n",
      "\n",
      "\n",
      "\n",
      "\n",
      "\n",
      "Writing segment 30000 ...\n",
      "Writing segment 20000 ...\n",
      "Writing segment 60000 ...\n",
      "Writing segment 50000 ...\n",
      "Writing segment 40000 ...\n",
      "Writing segment 10000 ...\n",
      "Beginning segmentation of 70000 ...\n",
      "Beginning segmentation of 80000 ...\n",
      "Beginning segmentation of 90000 ...\n",
      "Beginning segmentation of 100000 ...\n",
      "Beginning segmentation of 110000 ...\n",
      "Beginning segmentation of 120000 ...\n",
      "Writing segment 70000 ...\n",
      "Writing segment 80000 ...\n",
      "Writing segment 90000 ...\n",
      "Writing segment 100000 ...\n",
      "Writing segment 120000 ...\n",
      "Writing segment 110000 ...\n",
      "Beginning segmentation of 130000 ...\n",
      "Writing segment 130000 ...\n"
     ]
    }
   ],
   "source": [
    "import time\n",
    "\n",
    "import multiprocessing as mp\n",
    "p = mp.Pool(6)"
   ]
  },
  {
   "cell_type": "code",
   "execution_count": 25,
   "id": "6552fd03-7d3b-4978-9cf9-b3cd9989ccdb",
   "metadata": {},
   "outputs": [],
   "source": [
    "data_dir='/rapids/notebooks/host/representations/final/'"
   ]
  },
  {
   "cell_type": "code",
   "execution_count": 26,
   "id": "9b629f48-ae8b-4260-a6e8-497b477b877b",
   "metadata": {},
   "outputs": [],
   "source": [
    "def segment(count):\n",
    "        start_time = time.time()\n",
    "        print(f'Beginning segmentation of {count} ...')\n",
    "        df = pd.read_csv(os.path .join(data_dir,f'final_representation_df_{count}.csv'), nrows=43000)\n",
    "        print(f'Writing segment {count} ...')\n",
    "        df.to_csv(os.path .join(data_dir, f'full_partitions/partition_{count}.csv'), index=False)  \n",
    "        print(f'--- Finished writing segment {count} in {(time.time() - start_time)} seconds ---\"')\n",
    "        print(\"--- %s seconds ---\" % (time.time() - start_time))\n",
    "        return count"
   ]
  },
  {
   "cell_type": "code",
   "execution_count": 28,
   "id": "3ff55b88-c640-498f-82e9-dba820620ee9",
   "metadata": {},
   "outputs": [
    {
     "ename": "NameError",
     "evalue": "name 'start_time' is not defined",
     "output_type": "error",
     "traceback": [
      "\u001b[0;31m---------------------------------------------------------------------------\u001b[0m",
      "\u001b[0;31mRemoteTraceback\u001b[0m                           Traceback (most recent call last)",
      "\u001b[0;31mRemoteTraceback\u001b[0m: \n\"\"\"\nTraceback (most recent call last):\n  File \"/opt/conda/envs/rapids/lib/python3.7/multiprocessing/pool.py\", line 121, in worker\n    result = (True, func(*args, **kwds))\n  File \"/opt/conda/envs/rapids/lib/python3.7/multiprocessing/pool.py\", line 44, in mapstar\n    return list(map(*args))\n  File \"<ipython-input-20-226be256ddbb>\", line 6, in segment\n    print(f'--- Finished writing segment {count} in {(time.time() - start_time)} seconds ---\"')\nNameError: name 'start_time' is not defined\n\"\"\"",
      "\nThe above exception was the direct cause of the following exception:\n",
      "\u001b[0;31mNameError\u001b[0m                                 Traceback (most recent call last)",
      "\u001b[0;32m<ipython-input-28-a79499e87a78>\u001b[0m in \u001b[0;36m<module>\u001b[0;34m\u001b[0m\n\u001b[0;32m----> 1\u001b[0;31m \u001b[0mx\u001b[0m \u001b[0;34m=\u001b[0m \u001b[0mp\u001b[0m\u001b[0;34m.\u001b[0m\u001b[0mmap\u001b[0m\u001b[0;34m(\u001b[0m\u001b[0msegment\u001b[0m\u001b[0;34m,\u001b[0m \u001b[0mrange\u001b[0m\u001b[0;34m(\u001b[0m\u001b[0;36m10000\u001b[0m\u001b[0;34m,\u001b[0m\u001b[0;36m140000\u001b[0m\u001b[0;34m,\u001b[0m\u001b[0;36m10000\u001b[0m\u001b[0;34m)\u001b[0m\u001b[0;34m)\u001b[0m\u001b[0;34m\u001b[0m\u001b[0;34m\u001b[0m\u001b[0m\n\u001b[0m",
      "\u001b[0;32m/opt/conda/envs/rapids/lib/python3.7/multiprocessing/pool.py\u001b[0m in \u001b[0;36mmap\u001b[0;34m(self, func, iterable, chunksize)\u001b[0m\n\u001b[1;32m    266\u001b[0m         \u001b[0;32min\u001b[0m \u001b[0ma\u001b[0m \u001b[0mlist\u001b[0m \u001b[0mthat\u001b[0m \u001b[0;32mis\u001b[0m \u001b[0mreturned\u001b[0m\u001b[0;34m.\u001b[0m\u001b[0;34m\u001b[0m\u001b[0;34m\u001b[0m\u001b[0m\n\u001b[1;32m    267\u001b[0m         '''\n\u001b[0;32m--> 268\u001b[0;31m         \u001b[0;32mreturn\u001b[0m \u001b[0mself\u001b[0m\u001b[0;34m.\u001b[0m\u001b[0m_map_async\u001b[0m\u001b[0;34m(\u001b[0m\u001b[0mfunc\u001b[0m\u001b[0;34m,\u001b[0m \u001b[0miterable\u001b[0m\u001b[0;34m,\u001b[0m \u001b[0mmapstar\u001b[0m\u001b[0;34m,\u001b[0m \u001b[0mchunksize\u001b[0m\u001b[0;34m)\u001b[0m\u001b[0;34m.\u001b[0m\u001b[0mget\u001b[0m\u001b[0;34m(\u001b[0m\u001b[0;34m)\u001b[0m\u001b[0;34m\u001b[0m\u001b[0;34m\u001b[0m\u001b[0m\n\u001b[0m\u001b[1;32m    269\u001b[0m \u001b[0;34m\u001b[0m\u001b[0m\n\u001b[1;32m    270\u001b[0m     \u001b[0;32mdef\u001b[0m \u001b[0mstarmap\u001b[0m\u001b[0;34m(\u001b[0m\u001b[0mself\u001b[0m\u001b[0;34m,\u001b[0m \u001b[0mfunc\u001b[0m\u001b[0;34m,\u001b[0m \u001b[0miterable\u001b[0m\u001b[0;34m,\u001b[0m \u001b[0mchunksize\u001b[0m\u001b[0;34m=\u001b[0m\u001b[0;32mNone\u001b[0m\u001b[0;34m)\u001b[0m\u001b[0;34m:\u001b[0m\u001b[0;34m\u001b[0m\u001b[0;34m\u001b[0m\u001b[0m\n",
      "\u001b[0;32m/opt/conda/envs/rapids/lib/python3.7/multiprocessing/pool.py\u001b[0m in \u001b[0;36mget\u001b[0;34m(self, timeout)\u001b[0m\n\u001b[1;32m    655\u001b[0m             \u001b[0;32mreturn\u001b[0m \u001b[0mself\u001b[0m\u001b[0;34m.\u001b[0m\u001b[0m_value\u001b[0m\u001b[0;34m\u001b[0m\u001b[0;34m\u001b[0m\u001b[0m\n\u001b[1;32m    656\u001b[0m         \u001b[0;32melse\u001b[0m\u001b[0;34m:\u001b[0m\u001b[0;34m\u001b[0m\u001b[0;34m\u001b[0m\u001b[0m\n\u001b[0;32m--> 657\u001b[0;31m             \u001b[0;32mraise\u001b[0m \u001b[0mself\u001b[0m\u001b[0;34m.\u001b[0m\u001b[0m_value\u001b[0m\u001b[0;34m\u001b[0m\u001b[0;34m\u001b[0m\u001b[0m\n\u001b[0m\u001b[1;32m    658\u001b[0m \u001b[0;34m\u001b[0m\u001b[0m\n\u001b[1;32m    659\u001b[0m     \u001b[0;32mdef\u001b[0m \u001b[0m_set\u001b[0m\u001b[0;34m(\u001b[0m\u001b[0mself\u001b[0m\u001b[0;34m,\u001b[0m \u001b[0mi\u001b[0m\u001b[0;34m,\u001b[0m \u001b[0mobj\u001b[0m\u001b[0;34m)\u001b[0m\u001b[0;34m:\u001b[0m\u001b[0;34m\u001b[0m\u001b[0;34m\u001b[0m\u001b[0m\n",
      "\u001b[0;31mNameError\u001b[0m: name 'start_time' is not defined"
     ]
    }
   ],
   "source": [
    "x = p.map(segment, range(10000,140000,10000))"
   ]
  },
  {
   "cell_type": "code",
   "execution_count": 22,
   "id": "47f71683-b28d-4a37-8989-4f9fd32722f9",
   "metadata": {},
   "outputs": [],
   "source": [
    "x = map(segment, range(5000,135000,5000))"
   ]
  },
  {
   "cell_type": "code",
   "execution_count": 23,
   "id": "44802828-0342-4166-b9c9-61d737e30160",
   "metadata": {},
   "outputs": [
    {
     "name": "stdout",
     "output_type": "stream",
     "text": [
      "Beginning segmentation of 5000 ...\n",
      "Writing segment 5000 ...\n"
     ]
    },
    {
     "ename": "NameError",
     "evalue": "name 'start_time' is not defined",
     "output_type": "error",
     "traceback": [
      "\u001b[0;31m---------------------------------------------------------------------------\u001b[0m",
      "\u001b[0;31mNameError\u001b[0m                                 Traceback (most recent call last)",
      "\u001b[0;32m<ipython-input-23-4b370f5b7193>\u001b[0m in \u001b[0;36m<module>\u001b[0;34m\u001b[0m\n\u001b[0;32m----> 1\u001b[0;31m \u001b[0mlist\u001b[0m\u001b[0;34m(\u001b[0m\u001b[0mx\u001b[0m\u001b[0;34m)\u001b[0m\u001b[0;34m\u001b[0m\u001b[0;34m\u001b[0m\u001b[0m\n\u001b[0m",
      "\u001b[0;32m<ipython-input-20-226be256ddbb>\u001b[0m in \u001b[0;36msegment\u001b[0;34m(count)\u001b[0m\n\u001b[1;32m      4\u001b[0m         \u001b[0mprint\u001b[0m\u001b[0;34m(\u001b[0m\u001b[0;34mf'Writing segment {count} ...'\u001b[0m\u001b[0;34m)\u001b[0m\u001b[0;34m\u001b[0m\u001b[0;34m\u001b[0m\u001b[0m\n\u001b[1;32m      5\u001b[0m         \u001b[0mdf\u001b[0m\u001b[0;34m.\u001b[0m\u001b[0mto_csv\u001b[0m\u001b[0;34m(\u001b[0m\u001b[0mos\u001b[0m\u001b[0;34m.\u001b[0m\u001b[0mpath\u001b[0m \u001b[0;34m.\u001b[0m\u001b[0mjoin\u001b[0m\u001b[0;34m(\u001b[0m\u001b[0mdata_dir\u001b[0m\u001b[0;34m,\u001b[0m \u001b[0;34mf'full_partitions/partition_{count}.csv'\u001b[0m\u001b[0;34m)\u001b[0m\u001b[0;34m,\u001b[0m \u001b[0mindex\u001b[0m\u001b[0;34m=\u001b[0m\u001b[0;32mFalse\u001b[0m\u001b[0;34m)\u001b[0m\u001b[0;34m\u001b[0m\u001b[0;34m\u001b[0m\u001b[0m\n\u001b[0;32m----> 6\u001b[0;31m         \u001b[0mprint\u001b[0m\u001b[0;34m(\u001b[0m\u001b[0;34mf'--- Finished writing segment {count} in {(time.time() - start_time)} seconds ---\"'\u001b[0m\u001b[0;34m)\u001b[0m\u001b[0;34m\u001b[0m\u001b[0;34m\u001b[0m\u001b[0m\n\u001b[0m\u001b[1;32m      7\u001b[0m         \u001b[0mprint\u001b[0m\u001b[0;34m(\u001b[0m\u001b[0;34m\"--- %s seconds ---\"\u001b[0m \u001b[0;34m%\u001b[0m \u001b[0;34m(\u001b[0m\u001b[0mtime\u001b[0m\u001b[0;34m.\u001b[0m\u001b[0mtime\u001b[0m\u001b[0;34m(\u001b[0m\u001b[0;34m)\u001b[0m \u001b[0;34m-\u001b[0m \u001b[0mstart_time\u001b[0m\u001b[0;34m)\u001b[0m\u001b[0;34m)\u001b[0m\u001b[0;34m\u001b[0m\u001b[0;34m\u001b[0m\u001b[0m\n\u001b[1;32m      8\u001b[0m         \u001b[0;32mreturn\u001b[0m \u001b[0mcount\u001b[0m\u001b[0;34m\u001b[0m\u001b[0;34m\u001b[0m\u001b[0m\n",
      "\u001b[0;31mNameError\u001b[0m: name 'start_time' is not defined"
     ]
    }
   ],
   "source": [
    "list(x)"
   ]
  },
  {
   "cell_type": "code",
   "execution_count": null,
   "id": "b3e5f7e8-e7de-48ec-b969-786bbe3c3889",
   "metadata": {},
   "outputs": [],
   "source": []
  }
 ],
 "metadata": {
  "kernelspec": {
   "display_name": "Python 3",
   "language": "python",
   "name": "python3"
  },
  "language_info": {
   "codemirror_mode": {
    "name": "ipython",
    "version": 3
   },
   "file_extension": ".py",
   "mimetype": "text/x-python",
   "name": "python",
   "nbconvert_exporter": "python",
   "pygments_lexer": "ipython3",
   "version": "3.7.10"
  }
 },
 "nbformat": 4,
 "nbformat_minor": 5
}
