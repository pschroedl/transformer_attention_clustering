{
 "cells": [
  {
   "cell_type": "code",
   "execution_count": 1,
   "metadata": {},
   "outputs": [],
   "source": [
    "import cuml\n",
    "import cudf\n",
    "import os\n",
    "import time"
   ]
  },
  {
   "cell_type": "code",
   "execution_count": 2,
   "metadata": {},
   "outputs": [],
   "source": [
    "import seaborn as sns\n",
    "import pandas as pd\n",
    "import matplotlib.pyplot as plt\n",
    "import numpy as np"
   ]
  },
  {
   "cell_type": "code",
   "execution_count": 3,
   "metadata": {},
   "outputs": [],
   "source": [
    "from cuml.cluster import KMeans as cuKMeans\n",
    "from cuml.neighbors import NearestNeighbors\n",
    "import cupy"
   ]
  },
  {
   "cell_type": "code",
   "execution_count": 4,
   "metadata": {},
   "outputs": [],
   "source": [
    "from dask_cuda import LocalCUDACluster\n",
    "import dask_cudf\n",
    "from dask.distributed import Client\n",
    "import dask.dataframe as dd\n",
    "from cuml.dask.cluster.dbscan import DBSCAN as daskDBSCAN"
   ]
  },
  {
   "cell_type": "code",
   "execution_count": 5,
   "metadata": {},
   "outputs": [],
   "source": [
    "cluster = LocalCUDACluster(CUDA_VISIBLE_DEVICES=\"0,1\")\n",
    "client = Client(cluster)"
   ]
  },
  {
   "cell_type": "code",
   "execution_count": 6,
   "metadata": {},
   "outputs": [
    {
     "name": "stdout",
     "output_type": "stream",
     "text": [
      "Python 3.7.10\n"
     ]
    }
   ],
   "source": [
    "!python --version"
   ]
  },
  {
   "cell_type": "code",
   "execution_count": 14,
   "metadata": {},
   "outputs": [
    {
     "name": "stdout",
     "output_type": "stream",
     "text": [
      "/rapids/notebooks/host/transformer_attention_clustering/clustering\n"
     ]
    }
   ],
   "source": [
    "!pwd"
   ]
  },
  {
   "cell_type": "code",
   "execution_count": 8,
   "metadata": {},
   "outputs": [],
   "source": [
    "output_dir='/rapids/notebooks/host/representations/output/'"
   ]
  },
  {
   "cell_type": "code",
   "execution_count": 16,
   "metadata": {},
   "outputs": [],
   "source": [
    "import glob\n",
    "\n",
    "def pd_read_pattern(pattern):\n",
    "    files = glob.glob(pattern)\n",
    "\n",
    "    df = pd.DataFrame()\n",
    "    for f in files:\n",
    "        df = df.append(pd.read_csv(f))\n",
    "\n",
    "    return df.reset_index(drop=True)\n"
   ]
  },
  {
   "cell_type": "code",
   "execution_count": 17,
   "metadata": {},
   "outputs": [],
   "source": [
    "# load full partitioned dataset - read in as pandas df,\n",
    "# for some reason dask cuml dbscan doesn't accept a dask cdDF?\n",
    "# https://docs.rapids.ai/api/cuml/nightly/api.html?highlight=regression#multi-node-multi-gpu-algorithms\n",
    "gdf = pd_read_pattern('/rapids/notebooks/host/representations/final/partitions/*.csv')"
   ]
  },
  {
   "cell_type": "code",
   "execution_count": null,
   "metadata": {},
   "outputs": [],
   "source": []
  },
  {
   "cell_type": "code",
   "execution_count": null,
   "metadata": {},
   "outputs": [],
   "source": [
    "%%time\n",
    "cuml_dbscan = daskDBSCAN( eps = 0.75,\n",
    "                          metric='euclidean',\n",
    "                          min_samples = 10,\n",
    "                          max_mbytes_per_batch = 10000\n",
    "                        )\n",
    "\n",
    "start_time = time.time()\n",
    "trained_DBSCAN = cuml_dbscan.fit(gdf)\n",
    "print(\"--- %s seconds ---\" % (time.time() - start_time))\n",
    "\n",
    "labels = trained_DBSCAN.labels_.values_host\n",
    "\n",
    "# Number of clusters in labels, ignoring noise if present.\n",
    "n_clusters_ = len(set(labels)) - (1 if -1 in labels else 0)\n",
    "n_noise_ = list(labels).count(-1)\n",
    "print('Estimated number of clusters: %d' % n_clusters_)\n",
    "print('Estimated number of noise points: %d' % n_noise_)\n",
    "\n"
   ]
  },
  {
   "cell_type": "code",
   "execution_count": 44,
   "metadata": {},
   "outputs": [
    {
     "name": "stderr",
     "output_type": "stream",
     "text": [
      "/opt/conda/envs/rapids/lib/python3.7/site-packages/seaborn/_decorators.py:43: FutureWarning: Pass the following variables as keyword args: x, y. From version 0.12, the only valid positional argument will be `data`, and passing other arguments without an explicit keyword will result in an error or misinterpretation.\n",
      "  FutureWarning\n"
     ]
    },
    {
     "data": {
      "text/plain": [
       "<AxesSubplot:>"
      ]
     },
     "execution_count": 44,
     "metadata": {},
     "output_type": "execute_result"
    },
    {
     "data": {
      "image/png": "[encoded data removed]",
      "text/plain": [
       "<Figure size 432x288 with 1 Axes>"
      ]
     },
     "metadata": {
      "needs_background": "light"
     },
     "output_type": "display_data"
    }
   ],
   "source": [
    "df_labels = pd.DataFrame(trained_DBSCAN.labels_.to_pandas())\n",
    "rating_count = df_labels[0].value_counts()\n",
    "\n",
    "x = rating_count.index\n",
    "y = rating_count.values\n",
    "\n",
    "sns.barplot(x, y)"
   ]
  },
  {
   "cell_type": "code",
   "execution_count": 45,
   "metadata": {},
   "outputs": [
    {
     "data": {
      "text/plain": [
       " 0     62977\n",
       "-1     36019\n",
       " 2       352\n",
       " 11       50\n",
       " 5        35\n",
       " 1        22\n",
       " 3        22\n",
       " 35       21\n",
       " 18       19\n",
       " 23       16\n",
       " 20       16\n",
       " 21       15\n",
       " 22       14\n",
       " 19       14\n",
       " 24       13\n",
       " 39       12\n",
       " 41       12\n",
       " 33       12\n",
       " 38       12\n",
       " 42       12\n",
       " 10       12\n",
       " 4        12\n",
       " 27       11\n",
       " 44       11\n",
       " 25       11\n",
       " 28       11\n",
       " 26       10\n",
       " 37       10\n",
       " 54       10\n",
       " 51       10\n",
       " 50       10\n",
       " 49       10\n",
       " 47       10\n",
       " 45       10\n",
       " 43       10\n",
       " 17       10\n",
       " 12       10\n",
       " 8        10\n",
       " 36       10\n",
       " 15       10\n",
       " 13       10\n",
       " 30       10\n",
       " 34       10\n",
       " 31       10\n",
       " 9         9\n",
       " 32        9\n",
       " 40        9\n",
       " 14        8\n",
       " 7         8\n",
       " 29        8\n",
       " 6         7\n",
       " 16        7\n",
       " 46        6\n",
       " 48        6\n",
       " 52        6\n",
       " 53        4\n",
       "Name: 0, dtype: int64"
      ]
     },
     "execution_count": 45,
     "metadata": {},
     "output_type": "execute_result"
    }
   ],
   "source": [
    "rating_count"
   ]
  },
  {
   "cell_type": "code",
   "execution_count": 7,
   "metadata": {},
   "outputs": [],
   "source": [
    "med = df[:400000]"
   ]
  },
  {
   "cell_type": "code",
   "execution_count": 8,
   "metadata": {},
   "outputs": [],
   "source": [
    "med = med.iloc[:,1:]"
   ]
  },
  {
   "cell_type": "code",
   "execution_count": 9,
   "metadata": {},
   "outputs": [
    {
     "name": "stdout",
     "output_type": "stream",
     "text": [
      "--- 4578.115650892258 seconds ---\n",
      "Estimated number of clusters: 69\n",
      "Estimated number of noise points: 105521\n",
      "CPU times: user 1h 16min 21s, sys: 2.47 s, total: 1h 16min 23s\n",
      "Wall time: 1h 16min 18s\n"
     ]
    }
   ],
   "source": [
    "%%time\n",
    "cuml_dbscan = cumlDBSCAN( eps = 0.75,\n",
    "                          metric='euclidean', #default - no manhattan here?\n",
    "                          min_samples = 10,\n",
    "                          max_mbytes_per_batch = 10000\n",
    "                        )\n",
    "\n",
    "start_time = time.time()\n",
    "trained_DBSCAN = cuml_dbscan.fit(med)\n",
    "print(\"--- %s seconds ---\" % (time.time() - start_time))\n",
    "\n",
    "labels = trained_DBSCAN.labels_.values_host\n",
    "\n",
    "# Number of clusters in labels, ignoring noise if present.\n",
    "n_clusters_ = len(set(labels)) - (1 if -1 in labels else 0)\n",
    "n_noise_ = list(labels).count(-1)\n",
    "print('Estimated number of clusters: %d' % n_clusters_)\n",
    "print('Estimated number of noise points: %d' % n_noise_)\n",
    "\n"
   ]
  },
  {
   "cell_type": "code",
   "execution_count": 13,
   "metadata": {},
   "outputs": [
    {
     "name": "stderr",
     "output_type": "stream",
     "text": [
      "/opt/conda/envs/rapids/lib/python3.7/site-packages/seaborn/_decorators.py:43: FutureWarning: Pass the following variables as keyword args: x, y. From version 0.12, the only valid positional argument will be `data`, and passing other arguments without an explicit keyword will result in an error or misinterpretation.\n",
      "  FutureWarning\n"
     ]
    },
    {
     "data": {
      "text/plain": [
       "<AxesSubplot:>"
      ]
     },
     "execution_count": 13,
     "metadata": {},
     "output_type": "execute_result"
    },
    {
     "data": {
      "image/png": "[encoded data removed]",
      "text/plain": [
       "<Figure size 432x288 with 1 Axes>"
      ]
     },
     "metadata": {
      "needs_background": "light"
     },
     "output_type": "display_data"
    }
   ],
   "source": [
    "df_labels = pd.DataFrame(trained_DBSCAN.labels_.to_pandas())\n",
    "label_count = df_labels[0].value_counts()\n",
    "\n",
    "x = label_count.index\n",
    "y = label_count.values\n",
    "\n",
    "sns.barplot(x, y)"
   ]
  },
  {
   "cell_type": "code",
   "execution_count": 14,
   "metadata": {},
   "outputs": [
    {
     "data": {
      "text/plain": [
       " 0     293241\n",
       "-1     105521\n",
       " 2        198\n",
       " 4         46\n",
       " 10        42\n",
       "        ...  \n",
       " 67         8\n",
       " 9          7\n",
       " 56         7\n",
       " 43         7\n",
       " 57         5\n",
       "Name: 0, Length: 70, dtype: int64"
      ]
     },
     "execution_count": 14,
     "metadata": {},
     "output_type": "execute_result"
    }
   ],
   "source": [
    "rating_count"
   ]
  },
  {
   "cell_type": "code",
   "execution_count": 15,
   "metadata": {},
   "outputs": [
    {
     "data": {
      "text/plain": [
       " 0     293241\n",
       "-1     105521\n",
       " 2        198\n",
       " 4         46\n",
       " 10        42\n",
       " 1         40\n",
       " 6         40\n",
       " 60        37\n",
       " 26        33\n",
       " 25        33\n",
       " 51        30\n",
       " 15        30\n",
       " 5         28\n",
       " 14        26\n",
       " 46        24\n",
       " 7         23\n",
       " 13        21\n",
       " 45        21\n",
       " 8         19\n",
       " 53        19\n",
       "Name: 0, dtype: int64"
      ]
     },
     "execution_count": 15,
     "metadata": {},
     "output_type": "execute_result"
    }
   ],
   "source": [
    "rating_count[:20]"
   ]
  },
  {
   "cell_type": "code",
   "execution_count": null,
   "metadata": {},
   "outputs": [],
   "source": []
  }
 ],
 "metadata": {
  "kernelspec": {
   "display_name": "Python 3",
   "language": "python",
   "name": "python3"
  },
  "language_info": {
   "codemirror_mode": {
    "name": "ipython",
    "version": 3
   },
   "file_extension": ".py",
   "mimetype": "text/x-python",
   "name": "python",
   "nbconvert_exporter": "python",
   "pygments_lexer": "ipython3",
   "version": "3.7.10"
  }
 },
 "nbformat": 4,
 "nbformat_minor": 4
}
