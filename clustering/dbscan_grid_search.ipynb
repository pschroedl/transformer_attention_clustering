{
 "cells": [
  {
   "cell_type": "markdown",
   "metadata": {},
   "source": [
    "# DBSCAN grid search for epsilon and min samples parameters\n",
    "\n",
    "After running nearest neighbors on a subset of our data, we visually confirm can probably narrow down optimal epsilon to between 0.8-0.9\n",
    "\n",
    "To make a grid search feasable time wise, we load a subset of our dataset for grid search: 1500 squad2 examples - 300 starting from 10.000,30.000,50.000,70.000,90.000\n"
   ]
  },
  {
   "cell_type": "code",
   "execution_count": 1,
   "metadata": {},
   "outputs": [],
   "source": [
    "import cuml\n",
    "import cudf\n",
    "import os\n",
    "import time"
   ]
  },
  {
   "cell_type": "code",
   "execution_count": 2,
   "metadata": {},
   "outputs": [],
   "source": [
    "import seaborn as sns\n",
    "import pandas as pd\n",
    "import matplotlib.pyplot as plt\n",
    "import numpy as np\n",
    "%matplotlib inline"
   ]
  },
  {
   "cell_type": "code",
   "execution_count": 3,
   "metadata": {},
   "outputs": [],
   "source": [
    "from cuml.cluster import KMeans as cuKMeans\n",
    "from cuml.neighbors import NearestNeighbors\n",
    "import cupy"
   ]
  },
  {
   "cell_type": "code",
   "execution_count": 4,
   "metadata": {},
   "outputs": [],
   "source": [
    "from dask_cuda import LocalCUDACluster\n",
    "import dask_cudf\n",
    "from dask.distributed import Client\n",
    "import dask.dataframe as dd\n",
    "from cuml.dask.cluster.dbscan import DBSCAN as daskDBSCAN"
   ]
  },
  {
   "cell_type": "code",
   "execution_count": 5,
   "metadata": {},
   "outputs": [],
   "source": [
    "# cluster = LocalCUDACluster()\n",
    "# client = Client(cluster)"
   ]
  },
  {
   "cell_type": "code",
   "execution_count": 6,
   "metadata": {},
   "outputs": [
    {
     "data": {
      "text/html": [
       "<table style=\"border: 2px solid white;\">\n",
       "<tr>\n",
       "<td style=\"vertical-align: top; border: 0px solid white\">\n",
       "<h3 style=\"text-align: left;\">Client</h3>\n",
       "<ul style=\"text-align: left; list-style: none; margin: 0; padding: 0;\">\n",
       "  <li><b>Scheduler: </b>tcp://127.0.0.1:37687</li>\n",
       "  <li><b>Dashboard: </b><a href='http://127.0.0.1:8787/status' target='_blank'>http://127.0.0.1:8787/status</a></li>\n",
       "</ul>\n",
       "</td>\n",
       "<td style=\"vertical-align: top; border: 0px solid white\">\n",
       "<h3 style=\"text-align: left;\">Cluster</h3>\n",
       "<ul style=\"text-align: left; list-style:none; margin: 0; padding: 0;\">\n",
       "  <li><b>Workers: </b>2</li>\n",
       "  <li><b>Cores: </b>2</li>\n",
       "  <li><b>Memory: </b>125.50 GiB</li>\n",
       "</ul>\n",
       "</td>\n",
       "</tr>\n",
       "</table>"
      ],
      "text/plain": [
       "<Client: 'tcp://127.0.0.1:37687' processes=2 threads=2, memory=125.50 GiB>"
      ]
     },
     "execution_count": 6,
     "metadata": {},
     "output_type": "execute_result"
    }
   ],
   "source": [
    "client = Client(\"tcp://127.0.0.1:37687\")\n",
    "client"
   ]
  },
  {
   "cell_type": "code",
   "execution_count": 7,
   "metadata": {},
   "outputs": [],
   "source": [
    "# client"
   ]
  },
  {
   "cell_type": "code",
   "execution_count": 7,
   "metadata": {},
   "outputs": [],
   "source": [
    "import glob\n",
    "\n",
    "def pd_read_pattern(pattern):\n",
    "    files = glob.glob(pattern)\n",
    "\n",
    "    df = pd.DataFrame()\n",
    "    for f in files:\n",
    "        df = df.append(pd.read_csv(f))\n",
    "\n",
    "    return df.reset_index(drop=True)"
   ]
  },
  {
   "cell_type": "code",
   "execution_count": 8,
   "metadata": {},
   "outputs": [],
   "source": [
    "# load full partitioned dataset - read in as pandas df,\n",
    "# for some reason dask cuml dbscan doesn't accept a dask cdDF?\n",
    "# https://docs.rapids.ai/api/cuml/nightly/api.html?highlight=regression#multi-node-multi-gpu-algorithms\n",
    "gdf = pd_read_pattern('/rapids/notebooks/host/representations/final/partitions/subset/*.csv')"
   ]
  },
  {
   "cell_type": "code",
   "execution_count": 20,
   "metadata": {},
   "outputs": [
    {
     "data": {
      "text/plain": [
       "[<matplotlib.lines.Line2D at 0x7f1e55331390>]"
      ]
     },
     "execution_count": 20,
     "metadata": {},
     "output_type": "execute_result"
    },
    {
     "data": {
      "image/png": "[encoded data removed]",
      "text/plain": [
       "<Figure size 720x360 with 1 Axes>"
      ]
     },
     "metadata": {
      "needs_background": "light"
     },
     "output_type": "display_data"
    }
   ],
   "source": [
    "# %matplotlib widget\n",
    "plt.figure(figsize=(10,5))\n",
    "nn = NearestNeighbors(n_neighbors=5).fit(gdf)\n",
    "distances, idx = nn.kneighbors(gdf)\n",
    "distances = cupy.asnumpy(distances)\n",
    "distances = np.sort(distances, axis=0)\n",
    "distances = distances[:,1]\n",
    "\n",
    "# plt.xticks(np.arange(min(distances), max(distances)+1, 1.0))\n",
    "plt.plot(distances)"
   ]
  },
  {
   "cell_type": "code",
   "execution_count": 12,
   "metadata": {},
   "outputs": [
    {
     "name": "stdout",
     "output_type": "stream",
     "text": [
      "e: 0.8 s: 4 c: 672 n: 31639\n",
      "e: 0.8 s: 10 c: 43 n: 40278\n",
      "e: 0.8 s: 16 c: 19 n: 43566\n",
      "e: 0.8 s: 22 c: 13 n: 45526\n",
      "e: 0.8 s: 28 c: 8 n: 46894\n",
      "e: 0.81 s: 4 c: 515 n: 27025\n",
      "e: 0.81 s: 10 c: 41 n: 34217\n",
      "e: 0.81 s: 16 c: 13 n: 37113\n",
      "e: 0.81 s: 22 c: 6 n: 39034\n",
      "e: 0.81 s: 28 c: 7 n: 40375\n",
      "e: 0.8200000000000001 s: 4 c: 390 n: 22987\n",
      "e: 0.8200000000000001 s: 10 c: 27 n: 28796\n",
      "e: 0.8200000000000001 s: 16 c: 15 n: 31286\n",
      "e: 0.8200000000000001 s: 22 c: 9 n: 32855\n",
      "e: 0.8200000000000001 s: 28 c: 5 n: 34104\n",
      "e: 0.8300000000000001 s: 4 c: 309 n: 19372\n",
      "e: 0.8300000000000001 s: 10 c: 17 n: 24079\n",
      "e: 0.8300000000000001 s: 16 c: 10 n: 26048\n",
      "e: 0.8300000000000001 s: 22 c: 5 n: 27384\n",
      "e: 0.8300000000000001 s: 28 c: 8 n: 28444\n",
      "e: 0.8400000000000001 s: 4 c: 222 n: 16018\n",
      "e: 0.8400000000000001 s: 10 c: 13 n: 20014\n",
      "e: 0.8400000000000001 s: 16 c: 4 n: 21587\n",
      "e: 0.8400000000000001 s: 22 c: 4 n: 22562\n",
      "e: 0.8400000000000001 s: 28 c: 2 n: 23499\n",
      "e: 0.8500000000000001 s: 4 c: 178 n: 13130\n",
      "e: 0.8500000000000001 s: 10 c: 6 n: 16267\n",
      "e: 0.8500000000000001 s: 16 c: 6 n: 17613\n",
      "e: 0.8500000000000001 s: 22 c: 3 n: 18467\n",
      "e: 0.8500000000000001 s: 28 c: 3 n: 19163\n",
      "e: 0.8600000000000001 s: 4 c: 127 n: 10697\n",
      "e: 0.8600000000000001 s: 10 c: 4 n: 13136\n",
      "e: 0.8600000000000001 s: 16 c: 1 n: 14161\n",
      "e: 0.8600000000000001 s: 22 c: 1 n: 14860\n",
      "e: 0.8600000000000001 s: 28 c: 1 n: 15462\n",
      "e: 0.8700000000000001 s: 4 c: 94 n: 8570\n",
      "e: 0.8700000000000001 s: 10 c: 2 n: 10471\n",
      "e: 0.8700000000000001 s: 16 c: 1 n: 11325\n",
      "e: 0.8700000000000001 s: 22 c: 1 n: 11844\n",
      "e: 0.8700000000000001 s: 28 c: 1 n: 12275\n",
      "e: 0.8800000000000001 s: 4 c: 78 n: 6735\n",
      "e: 0.8800000000000001 s: 10 c: 1 n: 8281\n",
      "e: 0.8800000000000001 s: 16 c: 1 n: 8866\n",
      "e: 0.8800000000000001 s: 22 c: 1 n: 9358\n",
      "e: 0.8800000000000001 s: 28 c: 1 n: 9687\n",
      "e: 0.8900000000000001 s: 4 c: 53 n: 5276\n",
      "e: 0.8900000000000001 s: 10 c: 3 n: 6491\n",
      "e: 0.8900000000000001 s: 16 c: 1 n: 6992\n",
      "e: 0.8900000000000001 s: 22 c: 1 n: 7303\n",
      "e: 0.8900000000000001 s: 28 c: 1 n: 7566\n"
     ]
    }
   ],
   "source": [
    "\n",
    "results = pd.DataFrame(columns=['eps','min_samples','n_clusters','n_noise'])\n",
    "\n",
    "epsilon_range = np.arange(0.80,0.90,0.01)\n",
    "min_sample_range = range(4,30,6)\n",
    "\n",
    "for e in epsilon_range:\n",
    "    for m in min_sample_range:\n",
    "        eps = e\n",
    "        min_samples = m\n",
    "        cuml_dbscan = daskDBSCAN( eps = eps,\n",
    "                                  metric='euclidean',\n",
    "                                  min_samples = min_samples,\n",
    "                                  max_mbytes_per_batch = 10000\n",
    "                                )\n",
    "\n",
    "        trained_DBSCAN = cuml_dbscan.fit(gdf)\n",
    "        labels = trained_DBSCAN.labels_\n",
    "\n",
    "        n_clusters_ = len(set(labels)) - (1 if -1 in labels else 0)\n",
    "        n_noise_ = list(labels).count(-1)\n",
    "        print(f'e: {eps} s: {min_samples} c: {n_clusters_} n: {n_noise_}')\n",
    "\n",
    "        results.append({\n",
    "            'eps': eps,\n",
    "            'min_samples': min_samples,\n",
    "            'n_clusters': n_clusters_,\n",
    "            'n_noise': n_noise_\n",
    "        }, ignore_index=True)\n"
   ]
  },
  {
   "cell_type": "code",
   "execution_count": null,
   "metadata": {},
   "outputs": [],
   "source": []
  },
  {
   "cell_type": "code",
   "execution_count": 10,
   "metadata": {},
   "outputs": [
    {
     "name": "stdout",
     "output_type": "stream",
     "text": [
      "e: 0.84 s: 4 c: 222 n: 16018\n",
      "e: 0.84 s: 5 c: 124 n: 17044\n",
      "e: 0.84 s: 6 c: 58 n: 17954\n",
      "e: 0.84 s: 7 c: 49 n: 18529\n",
      "e: 0.84 s: 8 c: 36 n: 19068\n",
      "e: 0.84 s: 9 c: 19 n: 19582\n"
     ]
    }
   ],
   "source": [
    "\n",
    "results__epsilon_0_84 = pd.DataFrame(columns=['eps','min_samples','n_clusters','n_noise'])\n",
    "\n",
    "min_sample_range = range(4,10,1)\n",
    "\n",
    "\n",
    "for m in min_sample_range:\n",
    "    eps = 0.84\n",
    "    min_samples = m\n",
    "    cuml_dbscan = daskDBSCAN( eps = eps,\n",
    "                              metric='euclidean',\n",
    "                              min_samples = min_samples,\n",
    "                              max_mbytes_per_batch = 10000\n",
    "                            )\n",
    "\n",
    "    trained_DBSCAN = cuml_dbscan.fit(gdf)\n",
    "    labels = trained_DBSCAN.labels_\n",
    "\n",
    "    n_clusters_ = len(set(labels)) - (1 if -1 in labels else 0)\n",
    "    n_noise_ = list(labels).count(-1)\n",
    "    print(f'e: {eps} s: {min_samples} c: {n_clusters_} n: {n_noise_}')\n",
    "\n",
    "    results__epsilon_0_84.append({\n",
    "        'eps': eps,\n",
    "        'min_samples': min_samples,\n",
    "        'n_clusters': n_clusters_,\n",
    "        'n_noise': n_noise_\n",
    "    }, ignore_index=True)\n",
    "\n"
   ]
  },
  {
   "cell_type": "code",
   "execution_count": null,
   "metadata": {},
   "outputs": [],
   "source": []
  }
 ],
 "metadata": {
  "kernelspec": {
   "display_name": "Python 3",
   "language": "python",
   "name": "python3"
  },
  "language_info": {
   "codemirror_mode": {
    "name": "ipython",
    "version": 3
   },
   "file_extension": ".py",
   "mimetype": "text/x-python",
   "name": "python",
   "nbconvert_exporter": "python",
   "pygments_lexer": "ipython3",
   "version": "3.7.10"
  }
 },
 "nbformat": 4,
 "nbformat_minor": 4
}
