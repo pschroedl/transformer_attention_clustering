{
 "cells": [
  {
   "cell_type": "code",
   "execution_count": 1,
   "metadata": {},
   "outputs": [],
   "source": [
    "import cuml\n",
    "import cudf\n",
    "import os\n",
    "import time"
   ]
  },
  {
   "cell_type": "code",
   "execution_count": 2,
   "metadata": {},
   "outputs": [],
   "source": [
    "import seaborn as sns\n",
    "import pandas as pd\n",
    "import matplotlib.pyplot as plt\n",
    "import numpy as np"
   ]
  },
  {
   "cell_type": "code",
   "execution_count": 3,
   "metadata": {},
   "outputs": [],
   "source": [
    "# from cuml import DBSCAN as cumlDBSCAN\n",
    "from cuml.dask.cluster.kmeans import KMeans as daskKMeans\n",
    "from cuml.decomposition import PCA\n",
    "import cupy\n",
    "\n",
    "from dask_cuda import LocalCUDACluster\n",
    "import dask_cudf\n",
    "from dask.distributed import Client\n",
    "import dask.dataframe as dd\n",
    "\n",
    "from cuml.dask.cluster.dbscan import DBSCAN as daskDBSCAN\n",
    "# from dask_cuml.cluster import DBSCAN as daskDBSCAN"
   ]
  },
  {
   "cell_type": "code",
   "execution_count": 4,
   "metadata": {},
   "outputs": [
    {
     "name": "stdout",
     "output_type": "stream",
     "text": [
      "Python 3.7.10\n"
     ]
    }
   ],
   "source": [
    "!python --version"
   ]
  },
  {
   "cell_type": "code",
   "execution_count": 5,
   "metadata": {},
   "outputs": [
    {
     "name": "stdout",
     "output_type": "stream",
     "text": [
      "/rapids/notebooks/host\n"
     ]
    }
   ],
   "source": [
    "!pwd"
   ]
  },
  {
   "cell_type": "code",
   "execution_count": 6,
   "metadata": {},
   "outputs": [],
   "source": [
    "data_dir='/rapids/notebooks/host/'"
   ]
  },
  {
   "cell_type": "code",
   "execution_count": 7,
   "metadata": {},
   "outputs": [],
   "source": [
    "cluster = LocalCUDACluster()\n",
    "client = Client(cluster)"
   ]
  },
  {
   "cell_type": "code",
   "execution_count": 8,
   "metadata": {},
   "outputs": [],
   "source": [
    "# file_names = dd.read_csv(os.path.join(data_dir,'representation_df_10000.csv')) \\\n",
    "#         .repartition(npartitions=16) \\\n",
    "#         .to_csv('small_representations/*.csv', index=False)"
   ]
  },
  {
   "cell_type": "code",
   "execution_count": 8,
   "metadata": {},
   "outputs": [],
   "source": [
    "# note - using 'file://' prefix:\n",
    "#  \"If you use any prefix then we switch from using\n",
    "# the dask_cudf.read_csv implementation to using the \n",
    "# dask.dataframe.read_csv implementation, which is \n",
    "# generally battle-hardened. However, this implementation \n",
    "# first reads data on the CPU, and then moves it to \n",
    "# device memory. This introduces a GB/s bottleneck, but\n",
    "# that's about the same speed as the CSV parsing, so this\n",
    "# might not be terrible.\n",
    "# https://github.com/rapidsai/cudf/issues/3017\n",
    "gdf = dask_cudf.read_csv('file://small_representations/*.csv', npartitions=10)"
   ]
  },
  {
   "cell_type": "code",
   "execution_count": 10,
   "metadata": {},
   "outputs": [],
   "source": [
    "# gdf = dask_cudf.read_csv(os.path.join(data_dir,'representation_df_10000.csv'), npartitions=10)"
   ]
  },
  {
   "cell_type": "code",
   "execution_count": 26,
   "metadata": {},
   "outputs": [
    {
     "data": {
      "text/plain": [
       "dask_cudf.core.DataFrame"
      ]
     },
     "execution_count": 26,
     "metadata": {},
     "output_type": "execute_result"
    }
   ],
   "source": [
    "type(gdf)"
   ]
  },
  {
   "cell_type": "code",
   "execution_count": 27,
   "metadata": {},
   "outputs": [],
   "source": [
    "gdf = gdf.iloc[:,1:]"
   ]
  },
  {
   "cell_type": "code",
   "execution_count": 28,
   "metadata": {},
   "outputs": [
    {
     "data": {
      "text/plain": [
       "224019"
      ]
     },
     "execution_count": 28,
     "metadata": {},
     "output_type": "execute_result"
    }
   ],
   "source": [
    "len(gdf)"
   ]
  },
  {
   "cell_type": "code",
   "execution_count": 18,
   "metadata": {},
   "outputs": [
    {
     "data": {
      "text/plain": [
       "<bound method _Frame.describe of <dask_cudf.DataFrame | 40 tasks | 20 npartitions>>"
      ]
     },
     "execution_count": 18,
     "metadata": {},
     "output_type": "execute_result"
    }
   ],
   "source": [
    "gdf.describe"
   ]
  },
  {
   "cell_type": "code",
   "execution_count": 13,
   "metadata": {},
   "outputs": [
    {
     "ename": "ValueError",
     "evalue": "The 'nrows' keyword is not supported by `dd.read_csv`. To achieve the same behavior, it's recommended to use `dd.read_csv(...).head(n=nrows)`",
     "output_type": "error",
     "traceback": [
      "\u001b[0;31m---------------------------------------------------------------------------\u001b[0m",
      "\u001b[0;31mValueError\u001b[0m                                Traceback (most recent call last)",
      "\u001b[0;32m<ipython-input-13-9ee401f39475>\u001b[0m in \u001b[0;36m<module>\u001b[0;34m\u001b[0m\n\u001b[0;32m----> 1\u001b[0;31m \u001b[0mdf\u001b[0m \u001b[0;34m=\u001b[0m \u001b[0mdask_cudf\u001b[0m\u001b[0;34m.\u001b[0m\u001b[0mread_csv\u001b[0m\u001b[0;34m(\u001b[0m\u001b[0mos\u001b[0m\u001b[0;34m.\u001b[0m\u001b[0mpath\u001b[0m\u001b[0;34m.\u001b[0m\u001b[0mjoin\u001b[0m\u001b[0;34m(\u001b[0m\u001b[0;34m'file://'\u001b[0m\u001b[0;34m,\u001b[0m\u001b[0;34m'representation_df_10000.csv'\u001b[0m\u001b[0;34m)\u001b[0m\u001b[0;34m,\u001b[0m \u001b[0mnrows\u001b[0m\u001b[0;34m=\u001b[0m\u001b[0;36m500000\u001b[0m\u001b[0;34m)\u001b[0m\u001b[0;34m\u001b[0m\u001b[0;34m\u001b[0m\u001b[0m\n\u001b[0m",
      "\u001b[0;32m/opt/conda/envs/rapids/lib/python3.7/site-packages/dask_cudf/io/csv.py\u001b[0m in \u001b[0;36mread_csv\u001b[0;34m(path, chunksize, **kwargs)\u001b[0m\n\u001b[1;32m     66\u001b[0m     \u001b[0;32mif\u001b[0m \u001b[0;34m\"://\"\u001b[0m \u001b[0;32min\u001b[0m \u001b[0mstr\u001b[0m\u001b[0;34m(\u001b[0m\u001b[0mpath\u001b[0m\u001b[0;34m)\u001b[0m\u001b[0;34m:\u001b[0m\u001b[0;34m\u001b[0m\u001b[0;34m\u001b[0m\u001b[0m\n\u001b[1;32m     67\u001b[0m         \u001b[0mfunc\u001b[0m \u001b[0;34m=\u001b[0m \u001b[0mmake_reader\u001b[0m\u001b[0;34m(\u001b[0m\u001b[0mcudf\u001b[0m\u001b[0;34m.\u001b[0m\u001b[0mread_csv\u001b[0m\u001b[0;34m,\u001b[0m \u001b[0;34m\"read_csv\"\u001b[0m\u001b[0;34m,\u001b[0m \u001b[0;34m\"CSV\"\u001b[0m\u001b[0;34m)\u001b[0m\u001b[0;34m\u001b[0m\u001b[0;34m\u001b[0m\u001b[0m\n\u001b[0;32m---> 68\u001b[0;31m         \u001b[0;32mreturn\u001b[0m \u001b[0mfunc\u001b[0m\u001b[0;34m(\u001b[0m\u001b[0mpath\u001b[0m\u001b[0;34m,\u001b[0m \u001b[0mblocksize\u001b[0m\u001b[0;34m=\u001b[0m\u001b[0mchunksize\u001b[0m\u001b[0;34m,\u001b[0m \u001b[0;34m**\u001b[0m\u001b[0mkwargs\u001b[0m\u001b[0;34m)\u001b[0m\u001b[0;34m\u001b[0m\u001b[0;34m\u001b[0m\u001b[0m\n\u001b[0m\u001b[1;32m     69\u001b[0m     \u001b[0;32melse\u001b[0m\u001b[0;34m:\u001b[0m\u001b[0;34m\u001b[0m\u001b[0;34m\u001b[0m\u001b[0m\n\u001b[1;32m     70\u001b[0m         \u001b[0;32mreturn\u001b[0m \u001b[0m_internal_read_csv\u001b[0m\u001b[0;34m(\u001b[0m\u001b[0mpath\u001b[0m\u001b[0;34m=\u001b[0m\u001b[0mpath\u001b[0m\u001b[0;34m,\u001b[0m \u001b[0mchunksize\u001b[0m\u001b[0;34m=\u001b[0m\u001b[0mchunksize\u001b[0m\u001b[0;34m,\u001b[0m \u001b[0;34m**\u001b[0m\u001b[0mkwargs\u001b[0m\u001b[0;34m)\u001b[0m\u001b[0;34m\u001b[0m\u001b[0;34m\u001b[0m\u001b[0m\n",
      "\u001b[0;32m/opt/conda/envs/rapids/lib/python3.7/site-packages/dask/dataframe/io/csv.py\u001b[0m in \u001b[0;36mread\u001b[0;34m(urlpath, blocksize, lineterminator, compression, sample, enforce, assume_missing, storage_options, include_path_column, **kwargs)\u001b[0m\n\u001b[1;32m    702\u001b[0m             \u001b[0mstorage_options\u001b[0m\u001b[0;34m=\u001b[0m\u001b[0mstorage_options\u001b[0m\u001b[0;34m,\u001b[0m\u001b[0;34m\u001b[0m\u001b[0;34m\u001b[0m\u001b[0m\n\u001b[1;32m    703\u001b[0m             \u001b[0minclude_path_column\u001b[0m\u001b[0;34m=\u001b[0m\u001b[0minclude_path_column\u001b[0m\u001b[0;34m,\u001b[0m\u001b[0;34m\u001b[0m\u001b[0;34m\u001b[0m\u001b[0m\n\u001b[0;32m--> 704\u001b[0;31m             \u001b[0;34m**\u001b[0m\u001b[0mkwargs\u001b[0m\u001b[0;34m,\u001b[0m\u001b[0;34m\u001b[0m\u001b[0;34m\u001b[0m\u001b[0m\n\u001b[0m\u001b[1;32m    705\u001b[0m         )\n\u001b[1;32m    706\u001b[0m \u001b[0;34m\u001b[0m\u001b[0m\n",
      "\u001b[0;32m/opt/conda/envs/rapids/lib/python3.7/site-packages/dask/dataframe/io/csv.py\u001b[0m in \u001b[0;36mread_pandas\u001b[0;34m(reader, urlpath, blocksize, lineterminator, compression, sample, enforce, assume_missing, storage_options, include_path_column, **kwargs)\u001b[0m\n\u001b[1;32m    469\u001b[0m             \u001b[0;34m\"`dd.{0}`. To achieve the same behavior, it's \"\u001b[0m\u001b[0;34m\u001b[0m\u001b[0;34m\u001b[0m\u001b[0m\n\u001b[1;32m    470\u001b[0m             \u001b[0;34m\"recommended to use `dd.{0}(...).\"\u001b[0m\u001b[0;34m\u001b[0m\u001b[0;34m\u001b[0m\u001b[0m\n\u001b[0;32m--> 471\u001b[0;31m             \u001b[0;34m\"head(n=nrows)`\"\u001b[0m\u001b[0;34m.\u001b[0m\u001b[0mformat\u001b[0m\u001b[0;34m(\u001b[0m\u001b[0mreader_name\u001b[0m\u001b[0;34m)\u001b[0m\u001b[0;34m\u001b[0m\u001b[0;34m\u001b[0m\u001b[0m\n\u001b[0m\u001b[1;32m    472\u001b[0m         )\n\u001b[1;32m    473\u001b[0m     \u001b[0;32mif\u001b[0m \u001b[0misinstance\u001b[0m\u001b[0;34m(\u001b[0m\u001b[0mkwargs\u001b[0m\u001b[0;34m.\u001b[0m\u001b[0mget\u001b[0m\u001b[0;34m(\u001b[0m\u001b[0;34m\"skiprows\"\u001b[0m\u001b[0;34m)\u001b[0m\u001b[0;34m,\u001b[0m \u001b[0mint\u001b[0m\u001b[0;34m)\u001b[0m\u001b[0;34m:\u001b[0m\u001b[0;34m\u001b[0m\u001b[0;34m\u001b[0m\u001b[0m\n",
      "\u001b[0;31mValueError\u001b[0m: The 'nrows' keyword is not supported by `dd.read_csv`. To achieve the same behavior, it's recommended to use `dd.read_csv(...).head(n=nrows)`"
     ]
    }
   ],
   "source": [
    "df = pd.read_csv(os.path.join(data_dir,'representation_df_10000.csv'), nrows=500000)"
   ]
  },
  {
   "cell_type": "code",
   "execution_count": 11,
   "metadata": {},
   "outputs": [],
   "source": [
    "df = df.iloc[:,1:]"
   ]
  },
  {
   "cell_type": "code",
   "execution_count": 33,
   "metadata": {},
   "outputs": [
    {
     "ename": "KeyboardInterrupt",
     "evalue": "",
     "output_type": "error",
     "traceback": [
      "\u001b[0;31m---------------------------------------------------------------------------\u001b[0m",
      "\u001b[0;31mKeyboardInterrupt\u001b[0m                         Traceback (most recent call last)",
      "\u001b[0;32m<ipython-input-33-0d2b787b2b99>\u001b[0m in \u001b[0;36m<module>\u001b[0;34m\u001b[0m\n\u001b[0;32m----> 1\u001b[0;31m \u001b[0mgdf\u001b[0m\u001b[0;34m.\u001b[0m\u001b[0misnull\u001b[0m\u001b[0;34m(\u001b[0m\u001b[0;34m)\u001b[0m\u001b[0;34m.\u001b[0m\u001b[0mvalues\u001b[0m\u001b[0;34m.\u001b[0m\u001b[0many\u001b[0m\u001b[0;34m(\u001b[0m\u001b[0;34m)\u001b[0m\u001b[0;34m.\u001b[0m\u001b[0mcompute\u001b[0m\u001b[0;34m(\u001b[0m\u001b[0;34m)\u001b[0m\u001b[0;34m\u001b[0m\u001b[0;34m\u001b[0m\u001b[0m\n\u001b[0m",
      "\u001b[0;32m/opt/conda/envs/rapids/lib/python3.7/site-packages/dask/base.py\u001b[0m in \u001b[0;36mcompute\u001b[0;34m(self, **kwargs)\u001b[0m\n\u001b[1;32m    283\u001b[0m         \u001b[0mdask\u001b[0m\u001b[0;34m.\u001b[0m\u001b[0mbase\u001b[0m\u001b[0;34m.\u001b[0m\u001b[0mcompute\u001b[0m\u001b[0;34m\u001b[0m\u001b[0;34m\u001b[0m\u001b[0m\n\u001b[1;32m    284\u001b[0m         \"\"\"\n\u001b[0;32m--> 285\u001b[0;31m         \u001b[0;34m(\u001b[0m\u001b[0mresult\u001b[0m\u001b[0;34m,\u001b[0m\u001b[0;34m)\u001b[0m \u001b[0;34m=\u001b[0m \u001b[0mcompute\u001b[0m\u001b[0;34m(\u001b[0m\u001b[0mself\u001b[0m\u001b[0;34m,\u001b[0m \u001b[0mtraverse\u001b[0m\u001b[0;34m=\u001b[0m\u001b[0;32mFalse\u001b[0m\u001b[0;34m,\u001b[0m \u001b[0;34m**\u001b[0m\u001b[0mkwargs\u001b[0m\u001b[0;34m)\u001b[0m\u001b[0;34m\u001b[0m\u001b[0;34m\u001b[0m\u001b[0m\n\u001b[0m\u001b[1;32m    286\u001b[0m         \u001b[0;32mreturn\u001b[0m \u001b[0mresult\u001b[0m\u001b[0;34m\u001b[0m\u001b[0;34m\u001b[0m\u001b[0m\n\u001b[1;32m    287\u001b[0m \u001b[0;34m\u001b[0m\u001b[0m\n",
      "\u001b[0;32m/opt/conda/envs/rapids/lib/python3.7/site-packages/dask/base.py\u001b[0m in \u001b[0;36mcompute\u001b[0;34m(*args, **kwargs)\u001b[0m\n\u001b[1;32m    565\u001b[0m         \u001b[0mpostcomputes\u001b[0m\u001b[0;34m.\u001b[0m\u001b[0mappend\u001b[0m\u001b[0;34m(\u001b[0m\u001b[0mx\u001b[0m\u001b[0;34m.\u001b[0m\u001b[0m__dask_postcompute__\u001b[0m\u001b[0;34m(\u001b[0m\u001b[0;34m)\u001b[0m\u001b[0;34m)\u001b[0m\u001b[0;34m\u001b[0m\u001b[0;34m\u001b[0m\u001b[0m\n\u001b[1;32m    566\u001b[0m \u001b[0;34m\u001b[0m\u001b[0m\n\u001b[0;32m--> 567\u001b[0;31m     \u001b[0mresults\u001b[0m \u001b[0;34m=\u001b[0m \u001b[0mschedule\u001b[0m\u001b[0;34m(\u001b[0m\u001b[0mdsk\u001b[0m\u001b[0;34m,\u001b[0m \u001b[0mkeys\u001b[0m\u001b[0;34m,\u001b[0m \u001b[0;34m**\u001b[0m\u001b[0mkwargs\u001b[0m\u001b[0;34m)\u001b[0m\u001b[0;34m\u001b[0m\u001b[0;34m\u001b[0m\u001b[0m\n\u001b[0m\u001b[1;32m    568\u001b[0m     \u001b[0;32mreturn\u001b[0m \u001b[0mrepack\u001b[0m\u001b[0;34m(\u001b[0m\u001b[0;34m[\u001b[0m\u001b[0mf\u001b[0m\u001b[0;34m(\u001b[0m\u001b[0mr\u001b[0m\u001b[0;34m,\u001b[0m \u001b[0;34m*\u001b[0m\u001b[0ma\u001b[0m\u001b[0;34m)\u001b[0m \u001b[0;32mfor\u001b[0m \u001b[0mr\u001b[0m\u001b[0;34m,\u001b[0m \u001b[0;34m(\u001b[0m\u001b[0mf\u001b[0m\u001b[0;34m,\u001b[0m \u001b[0ma\u001b[0m\u001b[0;34m)\u001b[0m \u001b[0;32min\u001b[0m \u001b[0mzip\u001b[0m\u001b[0;34m(\u001b[0m\u001b[0mresults\u001b[0m\u001b[0;34m,\u001b[0m \u001b[0mpostcomputes\u001b[0m\u001b[0;34m)\u001b[0m\u001b[0;34m]\u001b[0m\u001b[0;34m)\u001b[0m\u001b[0;34m\u001b[0m\u001b[0;34m\u001b[0m\u001b[0m\n\u001b[1;32m    569\u001b[0m \u001b[0;34m\u001b[0m\u001b[0m\n",
      "\u001b[0;32m/opt/conda/envs/rapids/lib/python3.7/site-packages/distributed/client.py\u001b[0m in \u001b[0;36mget\u001b[0;34m(self, dsk, keys, workers, allow_other_workers, resources, sync, asynchronous, direct, retries, priority, fifo_timeout, actors, **kwargs)\u001b[0m\n\u001b[1;32m   2672\u001b[0m                     \u001b[0mshould_rejoin\u001b[0m \u001b[0;34m=\u001b[0m \u001b[0;32mFalse\u001b[0m\u001b[0;34m\u001b[0m\u001b[0;34m\u001b[0m\u001b[0m\n\u001b[1;32m   2673\u001b[0m             \u001b[0;32mtry\u001b[0m\u001b[0;34m:\u001b[0m\u001b[0;34m\u001b[0m\u001b[0;34m\u001b[0m\u001b[0m\n\u001b[0;32m-> 2674\u001b[0;31m                 \u001b[0mresults\u001b[0m \u001b[0;34m=\u001b[0m \u001b[0mself\u001b[0m\u001b[0;34m.\u001b[0m\u001b[0mgather\u001b[0m\u001b[0;34m(\u001b[0m\u001b[0mpacked\u001b[0m\u001b[0;34m,\u001b[0m \u001b[0masynchronous\u001b[0m\u001b[0;34m=\u001b[0m\u001b[0masynchronous\u001b[0m\u001b[0;34m,\u001b[0m \u001b[0mdirect\u001b[0m\u001b[0;34m=\u001b[0m\u001b[0mdirect\u001b[0m\u001b[0;34m)\u001b[0m\u001b[0;34m\u001b[0m\u001b[0;34m\u001b[0m\u001b[0m\n\u001b[0m\u001b[1;32m   2675\u001b[0m             \u001b[0;32mfinally\u001b[0m\u001b[0;34m:\u001b[0m\u001b[0;34m\u001b[0m\u001b[0;34m\u001b[0m\u001b[0m\n\u001b[1;32m   2676\u001b[0m                 \u001b[0;32mfor\u001b[0m \u001b[0mf\u001b[0m \u001b[0;32min\u001b[0m \u001b[0mfutures\u001b[0m\u001b[0;34m.\u001b[0m\u001b[0mvalues\u001b[0m\u001b[0;34m(\u001b[0m\u001b[0;34m)\u001b[0m\u001b[0;34m:\u001b[0m\u001b[0;34m\u001b[0m\u001b[0;34m\u001b[0m\u001b[0m\n",
      "\u001b[0;32m/opt/conda/envs/rapids/lib/python3.7/site-packages/distributed/client.py\u001b[0m in \u001b[0;36mgather\u001b[0;34m(self, futures, errors, direct, asynchronous)\u001b[0m\n\u001b[1;32m   1987\u001b[0m                 \u001b[0mdirect\u001b[0m\u001b[0;34m=\u001b[0m\u001b[0mdirect\u001b[0m\u001b[0;34m,\u001b[0m\u001b[0;34m\u001b[0m\u001b[0;34m\u001b[0m\u001b[0m\n\u001b[1;32m   1988\u001b[0m                 \u001b[0mlocal_worker\u001b[0m\u001b[0;34m=\u001b[0m\u001b[0mlocal_worker\u001b[0m\u001b[0;34m,\u001b[0m\u001b[0;34m\u001b[0m\u001b[0;34m\u001b[0m\u001b[0m\n\u001b[0;32m-> 1989\u001b[0;31m                 \u001b[0masynchronous\u001b[0m\u001b[0;34m=\u001b[0m\u001b[0masynchronous\u001b[0m\u001b[0;34m,\u001b[0m\u001b[0;34m\u001b[0m\u001b[0;34m\u001b[0m\u001b[0m\n\u001b[0m\u001b[1;32m   1990\u001b[0m             )\n\u001b[1;32m   1991\u001b[0m \u001b[0;34m\u001b[0m\u001b[0m\n",
      "\u001b[0;32m/opt/conda/envs/rapids/lib/python3.7/site-packages/distributed/client.py\u001b[0m in \u001b[0;36msync\u001b[0;34m(self, func, asynchronous, callback_timeout, *args, **kwargs)\u001b[0m\n\u001b[1;32m    850\u001b[0m         \u001b[0;32melse\u001b[0m\u001b[0;34m:\u001b[0m\u001b[0;34m\u001b[0m\u001b[0;34m\u001b[0m\u001b[0m\n\u001b[1;32m    851\u001b[0m             return sync(\n\u001b[0;32m--> 852\u001b[0;31m                 \u001b[0mself\u001b[0m\u001b[0;34m.\u001b[0m\u001b[0mloop\u001b[0m\u001b[0;34m,\u001b[0m \u001b[0mfunc\u001b[0m\u001b[0;34m,\u001b[0m \u001b[0;34m*\u001b[0m\u001b[0margs\u001b[0m\u001b[0;34m,\u001b[0m \u001b[0mcallback_timeout\u001b[0m\u001b[0;34m=\u001b[0m\u001b[0mcallback_timeout\u001b[0m\u001b[0;34m,\u001b[0m \u001b[0;34m**\u001b[0m\u001b[0mkwargs\u001b[0m\u001b[0;34m\u001b[0m\u001b[0;34m\u001b[0m\u001b[0m\n\u001b[0m\u001b[1;32m    853\u001b[0m             )\n\u001b[1;32m    854\u001b[0m \u001b[0;34m\u001b[0m\u001b[0m\n",
      "\u001b[0;32m/opt/conda/envs/rapids/lib/python3.7/site-packages/distributed/utils.py\u001b[0m in \u001b[0;36msync\u001b[0;34m(loop, func, callback_timeout, *args, **kwargs)\u001b[0m\n\u001b[1;32m    349\u001b[0m     \u001b[0;32melse\u001b[0m\u001b[0;34m:\u001b[0m\u001b[0;34m\u001b[0m\u001b[0;34m\u001b[0m\u001b[0m\n\u001b[1;32m    350\u001b[0m         \u001b[0;32mwhile\u001b[0m \u001b[0;32mnot\u001b[0m \u001b[0me\u001b[0m\u001b[0;34m.\u001b[0m\u001b[0mis_set\u001b[0m\u001b[0;34m(\u001b[0m\u001b[0;34m)\u001b[0m\u001b[0;34m:\u001b[0m\u001b[0;34m\u001b[0m\u001b[0;34m\u001b[0m\u001b[0m\n\u001b[0;32m--> 351\u001b[0;31m             \u001b[0me\u001b[0m\u001b[0;34m.\u001b[0m\u001b[0mwait\u001b[0m\u001b[0;34m(\u001b[0m\u001b[0;36m10\u001b[0m\u001b[0;34m)\u001b[0m\u001b[0;34m\u001b[0m\u001b[0;34m\u001b[0m\u001b[0m\n\u001b[0m\u001b[1;32m    352\u001b[0m     \u001b[0;32mif\u001b[0m \u001b[0merror\u001b[0m\u001b[0;34m[\u001b[0m\u001b[0;36m0\u001b[0m\u001b[0;34m]\u001b[0m\u001b[0;34m:\u001b[0m\u001b[0;34m\u001b[0m\u001b[0;34m\u001b[0m\u001b[0m\n\u001b[1;32m    353\u001b[0m         \u001b[0mtyp\u001b[0m\u001b[0;34m,\u001b[0m \u001b[0mexc\u001b[0m\u001b[0;34m,\u001b[0m \u001b[0mtb\u001b[0m \u001b[0;34m=\u001b[0m \u001b[0merror\u001b[0m\u001b[0;34m[\u001b[0m\u001b[0;36m0\u001b[0m\u001b[0;34m]\u001b[0m\u001b[0;34m\u001b[0m\u001b[0;34m\u001b[0m\u001b[0m\n",
      "\u001b[0;32m/opt/conda/envs/rapids/lib/python3.7/threading.py\u001b[0m in \u001b[0;36mwait\u001b[0;34m(self, timeout)\u001b[0m\n\u001b[1;32m    550\u001b[0m             \u001b[0msignaled\u001b[0m \u001b[0;34m=\u001b[0m \u001b[0mself\u001b[0m\u001b[0;34m.\u001b[0m\u001b[0m_flag\u001b[0m\u001b[0;34m\u001b[0m\u001b[0;34m\u001b[0m\u001b[0m\n\u001b[1;32m    551\u001b[0m             \u001b[0;32mif\u001b[0m \u001b[0;32mnot\u001b[0m \u001b[0msignaled\u001b[0m\u001b[0;34m:\u001b[0m\u001b[0;34m\u001b[0m\u001b[0;34m\u001b[0m\u001b[0m\n\u001b[0;32m--> 552\u001b[0;31m                 \u001b[0msignaled\u001b[0m \u001b[0;34m=\u001b[0m \u001b[0mself\u001b[0m\u001b[0;34m.\u001b[0m\u001b[0m_cond\u001b[0m\u001b[0;34m.\u001b[0m\u001b[0mwait\u001b[0m\u001b[0;34m(\u001b[0m\u001b[0mtimeout\u001b[0m\u001b[0;34m)\u001b[0m\u001b[0;34m\u001b[0m\u001b[0;34m\u001b[0m\u001b[0m\n\u001b[0m\u001b[1;32m    553\u001b[0m             \u001b[0;32mreturn\u001b[0m \u001b[0msignaled\u001b[0m\u001b[0;34m\u001b[0m\u001b[0;34m\u001b[0m\u001b[0m\n\u001b[1;32m    554\u001b[0m \u001b[0;34m\u001b[0m\u001b[0m\n",
      "\u001b[0;32m/opt/conda/envs/rapids/lib/python3.7/threading.py\u001b[0m in \u001b[0;36mwait\u001b[0;34m(self, timeout)\u001b[0m\n\u001b[1;32m    298\u001b[0m             \u001b[0;32melse\u001b[0m\u001b[0;34m:\u001b[0m\u001b[0;34m\u001b[0m\u001b[0;34m\u001b[0m\u001b[0m\n\u001b[1;32m    299\u001b[0m                 \u001b[0;32mif\u001b[0m \u001b[0mtimeout\u001b[0m \u001b[0;34m>\u001b[0m \u001b[0;36m0\u001b[0m\u001b[0;34m:\u001b[0m\u001b[0;34m\u001b[0m\u001b[0;34m\u001b[0m\u001b[0m\n\u001b[0;32m--> 300\u001b[0;31m                     \u001b[0mgotit\u001b[0m \u001b[0;34m=\u001b[0m \u001b[0mwaiter\u001b[0m\u001b[0;34m.\u001b[0m\u001b[0macquire\u001b[0m\u001b[0;34m(\u001b[0m\u001b[0;32mTrue\u001b[0m\u001b[0;34m,\u001b[0m \u001b[0mtimeout\u001b[0m\u001b[0;34m)\u001b[0m\u001b[0;34m\u001b[0m\u001b[0;34m\u001b[0m\u001b[0m\n\u001b[0m\u001b[1;32m    301\u001b[0m                 \u001b[0;32melse\u001b[0m\u001b[0;34m:\u001b[0m\u001b[0;34m\u001b[0m\u001b[0;34m\u001b[0m\u001b[0m\n\u001b[1;32m    302\u001b[0m                     \u001b[0mgotit\u001b[0m \u001b[0;34m=\u001b[0m \u001b[0mwaiter\u001b[0m\u001b[0;34m.\u001b[0m\u001b[0macquire\u001b[0m\u001b[0;34m(\u001b[0m\u001b[0;32mFalse\u001b[0m\u001b[0;34m)\u001b[0m\u001b[0;34m\u001b[0m\u001b[0;34m\u001b[0m\u001b[0m\n",
      "\u001b[0;31mKeyboardInterrupt\u001b[0m: "
     ]
    }
   ],
   "source": [
    "gdf.isnull().values.any().compute()"
   ]
  },
  {
   "cell_type": "code",
   "execution_count": 23,
   "metadata": {},
   "outputs": [],
   "source": [
    "df = dask_cudf.from_cudf(df, npartitions=10)"
   ]
  },
  {
   "cell_type": "code",
   "execution_count": 13,
   "metadata": {},
   "outputs": [
    {
     "data": {
      "text/html": [
       "<div>\n",
       "<style scoped>\n",
       "    .dataframe tbody tr th:only-of-type {\n",
       "        vertical-align: middle;\n",
       "    }\n",
       "\n",
       "    .dataframe tbody tr th {\n",
       "        vertical-align: top;\n",
       "    }\n",
       "\n",
       "    .dataframe thead th {\n",
       "        text-align: right;\n",
       "    }\n",
       "</style>\n",
       "<table border=\"1\" class=\"dataframe\">\n",
       "  <thead>\n",
       "    <tr style=\"text-align: right;\">\n",
       "      <th></th>\n",
       "      <th>0</th>\n",
       "      <th>1</th>\n",
       "      <th>2</th>\n",
       "      <th>3</th>\n",
       "      <th>4</th>\n",
       "      <th>5</th>\n",
       "      <th>6</th>\n",
       "      <th>7</th>\n",
       "      <th>8</th>\n",
       "      <th>9</th>\n",
       "      <th>...</th>\n",
       "      <th>2038</th>\n",
       "      <th>2039</th>\n",
       "      <th>2040</th>\n",
       "      <th>2041</th>\n",
       "      <th>2042</th>\n",
       "      <th>2043</th>\n",
       "      <th>2044</th>\n",
       "      <th>2045</th>\n",
       "      <th>2046</th>\n",
       "      <th>2047</th>\n",
       "    </tr>\n",
       "  </thead>\n",
       "  <tbody>\n",
       "    <tr>\n",
       "      <th>0</th>\n",
       "      <td>0.007223</td>\n",
       "      <td>0.025258</td>\n",
       "      <td>0.005266</td>\n",
       "      <td>0.022848</td>\n",
       "      <td>0.025487</td>\n",
       "      <td>0.003136</td>\n",
       "      <td>0.035282</td>\n",
       "      <td>0.092605</td>\n",
       "      <td>0.005643</td>\n",
       "      <td>0.031917</td>\n",
       "      <td>...</td>\n",
       "      <td>0.010778</td>\n",
       "      <td>0.042655</td>\n",
       "      <td>0.004568</td>\n",
       "      <td>0.117710</td>\n",
       "      <td>0.006165</td>\n",
       "      <td>0.071384</td>\n",
       "      <td>0.015962</td>\n",
       "      <td>0.013544</td>\n",
       "      <td>0.038631</td>\n",
       "      <td>0.013675</td>\n",
       "    </tr>\n",
       "    <tr>\n",
       "      <th>1</th>\n",
       "      <td>0.011618</td>\n",
       "      <td>0.014113</td>\n",
       "      <td>0.014650</td>\n",
       "      <td>0.013095</td>\n",
       "      <td>0.016615</td>\n",
       "      <td>0.002255</td>\n",
       "      <td>0.034624</td>\n",
       "      <td>0.111990</td>\n",
       "      <td>0.000000</td>\n",
       "      <td>0.020815</td>\n",
       "      <td>...</td>\n",
       "      <td>0.000246</td>\n",
       "      <td>0.028309</td>\n",
       "      <td>0.000752</td>\n",
       "      <td>0.100064</td>\n",
       "      <td>0.014450</td>\n",
       "      <td>0.064217</td>\n",
       "      <td>0.002131</td>\n",
       "      <td>0.010307</td>\n",
       "      <td>0.009037</td>\n",
       "      <td>0.027997</td>\n",
       "    </tr>\n",
       "    <tr>\n",
       "      <th>2</th>\n",
       "      <td>0.020664</td>\n",
       "      <td>0.004412</td>\n",
       "      <td>0.034464</td>\n",
       "      <td>0.010096</td>\n",
       "      <td>0.036712</td>\n",
       "      <td>0.021614</td>\n",
       "      <td>0.014366</td>\n",
       "      <td>0.084888</td>\n",
       "      <td>0.002679</td>\n",
       "      <td>0.050677</td>\n",
       "      <td>...</td>\n",
       "      <td>0.004542</td>\n",
       "      <td>0.011037</td>\n",
       "      <td>0.012285</td>\n",
       "      <td>0.068529</td>\n",
       "      <td>0.029885</td>\n",
       "      <td>0.014836</td>\n",
       "      <td>0.007723</td>\n",
       "      <td>0.006046</td>\n",
       "      <td>0.007131</td>\n",
       "      <td>0.031449</td>\n",
       "    </tr>\n",
       "    <tr>\n",
       "      <th>3</th>\n",
       "      <td>0.041449</td>\n",
       "      <td>0.023162</td>\n",
       "      <td>0.024994</td>\n",
       "      <td>0.015237</td>\n",
       "      <td>0.040375</td>\n",
       "      <td>0.002864</td>\n",
       "      <td>0.061573</td>\n",
       "      <td>0.098285</td>\n",
       "      <td>0.019151</td>\n",
       "      <td>0.037560</td>\n",
       "      <td>...</td>\n",
       "      <td>0.000000</td>\n",
       "      <td>0.006379</td>\n",
       "      <td>0.010970</td>\n",
       "      <td>0.054821</td>\n",
       "      <td>0.010824</td>\n",
       "      <td>0.036521</td>\n",
       "      <td>0.001569</td>\n",
       "      <td>0.000000</td>\n",
       "      <td>0.007046</td>\n",
       "      <td>0.016485</td>\n",
       "    </tr>\n",
       "    <tr>\n",
       "      <th>4</th>\n",
       "      <td>0.030220</td>\n",
       "      <td>0.018252</td>\n",
       "      <td>0.020777</td>\n",
       "      <td>0.020019</td>\n",
       "      <td>0.011684</td>\n",
       "      <td>0.025887</td>\n",
       "      <td>0.026184</td>\n",
       "      <td>0.128590</td>\n",
       "      <td>0.004295</td>\n",
       "      <td>0.026937</td>\n",
       "      <td>...</td>\n",
       "      <td>0.015229</td>\n",
       "      <td>0.022426</td>\n",
       "      <td>0.021216</td>\n",
       "      <td>0.103315</td>\n",
       "      <td>0.031369</td>\n",
       "      <td>0.015148</td>\n",
       "      <td>0.052562</td>\n",
       "      <td>0.009585</td>\n",
       "      <td>0.016674</td>\n",
       "      <td>0.019210</td>\n",
       "    </tr>\n",
       "    <tr>\n",
       "      <th>...</th>\n",
       "      <td>...</td>\n",
       "      <td>...</td>\n",
       "      <td>...</td>\n",
       "      <td>...</td>\n",
       "      <td>...</td>\n",
       "      <td>...</td>\n",
       "      <td>...</td>\n",
       "      <td>...</td>\n",
       "      <td>...</td>\n",
       "      <td>...</td>\n",
       "      <td>...</td>\n",
       "      <td>...</td>\n",
       "      <td>...</td>\n",
       "      <td>...</td>\n",
       "      <td>...</td>\n",
       "      <td>...</td>\n",
       "      <td>...</td>\n",
       "      <td>...</td>\n",
       "      <td>...</td>\n",
       "      <td>...</td>\n",
       "      <td>...</td>\n",
       "    </tr>\n",
       "    <tr>\n",
       "      <th>9603</th>\n",
       "      <td>0.000296</td>\n",
       "      <td>0.004327</td>\n",
       "      <td>0.009578</td>\n",
       "      <td>0.021137</td>\n",
       "      <td>0.003615</td>\n",
       "      <td>0.000002</td>\n",
       "      <td>0.011958</td>\n",
       "      <td>0.068158</td>\n",
       "      <td>0.000000</td>\n",
       "      <td>0.021422</td>\n",
       "      <td>...</td>\n",
       "      <td>0.015679</td>\n",
       "      <td>0.004993</td>\n",
       "      <td>0.000751</td>\n",
       "      <td>0.082499</td>\n",
       "      <td>0.006599</td>\n",
       "      <td>0.021355</td>\n",
       "      <td>0.000000</td>\n",
       "      <td>0.000000</td>\n",
       "      <td>0.001919</td>\n",
       "      <td>0.000000</td>\n",
       "    </tr>\n",
       "    <tr>\n",
       "      <th>9604</th>\n",
       "      <td>0.001309</td>\n",
       "      <td>0.024248</td>\n",
       "      <td>0.010324</td>\n",
       "      <td>0.013353</td>\n",
       "      <td>0.055734</td>\n",
       "      <td>0.004253</td>\n",
       "      <td>0.015045</td>\n",
       "      <td>0.053216</td>\n",
       "      <td>0.008667</td>\n",
       "      <td>0.005393</td>\n",
       "      <td>...</td>\n",
       "      <td>0.060877</td>\n",
       "      <td>0.000983</td>\n",
       "      <td>0.002545</td>\n",
       "      <td>0.028915</td>\n",
       "      <td>0.000000</td>\n",
       "      <td>0.031591</td>\n",
       "      <td>0.000000</td>\n",
       "      <td>0.000000</td>\n",
       "      <td>0.009239</td>\n",
       "      <td>0.024938</td>\n",
       "    </tr>\n",
       "    <tr>\n",
       "      <th>9605</th>\n",
       "      <td>0.000000</td>\n",
       "      <td>0.001602</td>\n",
       "      <td>0.025199</td>\n",
       "      <td>0.010468</td>\n",
       "      <td>0.018996</td>\n",
       "      <td>0.000000</td>\n",
       "      <td>0.015093</td>\n",
       "      <td>0.074283</td>\n",
       "      <td>0.019422</td>\n",
       "      <td>0.011256</td>\n",
       "      <td>...</td>\n",
       "      <td>0.001345</td>\n",
       "      <td>0.000490</td>\n",
       "      <td>0.000000</td>\n",
       "      <td>0.047021</td>\n",
       "      <td>0.007447</td>\n",
       "      <td>0.000605</td>\n",
       "      <td>0.000000</td>\n",
       "      <td>0.000000</td>\n",
       "      <td>0.004592</td>\n",
       "      <td>0.006430</td>\n",
       "    </tr>\n",
       "    <tr>\n",
       "      <th>9606</th>\n",
       "      <td>0.000717</td>\n",
       "      <td>0.017243</td>\n",
       "      <td>0.068906</td>\n",
       "      <td>0.016085</td>\n",
       "      <td>0.074149</td>\n",
       "      <td>0.005620</td>\n",
       "      <td>0.037967</td>\n",
       "      <td>0.060870</td>\n",
       "      <td>0.017103</td>\n",
       "      <td>0.012355</td>\n",
       "      <td>...</td>\n",
       "      <td>0.037908</td>\n",
       "      <td>0.003179</td>\n",
       "      <td>0.004154</td>\n",
       "      <td>0.060977</td>\n",
       "      <td>0.000000</td>\n",
       "      <td>0.020377</td>\n",
       "      <td>0.002604</td>\n",
       "      <td>0.000000</td>\n",
       "      <td>0.005685</td>\n",
       "      <td>0.001605</td>\n",
       "    </tr>\n",
       "    <tr>\n",
       "      <th>9607</th>\n",
       "      <td>0.000000</td>\n",
       "      <td>0.000000</td>\n",
       "      <td>0.038532</td>\n",
       "      <td>0.012869</td>\n",
       "      <td>0.000000</td>\n",
       "      <td>0.000598</td>\n",
       "      <td>0.078337</td>\n",
       "      <td>0.054861</td>\n",
       "      <td>0.000936</td>\n",
       "      <td>0.008619</td>\n",
       "      <td>...</td>\n",
       "      <td>0.006228</td>\n",
       "      <td>0.007681</td>\n",
       "      <td>0.021335</td>\n",
       "      <td>0.066293</td>\n",
       "      <td>0.008289</td>\n",
       "      <td>0.012921</td>\n",
       "      <td>0.000000</td>\n",
       "      <td>0.000000</td>\n",
       "      <td>0.002359</td>\n",
       "      <td>0.014272</td>\n",
       "    </tr>\n",
       "  </tbody>\n",
       "</table>\n",
       "<p>224019 rows × 2048 columns</p>\n",
       "</div>"
      ],
      "text/plain": [
       "             0         1         2         3         4         5         6  \\\n",
       "0     0.007223  0.025258  0.005266  0.022848  0.025487  0.003136  0.035282   \n",
       "1     0.011618  0.014113  0.014650  0.013095  0.016615  0.002255  0.034624   \n",
       "2     0.020664  0.004412  0.034464  0.010096  0.036712  0.021614  0.014366   \n",
       "3     0.041449  0.023162  0.024994  0.015237  0.040375  0.002864  0.061573   \n",
       "4     0.030220  0.018252  0.020777  0.020019  0.011684  0.025887  0.026184   \n",
       "...        ...       ...       ...       ...       ...       ...       ...   \n",
       "9603  0.000296  0.004327  0.009578  0.021137  0.003615  0.000002  0.011958   \n",
       "9604  0.001309  0.024248  0.010324  0.013353  0.055734  0.004253  0.015045   \n",
       "9605  0.000000  0.001602  0.025199  0.010468  0.018996  0.000000  0.015093   \n",
       "9606  0.000717  0.017243  0.068906  0.016085  0.074149  0.005620  0.037967   \n",
       "9607  0.000000  0.000000  0.038532  0.012869  0.000000  0.000598  0.078337   \n",
       "\n",
       "             7         8         9  ...      2038      2039      2040  \\\n",
       "0     0.092605  0.005643  0.031917  ...  0.010778  0.042655  0.004568   \n",
       "1     0.111990  0.000000  0.020815  ...  0.000246  0.028309  0.000752   \n",
       "2     0.084888  0.002679  0.050677  ...  0.004542  0.011037  0.012285   \n",
       "3     0.098285  0.019151  0.037560  ...  0.000000  0.006379  0.010970   \n",
       "4     0.128590  0.004295  0.026937  ...  0.015229  0.022426  0.021216   \n",
       "...        ...       ...       ...  ...       ...       ...       ...   \n",
       "9603  0.068158  0.000000  0.021422  ...  0.015679  0.004993  0.000751   \n",
       "9604  0.053216  0.008667  0.005393  ...  0.060877  0.000983  0.002545   \n",
       "9605  0.074283  0.019422  0.011256  ...  0.001345  0.000490  0.000000   \n",
       "9606  0.060870  0.017103  0.012355  ...  0.037908  0.003179  0.004154   \n",
       "9607  0.054861  0.000936  0.008619  ...  0.006228  0.007681  0.021335   \n",
       "\n",
       "          2041      2042      2043      2044      2045      2046      2047  \n",
       "0     0.117710  0.006165  0.071384  0.015962  0.013544  0.038631  0.013675  \n",
       "1     0.100064  0.014450  0.064217  0.002131  0.010307  0.009037  0.027997  \n",
       "2     0.068529  0.029885  0.014836  0.007723  0.006046  0.007131  0.031449  \n",
       "3     0.054821  0.010824  0.036521  0.001569  0.000000  0.007046  0.016485  \n",
       "4     0.103315  0.031369  0.015148  0.052562  0.009585  0.016674  0.019210  \n",
       "...        ...       ...       ...       ...       ...       ...       ...  \n",
       "9603  0.082499  0.006599  0.021355  0.000000  0.000000  0.001919  0.000000  \n",
       "9604  0.028915  0.000000  0.031591  0.000000  0.000000  0.009239  0.024938  \n",
       "9605  0.047021  0.007447  0.000605  0.000000  0.000000  0.004592  0.006430  \n",
       "9606  0.060977  0.000000  0.020377  0.002604  0.000000  0.005685  0.001605  \n",
       "9607  0.066293  0.008289  0.012921  0.000000  0.000000  0.002359  0.014272  \n",
       "\n",
       "[224019 rows x 2048 columns]"
      ]
     },
     "execution_count": 13,
     "metadata": {},
     "output_type": "execute_result"
    }
   ],
   "source": [
    "gdf.compute()"
   ]
  },
  {
   "cell_type": "code",
   "execution_count": 17,
   "metadata": {},
   "outputs": [
    {
     "data": {
      "text/plain": [
       "array(True)"
      ]
     },
     "execution_count": 17,
     "metadata": {},
     "output_type": "execute_result"
    }
   ],
   "source": [
    "gdf.isnull().values.any().compute()"
   ]
  },
  {
   "cell_type": "code",
   "execution_count": 16,
   "metadata": {},
   "outputs": [
    {
     "data": {
      "text/html": [
       "<div>\n",
       "<style scoped>\n",
       "    .dataframe tbody tr th:only-of-type {\n",
       "        vertical-align: middle;\n",
       "    }\n",
       "\n",
       "    .dataframe tbody tr th {\n",
       "        vertical-align: top;\n",
       "    }\n",
       "\n",
       "    .dataframe thead th {\n",
       "        text-align: right;\n",
       "    }\n",
       "</style>\n",
       "<table border=\"1\" class=\"dataframe\">\n",
       "  <thead>\n",
       "    <tr style=\"text-align: right;\">\n",
       "      <th></th>\n",
       "      <th>0</th>\n",
       "      <th>1</th>\n",
       "      <th>2</th>\n",
       "      <th>3</th>\n",
       "      <th>4</th>\n",
       "      <th>5</th>\n",
       "      <th>6</th>\n",
       "      <th>7</th>\n",
       "      <th>8</th>\n",
       "      <th>9</th>\n",
       "      <th>...</th>\n",
       "      <th>2038</th>\n",
       "      <th>2039</th>\n",
       "      <th>2040</th>\n",
       "      <th>2041</th>\n",
       "      <th>2042</th>\n",
       "      <th>2043</th>\n",
       "      <th>2044</th>\n",
       "      <th>2045</th>\n",
       "      <th>2046</th>\n",
       "      <th>2047</th>\n",
       "    </tr>\n",
       "  </thead>\n",
       "  <tbody>\n",
       "    <tr>\n",
       "      <th>0</th>\n",
       "      <td>0.007223</td>\n",
       "      <td>0.025258</td>\n",
       "      <td>0.005266</td>\n",
       "      <td>0.022848</td>\n",
       "      <td>0.025487</td>\n",
       "      <td>0.003136</td>\n",
       "      <td>0.035282</td>\n",
       "      <td>0.092605</td>\n",
       "      <td>0.005643</td>\n",
       "      <td>0.031917</td>\n",
       "      <td>...</td>\n",
       "      <td>0.010778</td>\n",
       "      <td>0.042655</td>\n",
       "      <td>0.004568</td>\n",
       "      <td>0.117710</td>\n",
       "      <td>0.006165</td>\n",
       "      <td>0.071384</td>\n",
       "      <td>0.015962</td>\n",
       "      <td>0.013544</td>\n",
       "      <td>0.038631</td>\n",
       "      <td>0.013675</td>\n",
       "    </tr>\n",
       "    <tr>\n",
       "      <th>1</th>\n",
       "      <td>0.011618</td>\n",
       "      <td>0.014113</td>\n",
       "      <td>0.014650</td>\n",
       "      <td>0.013095</td>\n",
       "      <td>0.016615</td>\n",
       "      <td>0.002255</td>\n",
       "      <td>0.034624</td>\n",
       "      <td>0.111990</td>\n",
       "      <td>0.000000</td>\n",
       "      <td>0.020815</td>\n",
       "      <td>...</td>\n",
       "      <td>0.000246</td>\n",
       "      <td>0.028309</td>\n",
       "      <td>0.000752</td>\n",
       "      <td>0.100064</td>\n",
       "      <td>0.014450</td>\n",
       "      <td>0.064217</td>\n",
       "      <td>0.002131</td>\n",
       "      <td>0.010307</td>\n",
       "      <td>0.009037</td>\n",
       "      <td>0.027997</td>\n",
       "    </tr>\n",
       "    <tr>\n",
       "      <th>2</th>\n",
       "      <td>0.020664</td>\n",
       "      <td>0.004412</td>\n",
       "      <td>0.034464</td>\n",
       "      <td>0.010096</td>\n",
       "      <td>0.036712</td>\n",
       "      <td>0.021614</td>\n",
       "      <td>0.014366</td>\n",
       "      <td>0.084888</td>\n",
       "      <td>0.002679</td>\n",
       "      <td>0.050677</td>\n",
       "      <td>...</td>\n",
       "      <td>0.004542</td>\n",
       "      <td>0.011037</td>\n",
       "      <td>0.012285</td>\n",
       "      <td>0.068529</td>\n",
       "      <td>0.029885</td>\n",
       "      <td>0.014836</td>\n",
       "      <td>0.007723</td>\n",
       "      <td>0.006046</td>\n",
       "      <td>0.007131</td>\n",
       "      <td>0.031449</td>\n",
       "    </tr>\n",
       "    <tr>\n",
       "      <th>3</th>\n",
       "      <td>0.041449</td>\n",
       "      <td>0.023162</td>\n",
       "      <td>0.024994</td>\n",
       "      <td>0.015237</td>\n",
       "      <td>0.040375</td>\n",
       "      <td>0.002864</td>\n",
       "      <td>0.061573</td>\n",
       "      <td>0.098285</td>\n",
       "      <td>0.019151</td>\n",
       "      <td>0.037560</td>\n",
       "      <td>...</td>\n",
       "      <td>0.000000</td>\n",
       "      <td>0.006379</td>\n",
       "      <td>0.010970</td>\n",
       "      <td>0.054821</td>\n",
       "      <td>0.010824</td>\n",
       "      <td>0.036521</td>\n",
       "      <td>0.001569</td>\n",
       "      <td>0.000000</td>\n",
       "      <td>0.007046</td>\n",
       "      <td>0.016485</td>\n",
       "    </tr>\n",
       "    <tr>\n",
       "      <th>4</th>\n",
       "      <td>0.030220</td>\n",
       "      <td>0.018252</td>\n",
       "      <td>0.020777</td>\n",
       "      <td>0.020019</td>\n",
       "      <td>0.011684</td>\n",
       "      <td>0.025887</td>\n",
       "      <td>0.026184</td>\n",
       "      <td>0.128590</td>\n",
       "      <td>0.004295</td>\n",
       "      <td>0.026937</td>\n",
       "      <td>...</td>\n",
       "      <td>0.015229</td>\n",
       "      <td>0.022426</td>\n",
       "      <td>0.021216</td>\n",
       "      <td>0.103315</td>\n",
       "      <td>0.031369</td>\n",
       "      <td>0.015148</td>\n",
       "      <td>0.052562</td>\n",
       "      <td>0.009585</td>\n",
       "      <td>0.016674</td>\n",
       "      <td>0.019210</td>\n",
       "    </tr>\n",
       "    <tr>\n",
       "      <th>...</th>\n",
       "      <td>...</td>\n",
       "      <td>...</td>\n",
       "      <td>...</td>\n",
       "      <td>...</td>\n",
       "      <td>...</td>\n",
       "      <td>...</td>\n",
       "      <td>...</td>\n",
       "      <td>...</td>\n",
       "      <td>...</td>\n",
       "      <td>...</td>\n",
       "      <td>...</td>\n",
       "      <td>...</td>\n",
       "      <td>...</td>\n",
       "      <td>...</td>\n",
       "      <td>...</td>\n",
       "      <td>...</td>\n",
       "      <td>...</td>\n",
       "      <td>...</td>\n",
       "      <td>...</td>\n",
       "      <td>...</td>\n",
       "      <td>...</td>\n",
       "    </tr>\n",
       "    <tr>\n",
       "      <th>9603</th>\n",
       "      <td>0.000296</td>\n",
       "      <td>0.004327</td>\n",
       "      <td>0.009578</td>\n",
       "      <td>0.021137</td>\n",
       "      <td>0.003615</td>\n",
       "      <td>0.000002</td>\n",
       "      <td>0.011958</td>\n",
       "      <td>0.068158</td>\n",
       "      <td>0.000000</td>\n",
       "      <td>0.021422</td>\n",
       "      <td>...</td>\n",
       "      <td>0.015679</td>\n",
       "      <td>0.004993</td>\n",
       "      <td>0.000751</td>\n",
       "      <td>0.082499</td>\n",
       "      <td>0.006599</td>\n",
       "      <td>0.021355</td>\n",
       "      <td>0.000000</td>\n",
       "      <td>0.000000</td>\n",
       "      <td>0.001919</td>\n",
       "      <td>0.000000</td>\n",
       "    </tr>\n",
       "    <tr>\n",
       "      <th>9604</th>\n",
       "      <td>0.001309</td>\n",
       "      <td>0.024248</td>\n",
       "      <td>0.010324</td>\n",
       "      <td>0.013353</td>\n",
       "      <td>0.055734</td>\n",
       "      <td>0.004253</td>\n",
       "      <td>0.015045</td>\n",
       "      <td>0.053216</td>\n",
       "      <td>0.008667</td>\n",
       "      <td>0.005393</td>\n",
       "      <td>...</td>\n",
       "      <td>0.060877</td>\n",
       "      <td>0.000983</td>\n",
       "      <td>0.002545</td>\n",
       "      <td>0.028915</td>\n",
       "      <td>0.000000</td>\n",
       "      <td>0.031591</td>\n",
       "      <td>0.000000</td>\n",
       "      <td>0.000000</td>\n",
       "      <td>0.009239</td>\n",
       "      <td>0.024938</td>\n",
       "    </tr>\n",
       "    <tr>\n",
       "      <th>9605</th>\n",
       "      <td>0.000000</td>\n",
       "      <td>0.001602</td>\n",
       "      <td>0.025199</td>\n",
       "      <td>0.010468</td>\n",
       "      <td>0.018996</td>\n",
       "      <td>0.000000</td>\n",
       "      <td>0.015093</td>\n",
       "      <td>0.074283</td>\n",
       "      <td>0.019422</td>\n",
       "      <td>0.011256</td>\n",
       "      <td>...</td>\n",
       "      <td>0.001345</td>\n",
       "      <td>0.000490</td>\n",
       "      <td>0.000000</td>\n",
       "      <td>0.047021</td>\n",
       "      <td>0.007447</td>\n",
       "      <td>0.000605</td>\n",
       "      <td>0.000000</td>\n",
       "      <td>0.000000</td>\n",
       "      <td>0.004592</td>\n",
       "      <td>0.006430</td>\n",
       "    </tr>\n",
       "    <tr>\n",
       "      <th>9606</th>\n",
       "      <td>0.000717</td>\n",
       "      <td>0.017243</td>\n",
       "      <td>0.068906</td>\n",
       "      <td>0.016085</td>\n",
       "      <td>0.074149</td>\n",
       "      <td>0.005620</td>\n",
       "      <td>0.037967</td>\n",
       "      <td>0.060870</td>\n",
       "      <td>0.017103</td>\n",
       "      <td>0.012355</td>\n",
       "      <td>...</td>\n",
       "      <td>0.037908</td>\n",
       "      <td>0.003179</td>\n",
       "      <td>0.004154</td>\n",
       "      <td>0.060977</td>\n",
       "      <td>0.000000</td>\n",
       "      <td>0.020377</td>\n",
       "      <td>0.002604</td>\n",
       "      <td>0.000000</td>\n",
       "      <td>0.005685</td>\n",
       "      <td>0.001605</td>\n",
       "    </tr>\n",
       "    <tr>\n",
       "      <th>9607</th>\n",
       "      <td>0.000000</td>\n",
       "      <td>0.000000</td>\n",
       "      <td>0.038532</td>\n",
       "      <td>0.012869</td>\n",
       "      <td>0.000000</td>\n",
       "      <td>0.000598</td>\n",
       "      <td>0.078337</td>\n",
       "      <td>0.054861</td>\n",
       "      <td>0.000936</td>\n",
       "      <td>0.008619</td>\n",
       "      <td>...</td>\n",
       "      <td>0.006228</td>\n",
       "      <td>0.007681</td>\n",
       "      <td>0.021335</td>\n",
       "      <td>0.066293</td>\n",
       "      <td>0.008289</td>\n",
       "      <td>0.012921</td>\n",
       "      <td>0.000000</td>\n",
       "      <td>0.000000</td>\n",
       "      <td>0.002359</td>\n",
       "      <td>0.014272</td>\n",
       "    </tr>\n",
       "  </tbody>\n",
       "</table>\n",
       "<p>224019 rows × 2048 columns</p>\n",
       "</div>"
      ],
      "text/plain": [
       "             0         1         2         3         4         5         6  \\\n",
       "0     0.007223  0.025258  0.005266  0.022848  0.025487  0.003136  0.035282   \n",
       "1     0.011618  0.014113  0.014650  0.013095  0.016615  0.002255  0.034624   \n",
       "2     0.020664  0.004412  0.034464  0.010096  0.036712  0.021614  0.014366   \n",
       "3     0.041449  0.023162  0.024994  0.015237  0.040375  0.002864  0.061573   \n",
       "4     0.030220  0.018252  0.020777  0.020019  0.011684  0.025887  0.026184   \n",
       "...        ...       ...       ...       ...       ...       ...       ...   \n",
       "9603  0.000296  0.004327  0.009578  0.021137  0.003615  0.000002  0.011958   \n",
       "9604  0.001309  0.024248  0.010324  0.013353  0.055734  0.004253  0.015045   \n",
       "9605  0.000000  0.001602  0.025199  0.010468  0.018996  0.000000  0.015093   \n",
       "9606  0.000717  0.017243  0.068906  0.016085  0.074149  0.005620  0.037967   \n",
       "9607  0.000000  0.000000  0.038532  0.012869  0.000000  0.000598  0.078337   \n",
       "\n",
       "             7         8         9  ...      2038      2039      2040  \\\n",
       "0     0.092605  0.005643  0.031917  ...  0.010778  0.042655  0.004568   \n",
       "1     0.111990  0.000000  0.020815  ...  0.000246  0.028309  0.000752   \n",
       "2     0.084888  0.002679  0.050677  ...  0.004542  0.011037  0.012285   \n",
       "3     0.098285  0.019151  0.037560  ...  0.000000  0.006379  0.010970   \n",
       "4     0.128590  0.004295  0.026937  ...  0.015229  0.022426  0.021216   \n",
       "...        ...       ...       ...  ...       ...       ...       ...   \n",
       "9603  0.068158  0.000000  0.021422  ...  0.015679  0.004993  0.000751   \n",
       "9604  0.053216  0.008667  0.005393  ...  0.060877  0.000983  0.002545   \n",
       "9605  0.074283  0.019422  0.011256  ...  0.001345  0.000490  0.000000   \n",
       "9606  0.060870  0.017103  0.012355  ...  0.037908  0.003179  0.004154   \n",
       "9607  0.054861  0.000936  0.008619  ...  0.006228  0.007681  0.021335   \n",
       "\n",
       "          2041      2042      2043      2044      2045      2046      2047  \n",
       "0     0.117710  0.006165  0.071384  0.015962  0.013544  0.038631  0.013675  \n",
       "1     0.100064  0.014450  0.064217  0.002131  0.010307  0.009037  0.027997  \n",
       "2     0.068529  0.029885  0.014836  0.007723  0.006046  0.007131  0.031449  \n",
       "3     0.054821  0.010824  0.036521  0.001569  0.000000  0.007046  0.016485  \n",
       "4     0.103315  0.031369  0.015148  0.052562  0.009585  0.016674  0.019210  \n",
       "...        ...       ...       ...       ...       ...       ...       ...  \n",
       "9603  0.082499  0.006599  0.021355  0.000000  0.000000  0.001919  0.000000  \n",
       "9604  0.028915  0.000000  0.031591  0.000000  0.000000  0.009239  0.024938  \n",
       "9605  0.047021  0.007447  0.000605  0.000000  0.000000  0.004592  0.006430  \n",
       "9606  0.060977  0.000000  0.020377  0.002604  0.000000  0.005685  0.001605  \n",
       "9607  0.066293  0.008289  0.012921  0.000000  0.000000  0.002359  0.014272  \n",
       "\n",
       "[224019 rows x 2048 columns]"
      ]
     },
     "execution_count": 16,
     "metadata": {},
     "output_type": "execute_result"
    }
   ],
   "source": [
    "gdf.compute()"
   ]
  },
  {
   "cell_type": "code",
   "execution_count": 10,
   "metadata": {},
   "outputs": [
    {
     "ename": "RuntimeError",
     "evalue": "1 of 1 worker jobs failed: X matrix format <class 'dask_cudf.core.DataFrame'> not supported",
     "output_type": "error",
     "traceback": [
      "\u001b[0;31m---------------------------------------------------------------------------\u001b[0m",
      "\u001b[0;31mRuntimeError\u001b[0m                              Traceback (most recent call last)",
      "\u001b[0;32m<timed exec>\u001b[0m in \u001b[0;36m<module>\u001b[0;34m\u001b[0m\n",
      "\u001b[0;32m/opt/conda/envs/rapids/lib/python3.7/site-packages/cuml/common/memory_utils.py\u001b[0m in \u001b[0;36mcupy_rmm_wrapper\u001b[0;34m(*args, **kwargs)\u001b[0m\n\u001b[1;32m     91\u001b[0m     \u001b[0;32mdef\u001b[0m \u001b[0mcupy_rmm_wrapper\u001b[0m\u001b[0;34m(\u001b[0m\u001b[0;34m*\u001b[0m\u001b[0margs\u001b[0m\u001b[0;34m,\u001b[0m \u001b[0;34m**\u001b[0m\u001b[0mkwargs\u001b[0m\u001b[0;34m)\u001b[0m\u001b[0;34m:\u001b[0m\u001b[0;34m\u001b[0m\u001b[0;34m\u001b[0m\u001b[0m\n\u001b[1;32m     92\u001b[0m         \u001b[0;32mwith\u001b[0m \u001b[0mcupy_using_allocator\u001b[0m\u001b[0;34m(\u001b[0m\u001b[0mrmm\u001b[0m\u001b[0;34m.\u001b[0m\u001b[0mrmm_cupy_allocator\u001b[0m\u001b[0;34m)\u001b[0m\u001b[0;34m:\u001b[0m\u001b[0;34m\u001b[0m\u001b[0;34m\u001b[0m\u001b[0m\n\u001b[0;32m---> 93\u001b[0;31m             \u001b[0;32mreturn\u001b[0m \u001b[0mfunc\u001b[0m\u001b[0;34m(\u001b[0m\u001b[0;34m*\u001b[0m\u001b[0margs\u001b[0m\u001b[0;34m,\u001b[0m \u001b[0;34m**\u001b[0m\u001b[0mkwargs\u001b[0m\u001b[0;34m)\u001b[0m\u001b[0;34m\u001b[0m\u001b[0;34m\u001b[0m\u001b[0m\n\u001b[0m\u001b[1;32m     94\u001b[0m \u001b[0;34m\u001b[0m\u001b[0m\n\u001b[1;32m     95\u001b[0m     \u001b[0;31m# Mark the function as already wrapped\u001b[0m\u001b[0;34m\u001b[0m\u001b[0;34m\u001b[0m\u001b[0;34m\u001b[0m\u001b[0m\n",
      "\u001b[0;32m/opt/conda/envs/rapids/lib/python3.7/site-packages/cuml/dask/cluster/dbscan.py\u001b[0m in \u001b[0;36mfit\u001b[0;34m(self, X, out_dtype)\u001b[0m\n\u001b[1;32m    125\u001b[0m                       for worker in comms.worker_addresses]\n\u001b[1;32m    126\u001b[0m \u001b[0;34m\u001b[0m\u001b[0m\n\u001b[0;32m--> 127\u001b[0;31m         \u001b[0mwait_and_raise_from_futures\u001b[0m\u001b[0;34m(\u001b[0m\u001b[0mdbscan_fit\u001b[0m\u001b[0;34m)\u001b[0m\u001b[0;34m\u001b[0m\u001b[0;34m\u001b[0m\u001b[0m\n\u001b[0m\u001b[1;32m    128\u001b[0m \u001b[0;34m\u001b[0m\u001b[0m\n\u001b[1;32m    129\u001b[0m         \u001b[0mcomms\u001b[0m\u001b[0;34m.\u001b[0m\u001b[0mdestroy\u001b[0m\u001b[0;34m(\u001b[0m\u001b[0;34m)\u001b[0m\u001b[0;34m\u001b[0m\u001b[0;34m\u001b[0m\u001b[0m\n",
      "\u001b[0;32m/opt/conda/envs/rapids/lib/python3.7/site-packages/cuml/dask/common/utils.py\u001b[0m in \u001b[0;36mwait_and_raise_from_futures\u001b[0;34m(futures)\u001b[0m\n\u001b[1;32m    160\u001b[0m     \"\"\"\n\u001b[1;32m    161\u001b[0m     \u001b[0mwait\u001b[0m\u001b[0;34m(\u001b[0m\u001b[0mfutures\u001b[0m\u001b[0;34m)\u001b[0m\u001b[0;34m\u001b[0m\u001b[0;34m\u001b[0m\u001b[0m\n\u001b[0;32m--> 162\u001b[0;31m     \u001b[0mraise_exception_from_futures\u001b[0m\u001b[0;34m(\u001b[0m\u001b[0mfutures\u001b[0m\u001b[0;34m)\u001b[0m\u001b[0;34m\u001b[0m\u001b[0;34m\u001b[0m\u001b[0m\n\u001b[0m\u001b[1;32m    163\u001b[0m     \u001b[0;32mreturn\u001b[0m \u001b[0mfutures\u001b[0m\u001b[0;34m\u001b[0m\u001b[0;34m\u001b[0m\u001b[0m\n\u001b[1;32m    164\u001b[0m \u001b[0;34m\u001b[0m\u001b[0m\n",
      "\u001b[0;32m/opt/conda/envs/rapids/lib/python3.7/site-packages/cuml/dask/common/utils.py\u001b[0m in \u001b[0;36mraise_exception_from_futures\u001b[0;34m(futures)\u001b[0m\n\u001b[1;32m    150\u001b[0m     \u001b[0;32mif\u001b[0m \u001b[0merrs\u001b[0m\u001b[0;34m:\u001b[0m\u001b[0;34m\u001b[0m\u001b[0;34m\u001b[0m\u001b[0m\n\u001b[1;32m    151\u001b[0m         raise RuntimeError(\"%d of %d worker jobs failed: %s\" % (\n\u001b[0;32m--> 152\u001b[0;31m             \u001b[0mlen\u001b[0m\u001b[0;34m(\u001b[0m\u001b[0merrs\u001b[0m\u001b[0;34m)\u001b[0m\u001b[0;34m,\u001b[0m \u001b[0mlen\u001b[0m\u001b[0;34m(\u001b[0m\u001b[0mfutures\u001b[0m\u001b[0;34m)\u001b[0m\u001b[0;34m,\u001b[0m \u001b[0;34m\", \"\u001b[0m\u001b[0;34m.\u001b[0m\u001b[0mjoin\u001b[0m\u001b[0;34m(\u001b[0m\u001b[0mmap\u001b[0m\u001b[0;34m(\u001b[0m\u001b[0mstr\u001b[0m\u001b[0;34m,\u001b[0m \u001b[0merrs\u001b[0m\u001b[0;34m)\u001b[0m\u001b[0;34m)\u001b[0m\u001b[0;34m\u001b[0m\u001b[0;34m\u001b[0m\u001b[0m\n\u001b[0m\u001b[1;32m    153\u001b[0m             ))\n\u001b[1;32m    154\u001b[0m \u001b[0;34m\u001b[0m\u001b[0m\n",
      "\u001b[0;31mRuntimeError\u001b[0m: 1 of 1 worker jobs failed: X matrix format <class 'dask_cudf.core.DataFrame'> not supported"
     ]
    }
   ],
   "source": [
    "%%time\n",
    "dask_dbscan = daskDBSCAN( \n",
    "                          client=client,\n",
    "                          eps=0.75,\n",
    "                          metric='euclidean', #default - no manhattan here?\n",
    "                          min_samples=10,\n",
    "                          max_mbytes_per_batch = 10000\n",
    "                        )\n",
    "\n",
    "start_time = time.time()\n",
    "trained_DBSCAN = dask_dbscan.fit(gdf)\n",
    "print(\"--- %s seconds ---\" % (time.time() - start_time))\n",
    "\n",
    "labels = trained_DBSCAN.labels_.values_host\n",
    "\n",
    "# Number of clusters in labels, ignoring noise if present.\n",
    "n_clusters_ = len(set(labels)) - (1 if -1 in labels else 0)\n",
    "n_noise_ = list(labels).count(-1)\n",
    "print('Estimated number of clusters: %d' % n_clusters_)\n",
    "print('Estimated number of noise points: %d' % n_noise_)"
   ]
  },
  {
   "cell_type": "code",
   "execution_count": null,
   "metadata": {},
   "outputs": [],
   "source": []
  },
  {
   "cell_type": "code",
   "execution_count": 34,
   "metadata": {},
   "outputs": [],
   "source": [
    "from cuml.dask.common import to_dask_df"
   ]
  },
  {
   "cell_type": "code",
   "execution_count": null,
   "metadata": {},
   "outputs": [],
   "source": []
  },
  {
   "cell_type": "code",
   "execution_count": 9,
   "metadata": {},
   "outputs": [
    {
     "name": "stdout",
     "output_type": "stream",
     "text": [
      "CPU times: user 8.97 s, sys: 1.16 s, total: 10.1 s\n",
      "Wall time: 12min 52s\n"
     ]
    }
   ],
   "source": [
    "%%time\n",
    "n_clusters = 30\n",
    "random_state = 0\n",
    "\n",
    "kmeans_cuml = daskKMeans(\n",
    "                       client=client,\n",
    "                       init=\"k-means||\",\n",
    "                       n_clusters=n_clusters,\n",
    "                       oversampling_factor=400,\n",
    "                       random_state=random_state)\n",
    "\n",
    "trained_kmeans = kmeans_cuml.fit(gdf)"
   ]
  },
  {
   "cell_type": "code",
   "execution_count": 10,
   "metadata": {},
   "outputs": [],
   "source": [
    "kmeans_labels = trained_kmeans.predict(gdf)"
   ]
  },
  {
   "cell_type": "code",
   "execution_count": 21,
   "metadata": {},
   "outputs": [],
   "source": [
    "import torch"
   ]
  },
  {
   "cell_type": "code",
   "execution_count": 22,
   "metadata": {},
   "outputs": [],
   "source": [
    "torch.save(trained_kmeans, os.path.join(data_dir,'dask_kmeans_model_small.bin'))"
   ]
  },
  {
   "cell_type": "code",
   "execution_count": 11,
   "metadata": {},
   "outputs": [
    {
     "data": {
      "text/plain": [
       "dask_cudf.core.Series"
      ]
     },
     "execution_count": 11,
     "metadata": {},
     "output_type": "execute_result"
    }
   ],
   "source": [
    "type(kmeans_labels)"
   ]
  },
  {
   "cell_type": "code",
   "execution_count": 15,
   "metadata": {},
   "outputs": [],
   "source": [
    "kml_computed = kmeans_labels.compute()"
   ]
  },
  {
   "cell_type": "code",
   "execution_count": 23,
   "metadata": {},
   "outputs": [
    {
     "data": {
      "text/plain": [
       "224019"
      ]
     },
     "execution_count": 23,
     "metadata": {},
     "output_type": "execute_result"
    }
   ],
   "source": [
    "len(kml_computed)"
   ]
  },
  {
   "cell_type": "code",
   "execution_count": 24,
   "metadata": {},
   "outputs": [
    {
     "data": {
      "text/plain": [
       "cudf.core.series.Series"
      ]
     },
     "execution_count": 24,
     "metadata": {},
     "output_type": "execute_result"
    }
   ],
   "source": [
    "type(kml_computed)"
   ]
  },
  {
   "cell_type": "code",
   "execution_count": 25,
   "metadata": {},
   "outputs": [],
   "source": [
    "pd_km_labels = kml_computed.to_pandas()"
   ]
  },
  {
   "cell_type": "code",
   "execution_count": 26,
   "metadata": {},
   "outputs": [
    {
     "data": {
      "text/plain": [
       "pandas.core.series.Series"
      ]
     },
     "execution_count": 26,
     "metadata": {},
     "output_type": "execute_result"
    }
   ],
   "source": [
    "type(pd_km_labels)"
   ]
  },
  {
   "cell_type": "code",
   "execution_count": 27,
   "metadata": {},
   "outputs": [],
   "source": [
    "torch.save(pd_km_labels, os.path.join(data_dir,'dask_kmeans_model_small_labels.bin'))"
   ]
  },
  {
   "cell_type": "code",
   "execution_count": 28,
   "metadata": {},
   "outputs": [
    {
     "name": "stderr",
     "output_type": "stream",
     "text": [
      "/opt/conda/envs/rapids/lib/python3.7/site-packages/seaborn/_decorators.py:43: FutureWarning: Pass the following variables as keyword args: x, y. From version 0.12, the only valid positional argument will be `data`, and passing other arguments without an explicit keyword will result in an error or misinterpretation.\n",
      "  FutureWarning\n"
     ]
    },
    {
     "data": {
      "text/plain": [
       "<AxesSubplot:>"
      ]
     },
     "execution_count": 28,
     "metadata": {},
     "output_type": "execute_result"
    },
    {
     "data": {
      "image/png": "[encoded data removed]",
      "text/plain": [
       "<Figure size 432x288 with 1 Axes>"
      ]
     },
     "metadata": {
      "needs_background": "light"
     },
     "output_type": "display_data"
    }
   ],
   "source": [
    "df_labels = pd.DataFrame(pd_km_labels)\n",
    "rating_count = df_labels[0].value_counts()\n",
    "\n",
    "x = rating_count.index\n",
    "y = rating_count.values\n",
    "\n",
    "sns.barplot(x, y)"
   ]
  },
  {
   "cell_type": "code",
   "execution_count": null,
   "metadata": {},
   "outputs": [],
   "source": []
  }
 ],
 "metadata": {
  "kernelspec": {
   "display_name": "Python 3",
   "language": "python",
   "name": "python3"
  },
  "language_info": {
   "codemirror_mode": {
    "name": "ipython",
    "version": 3
   },
   "file_extension": ".py",
   "mimetype": "text/x-python",
   "name": "python",
   "nbconvert_exporter": "python",
   "pygments_lexer": "ipython3",
   "version": "3.7.10"
  }
 },
 "nbformat": 4,
 "nbformat_minor": 4
}
