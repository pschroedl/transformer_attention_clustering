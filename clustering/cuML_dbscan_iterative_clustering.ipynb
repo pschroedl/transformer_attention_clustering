{
 "cells": [
  {
   "cell_type": "markdown",
   "metadata": {},
   "source": [
    "# DBSCAN grid search on iterative clustering\n",
    "\n",
    "Clustering with epsilon 0.6 and min_samples 10 produced the least \n",
    "\n",
    "Output is visualized in dbscan_cluster_analysis.ipynb"
   ]
  },
  {
   "cell_type": "code",
   "execution_count": 1,
   "metadata": {},
   "outputs": [],
   "source": [
    "import os\n",
    "import time"
   ]
  },
  {
   "cell_type": "code",
   "execution_count": 2,
   "metadata": {},
   "outputs": [],
   "source": [
    "import seaborn as sns\n",
    "import pandas as pd\n",
    "import matplotlib.pyplot as plt\n",
    "import numpy as np\n",
    "%matplotlib inline"
   ]
  },
  {
   "cell_type": "code",
   "execution_count": 3,
   "metadata": {},
   "outputs": [],
   "source": [
    "from cuml.cluster import KMeans as cuKMeans\n",
    "from cuml.neighbors import NearestNeighbors\n",
    "import cupy"
   ]
  },
  {
   "cell_type": "code",
   "execution_count": 4,
   "metadata": {},
   "outputs": [],
   "source": [
    "from dask_cuda import LocalCUDACluster\n",
    "import dask_cudf\n",
    "from dask.distributed import Client\n",
    "import dask.dataframe as dd\n",
    "from cuml.dask.cluster.dbscan import DBSCAN as daskDBSCAN"
   ]
  },
  {
   "cell_type": "code",
   "execution_count": 5,
   "metadata": {},
   "outputs": [],
   "source": [
    "import torch"
   ]
  },
  {
   "cell_type": "code",
   "execution_count": 61,
   "metadata": {},
   "outputs": [],
   "source": [
    "output_dir='/rapids/notebooks/host/representations/output/iterative/'"
   ]
  },
  {
   "cell_type": "code",
   "execution_count": 62,
   "metadata": {},
   "outputs": [],
   "source": [
    "input_dir='/rapids/notebooks/host/representations/output/low_epsilon/'"
   ]
  },
  {
   "cell_type": "code",
   "execution_count": 7,
   "metadata": {},
   "outputs": [],
   "source": [
    "# cluster = LocalCUDACluster(CUDA_VISIBLE_DEVICES=\"0,1\")\n",
    "# client = Client(cluster)"
   ]
  },
  {
   "cell_type": "code",
   "execution_count": 71,
   "metadata": {},
   "outputs": [
    {
     "data": {
      "text/html": [
       "<table style=\"border: 2px solid white;\">\n",
       "<tr>\n",
       "<td style=\"vertical-align: top; border: 0px solid white\">\n",
       "<h3 style=\"text-align: left;\">Client</h3>\n",
       "<ul style=\"text-align: left; list-style: none; margin: 0; padding: 0;\">\n",
       "  <li><b>Scheduler: </b>tcp://127.0.0.1:38825</li>\n",
       "  <li><b>Dashboard: </b><a href='http://127.0.0.1:8787/status' target='_blank'>http://127.0.0.1:8787/status</a></li>\n",
       "</ul>\n",
       "</td>\n",
       "<td style=\"vertical-align: top; border: 0px solid white\">\n",
       "<h3 style=\"text-align: left;\">Cluster</h3>\n",
       "<ul style=\"text-align: left; list-style:none; margin: 0; padding: 0;\">\n",
       "  <li><b>Workers: </b>2</li>\n",
       "  <li><b>Cores: </b>2</li>\n",
       "  <li><b>Memory: </b>125.50 GiB</li>\n",
       "</ul>\n",
       "</td>\n",
       "</tr>\n",
       "</table>"
      ],
      "text/plain": [
       "<Client: 'tcp://127.0.0.1:38825' processes=2 threads=2, memory=125.50 GiB>"
      ]
     },
     "execution_count": 71,
     "metadata": {},
     "output_type": "execute_result"
    }
   ],
   "source": [
    "client = Client(\"tcp://127.0.0.1:38825\")\n",
    "client"
   ]
  },
  {
   "cell_type": "code",
   "execution_count": 9,
   "metadata": {},
   "outputs": [],
   "source": [
    "import glob\n",
    "\n",
    "def pd_read_pattern(pattern):\n",
    "    files = glob.glob(pattern)\n",
    "\n",
    "    df = pd.DataFrame()\n",
    "    for f in files:\n",
    "        df = df.append(pd.read_csv(f))\n",
    "\n",
    "    return df.reset_index(drop=True)\n",
    "\n",
    "def layer(index):\n",
    "    layer_head_location = index % 144\n",
    "    return int(layer_head_location/12)\n",
    "    \n",
    "def head(index):\n",
    "    layer_head_location = index % 144\n",
    "    layer = int(layer_head_location/12)\n",
    "    return layer_head_location % 12\n",
    "\n",
    "def index_layer_heads(df):\n",
    "    df.rename(columns={0:'cluster'},inplace=True)\n",
    "    df['layer'] = (df.index.to_series().apply(layer))\n",
    "    df['head'] = (df.index.to_series().apply(head))\n",
    "    return df"
   ]
  },
  {
   "cell_type": "code",
   "execution_count": null,
   "metadata": {},
   "outputs": [],
   "source": []
  },
  {
   "cell_type": "code",
   "execution_count": 11,
   "metadata": {},
   "outputs": [],
   "source": [
    "# load full partitioned dataset - read in as pandas df,\n",
    "# for some reason dask cuml dbscan doesn't accept a dask cdDF?\n",
    "# https://docs.rapids.ai/api/cuml/nightly/api.html?highlight=regression#multi-node-multi-gpu-algorithms\n",
    "gdf = pd_read_pattern('/rapids/notebooks/host/representations/final/partitions/half/*.csv')\n",
    "# loading  0-125,000 skipping 10,000 at a time - 300 examples per file"
   ]
  },
  {
   "cell_type": "code",
   "execution_count": 63,
   "metadata": {},
   "outputs": [],
   "source": [
    "df = torch.load(os.path.join(input_dir,'dask_dbscan_0.6_10_label_df.bin'))"
   ]
  },
  {
   "cell_type": "code",
   "execution_count": 64,
   "metadata": {},
   "outputs": [
    {
     "name": "stdout",
     "output_type": "stream",
     "text": [
      "clusters: 646\n",
      "\n",
      "-1     476443\n",
      " 0      83688\n",
      " 23        33\n",
      " 1         25\n",
      " 15        25\n",
      " 13        23\n",
      " 18        21\n",
      " 10        19\n",
      " 25        18\n",
      "Name: cluster, dtype: int64\n"
     ]
    }
   ],
   "source": [
    "cluster_counts = df['cluster'].value_counts(sort=True)\n",
    "print(f'clusters: {len(cluster_counts)}\\n')\n",
    "print(cluster_counts[0:9])"
   ]
  },
  {
   "cell_type": "code",
   "execution_count": 65,
   "metadata": {},
   "outputs": [
    {
     "name": "stdout",
     "output_type": "stream",
     "text": [
      "<class 'pandas.core.frame.DataFrame'>\n",
      "Int64Index: 83688 entries, 2 to 561489\n",
      "Data columns (total 3 columns):\n",
      " #   Column   Non-Null Count  Dtype\n",
      "---  ------   --------------  -----\n",
      " 0   cluster  83688 non-null  int32\n",
      " 1   layer    83688 non-null  int64\n",
      " 2   head     83688 non-null  int64\n",
      "dtypes: int32(1), int64(2)\n",
      "memory usage: 2.2 MB\n"
     ]
    }
   ],
   "source": [
    "df_0 = df[df['cluster'] == 0]\n",
    "df_0.info()"
   ]
  },
  {
   "cell_type": "code",
   "execution_count": 66,
   "metadata": {},
   "outputs": [
    {
     "data": {
      "text/html": [
       "<div>\n",
       "<style scoped>\n",
       "    .dataframe tbody tr th:only-of-type {\n",
       "        vertical-align: middle;\n",
       "    }\n",
       "\n",
       "    .dataframe tbody tr th {\n",
       "        vertical-align: top;\n",
       "    }\n",
       "\n",
       "    .dataframe thead th {\n",
       "        text-align: right;\n",
       "    }\n",
       "</style>\n",
       "<table border=\"1\" class=\"dataframe\">\n",
       "  <thead>\n",
       "    <tr style=\"text-align: right;\">\n",
       "      <th></th>\n",
       "      <th>cluster</th>\n",
       "      <th>layer</th>\n",
       "      <th>head</th>\n",
       "    </tr>\n",
       "  </thead>\n",
       "  <tbody>\n",
       "    <tr>\n",
       "      <th>2</th>\n",
       "      <td>0</td>\n",
       "      <td>0</td>\n",
       "      <td>2</td>\n",
       "    </tr>\n",
       "    <tr>\n",
       "      <th>3</th>\n",
       "      <td>0</td>\n",
       "      <td>0</td>\n",
       "      <td>3</td>\n",
       "    </tr>\n",
       "    <tr>\n",
       "      <th>8</th>\n",
       "      <td>0</td>\n",
       "      <td>0</td>\n",
       "      <td>8</td>\n",
       "    </tr>\n",
       "    <tr>\n",
       "      <th>10</th>\n",
       "      <td>0</td>\n",
       "      <td>0</td>\n",
       "      <td>10</td>\n",
       "    </tr>\n",
       "    <tr>\n",
       "      <th>13</th>\n",
       "      <td>0</td>\n",
       "      <td>1</td>\n",
       "      <td>1</td>\n",
       "    </tr>\n",
       "  </tbody>\n",
       "</table>\n",
       "</div>"
      ],
      "text/plain": [
       "    cluster  layer  head\n",
       "2         0      0     2\n",
       "3         0      0     3\n",
       "8         0      0     8\n",
       "10        0      0    10\n",
       "13        0      1     1"
      ]
     },
     "execution_count": 66,
     "metadata": {},
     "output_type": "execute_result"
    }
   ],
   "source": [
    "df_0.head()"
   ]
  },
  {
   "cell_type": "code",
   "execution_count": 67,
   "metadata": {},
   "outputs": [],
   "source": [
    "df_0_indices = df_0.index.to_list()"
   ]
  },
  {
   "cell_type": "code",
   "execution_count": 68,
   "metadata": {},
   "outputs": [
    {
     "data": {
      "text/html": [
       "<div>\n",
       "<style scoped>\n",
       "    .dataframe tbody tr th:only-of-type {\n",
       "        vertical-align: middle;\n",
       "    }\n",
       "\n",
       "    .dataframe tbody tr th {\n",
       "        vertical-align: top;\n",
       "    }\n",
       "\n",
       "    .dataframe thead th {\n",
       "        text-align: right;\n",
       "    }\n",
       "</style>\n",
       "<table border=\"1\" class=\"dataframe\">\n",
       "  <thead>\n",
       "    <tr style=\"text-align: right;\">\n",
       "      <th></th>\n",
       "      <th>0</th>\n",
       "      <th>1</th>\n",
       "      <th>2</th>\n",
       "      <th>3</th>\n",
       "      <th>4</th>\n",
       "      <th>5</th>\n",
       "      <th>6</th>\n",
       "      <th>7</th>\n",
       "      <th>8</th>\n",
       "      <th>9</th>\n",
       "      <th>...</th>\n",
       "      <th>2038</th>\n",
       "      <th>2039</th>\n",
       "      <th>2040</th>\n",
       "      <th>2041</th>\n",
       "      <th>2042</th>\n",
       "      <th>2043</th>\n",
       "      <th>2044</th>\n",
       "      <th>2045</th>\n",
       "      <th>2046</th>\n",
       "      <th>2047</th>\n",
       "    </tr>\n",
       "  </thead>\n",
       "  <tbody>\n",
       "    <tr>\n",
       "      <th>2</th>\n",
       "      <td>0.000000</td>\n",
       "      <td>0.000915</td>\n",
       "      <td>0.011240</td>\n",
       "      <td>0.017890</td>\n",
       "      <td>0.028221</td>\n",
       "      <td>0.000000</td>\n",
       "      <td>0.034561</td>\n",
       "      <td>0.068724</td>\n",
       "      <td>0.003225</td>\n",
       "      <td>0.002210</td>\n",
       "      <td>...</td>\n",
       "      <td>0.030051</td>\n",
       "      <td>0.000000</td>\n",
       "      <td>0.015314</td>\n",
       "      <td>0.039816</td>\n",
       "      <td>0.000000</td>\n",
       "      <td>0.004509</td>\n",
       "      <td>0.000000</td>\n",
       "      <td>0.00853</td>\n",
       "      <td>0.004781</td>\n",
       "      <td>0.031056</td>\n",
       "    </tr>\n",
       "    <tr>\n",
       "      <th>3</th>\n",
       "      <td>0.000000</td>\n",
       "      <td>0.001661</td>\n",
       "      <td>0.008804</td>\n",
       "      <td>0.026601</td>\n",
       "      <td>0.039442</td>\n",
       "      <td>0.000000</td>\n",
       "      <td>0.033881</td>\n",
       "      <td>0.074009</td>\n",
       "      <td>0.025130</td>\n",
       "      <td>0.009409</td>\n",
       "      <td>...</td>\n",
       "      <td>0.038725</td>\n",
       "      <td>0.000194</td>\n",
       "      <td>0.012723</td>\n",
       "      <td>0.045480</td>\n",
       "      <td>0.000000</td>\n",
       "      <td>0.007676</td>\n",
       "      <td>0.000000</td>\n",
       "      <td>0.00000</td>\n",
       "      <td>0.002801</td>\n",
       "      <td>0.016614</td>\n",
       "    </tr>\n",
       "    <tr>\n",
       "      <th>8</th>\n",
       "      <td>0.000000</td>\n",
       "      <td>0.000000</td>\n",
       "      <td>0.013861</td>\n",
       "      <td>0.009974</td>\n",
       "      <td>0.020393</td>\n",
       "      <td>0.000000</td>\n",
       "      <td>0.000000</td>\n",
       "      <td>0.080442</td>\n",
       "      <td>0.000000</td>\n",
       "      <td>0.006803</td>\n",
       "      <td>...</td>\n",
       "      <td>0.000000</td>\n",
       "      <td>0.026788</td>\n",
       "      <td>0.012317</td>\n",
       "      <td>0.040445</td>\n",
       "      <td>0.000028</td>\n",
       "      <td>0.031078</td>\n",
       "      <td>0.000561</td>\n",
       "      <td>0.00000</td>\n",
       "      <td>0.000368</td>\n",
       "      <td>0.034905</td>\n",
       "    </tr>\n",
       "    <tr>\n",
       "      <th>10</th>\n",
       "      <td>0.000000</td>\n",
       "      <td>0.000000</td>\n",
       "      <td>0.013547</td>\n",
       "      <td>0.001830</td>\n",
       "      <td>0.035910</td>\n",
       "      <td>0.001115</td>\n",
       "      <td>0.010958</td>\n",
       "      <td>0.072014</td>\n",
       "      <td>0.007152</td>\n",
       "      <td>0.010255</td>\n",
       "      <td>...</td>\n",
       "      <td>0.029918</td>\n",
       "      <td>0.000000</td>\n",
       "      <td>0.008261</td>\n",
       "      <td>0.051248</td>\n",
       "      <td>0.008916</td>\n",
       "      <td>0.001374</td>\n",
       "      <td>0.000000</td>\n",
       "      <td>0.00000</td>\n",
       "      <td>0.000655</td>\n",
       "      <td>0.012605</td>\n",
       "    </tr>\n",
       "    <tr>\n",
       "      <th>13</th>\n",
       "      <td>0.000444</td>\n",
       "      <td>0.000000</td>\n",
       "      <td>0.013867</td>\n",
       "      <td>0.002874</td>\n",
       "      <td>0.026968</td>\n",
       "      <td>0.000000</td>\n",
       "      <td>0.021565</td>\n",
       "      <td>0.062461</td>\n",
       "      <td>0.002077</td>\n",
       "      <td>0.028647</td>\n",
       "      <td>...</td>\n",
       "      <td>0.011395</td>\n",
       "      <td>0.000000</td>\n",
       "      <td>0.033766</td>\n",
       "      <td>0.046177</td>\n",
       "      <td>0.000000</td>\n",
       "      <td>0.018440</td>\n",
       "      <td>0.000000</td>\n",
       "      <td>0.00000</td>\n",
       "      <td>0.000000</td>\n",
       "      <td>0.017967</td>\n",
       "    </tr>\n",
       "  </tbody>\n",
       "</table>\n",
       "<p>5 rows × 2048 columns</p>\n",
       "</div>"
      ],
      "text/plain": [
       "           0         1         2         3         4         5         6  \\\n",
       "2   0.000000  0.000915  0.011240  0.017890  0.028221  0.000000  0.034561   \n",
       "3   0.000000  0.001661  0.008804  0.026601  0.039442  0.000000  0.033881   \n",
       "8   0.000000  0.000000  0.013861  0.009974  0.020393  0.000000  0.000000   \n",
       "10  0.000000  0.000000  0.013547  0.001830  0.035910  0.001115  0.010958   \n",
       "13  0.000444  0.000000  0.013867  0.002874  0.026968  0.000000  0.021565   \n",
       "\n",
       "           7         8         9  ...      2038      2039      2040      2041  \\\n",
       "2   0.068724  0.003225  0.002210  ...  0.030051  0.000000  0.015314  0.039816   \n",
       "3   0.074009  0.025130  0.009409  ...  0.038725  0.000194  0.012723  0.045480   \n",
       "8   0.080442  0.000000  0.006803  ...  0.000000  0.026788  0.012317  0.040445   \n",
       "10  0.072014  0.007152  0.010255  ...  0.029918  0.000000  0.008261  0.051248   \n",
       "13  0.062461  0.002077  0.028647  ...  0.011395  0.000000  0.033766  0.046177   \n",
       "\n",
       "        2042      2043      2044     2045      2046      2047  \n",
       "2   0.000000  0.004509  0.000000  0.00853  0.004781  0.031056  \n",
       "3   0.000000  0.007676  0.000000  0.00000  0.002801  0.016614  \n",
       "8   0.000028  0.031078  0.000561  0.00000  0.000368  0.034905  \n",
       "10  0.008916  0.001374  0.000000  0.00000  0.000655  0.012605  \n",
       "13  0.000000  0.018440  0.000000  0.00000  0.000000  0.017967  \n",
       "\n",
       "[5 rows x 2048 columns]"
      ]
     },
     "execution_count": 68,
     "metadata": {},
     "output_type": "execute_result"
    }
   ],
   "source": [
    "gdf_0 = gdf[gdf.index.isin(df_0_indices)]\n",
    "gdf_0.head()"
   ]
  },
  {
   "cell_type": "code",
   "execution_count": 69,
   "metadata": {},
   "outputs": [
    {
     "data": {
      "text/plain": [
       "83688"
      ]
     },
     "execution_count": 69,
     "metadata": {},
     "output_type": "execute_result"
    }
   ],
   "source": [
    "len(gdf_0)"
   ]
  },
  {
   "cell_type": "code",
   "execution_count": 52,
   "metadata": {},
   "outputs": [
    {
     "data": {
      "text/plain": [
       "[<matplotlib.lines.Line2D at 0x7fb666dac590>]"
      ]
     },
     "execution_count": 52,
     "metadata": {},
     "output_type": "execute_result"
    },
    {
     "data": {
      "image/png": "[encoded data removed]",
      "text/plain": [
       "<Figure size 720x360 with 1 Axes>"
      ]
     },
     "metadata": {
      "needs_background": "light"
     },
     "output_type": "display_data"
    }
   ],
   "source": [
    "# %matplotlib widget\n",
    "plt.figure(figsize=(10,5))\n",
    "nn = NearestNeighbors(n_neighbors=5).fit(gdf_0)\n",
    "distances, idx = nn.kneighbors(gdf_0)\n",
    "distances = cupy.asnumpy(distances)\n",
    "distances = np.sort(distances, axis=0)\n",
    "distances = distances[:,1]\n",
    "\n",
    "plt.plot(distances)"
   ]
  },
  {
   "cell_type": "code",
   "execution_count": 60,
   "metadata": {},
   "outputs": [
    {
     "name": "stdout",
     "output_type": "stream",
     "text": [
      "Fitting e: 0.3 s: 5\n",
      "e: 0.3 s: 5 c: 309 n: 81765\n",
      "Fitting e: 0.3 s: 10\n",
      "e: 0.3 s: 10 c: 9 n: 83547\n",
      "Fitting e: 0.3 s: 15\n",
      "e: 0.3 s: 15 c: 2 n: 83658\n",
      "Fitting e: 0.3 s: 20\n",
      "e: 0.3 s: 20 c: 0 n: 83688\n",
      "Fitting e: 0.3 s: 25\n",
      "e: 0.3 s: 25 c: 0 n: 83688\n",
      "Fitting e: 0.4 s: 5\n",
      "e: 0.4 s: 5 c: 524 n: 77307\n",
      "Fitting e: 0.4 s: 10\n",
      "e: 0.4 s: 10 c: 31 n: 80479\n",
      "Fitting e: 0.4 s: 15\n",
      "e: 0.4 s: 15 c: 3 n: 80978\n",
      "Fitting e: 0.4 s: 20\n",
      "e: 0.4 s: 20 c: 3 n: 81141\n",
      "Fitting e: 0.4 s: 25\n",
      "e: 0.4 s: 25 c: 3 n: 81299\n",
      "Fitting e: 0.5 s: 5\n",
      "e: 0.5 s: 5 c: 737 n: 60946\n",
      "Fitting e: 0.5 s: 10\n",
      "e: 0.5 s: 10 c: 54 n: 67121\n",
      "Fitting e: 0.5 s: 15\n",
      "e: 0.5 s: 15 c: 14 n: 68540\n",
      "Fitting e: 0.5 s: 20\n",
      "e: 0.5 s: 20 c: 6 n: 69325\n",
      "Fitting e: 0.5 s: 25\n",
      "e: 0.5 s: 25 c: 4 n: 69924\n"
     ]
    }
   ],
   "source": [
    "\n",
    "results = pd.DataFrame(columns=['eps','min_samples','n_clusters','n_noise'])\n",
    "\n",
    "epsilon_range = np.arange(0.30,0.60,0.1)\n",
    "min_sample_range = range(5,30,5)\n",
    "\n",
    "for e in epsilon_range:\n",
    "    for m in min_sample_range:\n",
    "        eps = e\n",
    "        min_samples = m\n",
    "        cuml_dbscan = daskDBSCAN( eps = eps,\n",
    "                                  metric='euclidean',\n",
    "                                  min_samples = min_samples,\n",
    "                                  max_mbytes_per_batch = 10000\n",
    "                                )\n",
    "        print(f'Fitting e: {eps} s: {min_samples}')\n",
    "        trained_DBSCAN = cuml_dbscan.fit(gdf_0)\n",
    "        labels = trained_DBSCAN.labels_\n",
    "\n",
    "        n_clusters_ = len(set(labels)) - (1 if -1 in labels else 0)\n",
    "        n_noise_ = list(labels).count(-1)\n",
    "        print(f'e: {eps} s: {min_samples} c: {n_clusters_} n: {n_noise_}')\n",
    "\n",
    "        df_labels = pd.DataFrame(labels)\n",
    "        df_labels = index_layer_heads(df_labels)\n",
    "\n",
    "        torch.save(df_labels, os.path.join(output_dir,f'dask_dbscan_{eps}_{min_samples}_label_df.bin'))\n",
    "\n",
    "        results.append({\n",
    "            'eps': eps,\n",
    "            'min_samples': min_samples,\n",
    "            'n_clusters': n_clusters_,\n",
    "            'n_noise': n_noise_\n",
    "        }, ignore_index=True)\n",
    "\n",
    "torch.save(results, os.path.join(output_dir,'results_0.3-0.5_5-30_df.bin'))"
   ]
  },
  {
   "cell_type": "code",
   "execution_count": null,
   "metadata": {},
   "outputs": [],
   "source": [
    "# fitting epsilon 0.6 n 5-25 resulted in only one cluster for min_samples 5, so was aborted"
   ]
  },
  {
   "cell_type": "markdown",
   "metadata": {},
   "source": [
    "# re-clustering the largest cluster of .7 min_samples 10 initial clustering - which has a much lower noise to sample point ratio at ~50%"
   ]
  },
  {
   "cell_type": "code",
   "execution_count": 81,
   "metadata": {},
   "outputs": [],
   "source": [
    "input_dir='/rapids/notebooks/host/representations/output/low_epsilon/'\n",
    "output_dir='/rapids/notebooks/host/representations/output/iterative_0.7_10/'\n",
    "df = torch.load(os.path.join(input_dir,'dask_dbscan_0.7_10_label_df.bin'))"
   ]
  },
  {
   "cell_type": "code",
   "execution_count": 82,
   "metadata": {},
   "outputs": [
    {
     "name": "stdout",
     "output_type": "stream",
     "text": [
      "clusters: 283\n",
      "\n",
      "-1      296926\n",
      " 0      260713\n",
      " 15        162\n",
      " 3          93\n",
      " 14         54\n",
      " 206        49\n",
      " 40         43\n",
      " 29         42\n",
      " 76         41\n",
      "Name: cluster, dtype: int64\n"
     ]
    }
   ],
   "source": [
    "cluster_counts = df['cluster'].value_counts(sort=True)\n",
    "print(f'clusters: {len(cluster_counts)}\\n')\n",
    "print(cluster_counts[0:9])"
   ]
  },
  {
   "cell_type": "code",
   "execution_count": 83,
   "metadata": {},
   "outputs": [
    {
     "name": "stdout",
     "output_type": "stream",
     "text": [
      "<class 'pandas.core.frame.DataFrame'>\n",
      "Int64Index: 260713 entries, 0 to 561557\n",
      "Data columns (total 3 columns):\n",
      " #   Column   Non-Null Count   Dtype\n",
      "---  ------   --------------   -----\n",
      " 0   cluster  260713 non-null  int32\n",
      " 1   layer    260713 non-null  int64\n",
      " 2   head     260713 non-null  int64\n",
      "dtypes: int32(1), int64(2)\n",
      "memory usage: 7.0 MB\n"
     ]
    }
   ],
   "source": [
    "df_0 = df[df['cluster'] == 0]\n",
    "df_0.info()"
   ]
  },
  {
   "cell_type": "code",
   "execution_count": 84,
   "metadata": {},
   "outputs": [],
   "source": [
    "df_0_indices = df_0.index.to_list()"
   ]
  },
  {
   "cell_type": "code",
   "execution_count": 87,
   "metadata": {},
   "outputs": [
    {
     "data": {
      "text/plain": [
       "260713"
      ]
     },
     "execution_count": 87,
     "metadata": {},
     "output_type": "execute_result"
    }
   ],
   "source": [
    "gdf_0 = gdf[gdf.index.isin(df_0_indices)]\n",
    "len(gdf_0)"
   ]
  },
  {
   "cell_type": "code",
   "execution_count": 86,
   "metadata": {},
   "outputs": [
    {
     "data": {
      "text/plain": [
       "[<matplotlib.lines.Line2D at 0x7fb666189090>]"
      ]
     },
     "execution_count": 86,
     "metadata": {},
     "output_type": "execute_result"
    },
    {
     "data": {
      "image/png": "[encoded data removed]",
      "text/plain": [
       "<Figure size 720x360 with 1 Axes>"
      ]
     },
     "metadata": {
      "needs_background": "light"
     },
     "output_type": "display_data"
    }
   ],
   "source": [
    "# %matplotlib widget\n",
    "plt.figure(figsize=(10,5))\n",
    "nn = NearestNeighbors(n_neighbors=5).fit(gdf_0)\n",
    "distances, idx = nn.kneighbors(gdf_0)\n",
    "distances = cupy.asnumpy(distances)\n",
    "distances = np.sort(distances, axis=0)\n",
    "distances = distances[:,1]\n",
    "\n",
    "plt.plot(distances)"
   ]
  },
  {
   "cell_type": "code",
   "execution_count": null,
   "metadata": {},
   "outputs": [
    {
     "name": "stdout",
     "output_type": "stream",
     "text": [
      "e: 0.35 s: 5 c: 644 n: 255453\n",
      "e: 0.35 s: 10 c: 22 n: 259380\n"
     ]
    }
   ],
   "source": [
    "epsilon_range = np.arange(0.35,0.65,0.1)\n",
    "min_sample_range = range(5,15,5)\n",
    "\n",
    "\n",
    "for e in epsilon_range:\n",
    "    for m in min_sample_range:\n",
    "        eps = e\n",
    "        min_samples = m\n",
    "        cuml_dbscan = daskDBSCAN( eps = eps,\n",
    "                                  metric='euclidean',\n",
    "                                  min_samples = min_samples,\n",
    "                                  max_mbytes_per_batch = 10000\n",
    "                                )\n",
    "\n",
    "        trained_DBSCAN = cuml_dbscan.fit(gdf_0)\n",
    "        labels = trained_DBSCAN.labels_\n",
    "\n",
    "        n_clusters_ = len(set(labels)) - (1 if -1 in labels else 0)\n",
    "        n_noise_ = list(labels).count(-1)\n",
    "        print(f'e: {eps} s: {min_samples} c: {n_clusters_} n: {n_noise_}')\n",
    "        \n",
    "        df_labels = pd.DataFrame(labels)\n",
    "        df_labels = index_layer_heads(df_labels)\n",
    "\n",
    "        torch.save(df_labels, os.path.join(output_dir,f'dask_dbscan_{eps}_{min_samples}_label_df.bin'))\n",
    "\n",
    "        results.append({\n",
    "            'eps': eps,\n",
    "            'min_samples': min_samples,\n",
    "            'n_clusters': n_clusters_,\n",
    "            'n_noise': n_noise_\n",
    "        }, ignore_index=True)\n",
    "\n",
    "torch.save(results, os.path.join(output_dir,'results_0.35-0.55_5-10_df.bin'))"
   ]
  },
  {
   "cell_type": "code",
   "execution_count": null,
   "metadata": {},
   "outputs": [],
   "source": []
  }
 ],
 "metadata": {
  "kernelspec": {
   "display_name": "Python 3",
   "language": "python",
   "name": "python3"
  },
  "language_info": {
   "codemirror_mode": {
    "name": "ipython",
    "version": 3
   },
   "file_extension": ".py",
   "mimetype": "text/x-python",
   "name": "python",
   "nbconvert_exporter": "python",
   "pygments_lexer": "ipython3",
   "version": "3.7.10"
  }
 },
 "nbformat": 4,
 "nbformat_minor": 4
}
