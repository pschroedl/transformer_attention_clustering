{
 "cells": [
  {
   "cell_type": "markdown",
   "id": "28b9d798-a225-4ac3-9d8c-acb60786179a",
   "metadata": {},
   "source": [
    "# Removing first column index\n",
    "\n",
    "During initial clustering of the output of extract_transform_attentions, there were initially some interesting results.  Specifically, when we used PCA to experiment with the effectiveness of dimensionality reduction.  It turns out it doesn't do a good job retaining much explainability with our data.\n",
    "\n",
    "That was only discovered after our first head-scratcher - the first principal component, upon inspecting, was monotonically increasing(?)  Looking at the raw output of extract_transform_attentions, we realized that when saving to CSV, we had inserted an index as column 1.  Since the pipeline took the better part of a week to run and produce ~400GB of data, this short script was created and allowed us to remove that first column from the dataset in a few short hours.  At least this time we could take advantage of multi-processing, but RAM usage was still a concern, so only 2 files were able to be processed concurrently.\n",
    "\n",
    "This was also the case for our data that had taken over night to upload to a google cloud storage bucket, so this script was slightly modified and run on a GCP compute vm overnight as well."
   ]
  },
  {
   "cell_type": "code",
   "execution_count": null,
   "id": "b9b90a84-b9a2-4266-984b-7982b9ddc103",
   "metadata": {},
   "outputs": [],
   "source": [
    "import pandas as pd\n",
    "import logging\n",
    "import time\n",
    "\n",
    "import multiprocessing as mp\n",
    "p = mp.Pool(2)"
   ]
  },
  {
   "cell_type": "code",
   "execution_count": 2,
   "id": "8014283d-6e08-46c1-a9ea-49a4524c09f1",
   "metadata": {},
   "outputs": [],
   "source": [
    "def clean_index(count):\n",
    "        start_time = time.time()\n",
    "        print(f'Beginning transform of {count} ...')\n",
    "        df = pd.read_csv(f'representation_df_{count}.csv')\n",
    "        df = df.iloc[:,1:]\n",
    "        print(f'Writing transformed {count} ...')\n",
    "        df.to_csv(f'final/final_representation_df_{count}.csv', index=False)  \n",
    "        print(f'--- Finished writing transformed {count} in {(time.time() - start_time)/60} minutes ---\"')\n",
    "        print(\"--- %s seconds ---\" % (time.time() - start_time))\n",
    "        return count"
   ]
  },
  {
   "cell_type": "code",
   "execution_count": 3,
   "id": "63b37a3a-d885-46b0-af72-eb447514f67a",
   "metadata": {},
   "outputs": [],
   "source": [
    "## for running on gcp\n",
    "# def clean_index(count):\n",
    "#         start_time = time.time()\n",
    "#         print(f'Beginning transform of {count} ...')\n",
    "#         df = pd.read_csv(f'gs://representations/raw_representations_with_index/representation_df_{count}.csv')\n",
    "#         df = df.iloc[:,1:]\n",
    "#         print(f'Writing transformed {count} ...')\n",
    "#         df.to_csv(f'gs://representations/final/final_representation_df_{count}.csv', index=False)  \n",
    "#         print(f'--- Finished writing transformed {count} in {(time.time() - start_time)/60} minutes ---\"')\n",
    "#         print(\"--- %s seconds ---\" % (time.time() - start_time))\n",
    "#         return count"
   ]
  },
  {
   "cell_type": "code",
   "execution_count": null,
   "id": "6fed2b1d-5f77-4636-a5f4-ea71e4161e0b",
   "metadata": {},
   "outputs": [
    {
     "name": "stdout",
     "output_type": "stream",
     "text": [
      "Beginning transform of 45000 ...\n",
      "Beginning transform of 65000 ...\n",
      "Writing transformed 45000 ...\n",
      "Writing transformed 65000 ...\n",
      "--- Finished writing transformed 65000 in 29.023671944936115 minutes ---\"\n",
      "--- 1741.4221730232239 seconds ---\n",
      "Beginning transform of 70000 ...\n",
      "--- Finished writing transformed 45000 in 29.028982969125114 minutes ---\"\n",
      "--- 1741.742642402649 seconds ---\n",
      "Beginning transform of 50000 ...\n",
      "Writing transformed 70000 ...\n",
      "Writing transformed 50000 ...\n",
      "--- Finished writing transformed 70000 in 28.93064546585083 minutes ---\"\n",
      "--- 1735.8410482406616 seconds ---\n",
      "Beginning transform of 75000 ...\n",
      "--- Finished writing transformed 50000 in 29.01656938791275 minutes ---\"\n",
      "--- 1740.996126651764 seconds ---\n",
      "Beginning transform of 55000 ...\n",
      "Writing transformed 75000 ...\n",
      "Writing transformed 55000 ...\n",
      "--- Finished writing transformed 75000 in 28.92327152490616 minutes ---\"\n",
      "--- 1735.3983399868011 seconds ---\n",
      "Beginning transform of 80000 ...\n",
      "--- Finished writing transformed 55000 in 28.860015253225964 minutes ---\"\n",
      "--- 1731.6036713123322 seconds ---\n",
      "Beginning transform of 60000 ...\n",
      "Writing transformed 80000 ...\n",
      "Writing transformed 60000 ...\n",
      "--- Finished writing transformed 60000 in 28.795423158009847 minutes ---\"\n",
      "--- 1727.7273547649384 seconds ---\n",
      "Beginning transform of 85000 ...\n",
      "--- Finished writing transformed 80000 in 28.86398362716039 minutes ---\"\n",
      "--- 1731.841038942337 seconds ---\n",
      "Beginning transform of 105000 ...\n",
      "Writing transformed 85000 ...\n",
      "Writing transformed 105000 ...\n",
      "--- Finished writing transformed 85000 in 28.779587070147198 minutes ---\"\n",
      "--- 1726.7771480083466 seconds ---\n",
      "Beginning transform of 90000 ...\n",
      "--- Finished writing transformed 105000 in 28.798554555575052 minutes ---\"\n",
      "--- 1727.915209054947 seconds ---\n",
      "Beginning transform of 110000 ...\n",
      "Writing transformed 90000 ...\n",
      "Writing transformed 110000 ...\n",
      "--- Finished writing transformed 110000 in 28.771144862969717 minutes ---\"\n",
      "--- 1726.2706716060638 seconds ---\n",
      "Beginning transform of 115000 ...\n",
      "--- Finished writing transformed 90000 in 28.841567730903627 minutes ---\"\n",
      "--- 1730.4958844184875 seconds ---\n",
      "Beginning transform of 95000 ...\n",
      "Writing transformed 115000 ...\n",
      "Writing transformed 95000 ...\n",
      "--- Finished writing transformed 95000 in 28.87793011665344 minutes ---\"\n",
      "--- 1732.6782796382904 seconds ---\n",
      "Beginning transform of 100000 ...\n",
      "--- Finished writing transformed 115000 in 28.926961930592856 minutes ---\"\n",
      "--- 1735.6196126937866 seconds ---\n",
      "Beginning transform of 120000 ...\n",
      "Writing transformed 120000 ...\n",
      "Writing transformed 100000 ...\n",
      "--- Finished writing transformed 120000 in 28.786614195505777 minutes ---\"\n",
      "--- 1727.1985681056976 seconds ---\n",
      "Beginning transform of 125000 ...\n",
      "--- Finished writing transformed 100000 in 28.894063524405162 minutes ---\"\n",
      "--- 1733.645728111267 seconds ---\n",
      "Writing transformed 125000 ...\n",
      "--- Finished writing transformed 125000 in 28.11111156543096 minutes ---\"\n",
      "--- 1686.6685109138489 seconds ---\n",
      "Beginning transform of 130000 ...\n",
      "Writing transformed 130000 ...\n",
      "--- Finished writing transformed 130000 in 28.29777726729711 minutes ---\"\n",
      "--- 1697.868908882141 seconds ---\n"
     ]
    }
   ],
   "source": [
    "x = p.map(clean_index, range(5000,135000,5000))"
   ]
  },
  {
   "cell_type": "code",
   "execution_count": null,
   "id": "84eff929-2dbb-4ba1-900c-f420b586bb0e",
   "metadata": {},
   "outputs": [
    {
     "name": "stdout",
     "output_type": "stream",
     "text": [
      "Beginning transform of 15000 ...\n",
      "Beginning transform of 20000 ...\n",
      "Writing transformed 20000 ...\n",
      "Writing transformed 15000 ...\n",
      "--- Finished writing transformed 20000 in 27.99247100353241 minutes ---\"\n",
      "--- 1679.5508012771606 seconds ---\n",
      "Beginning transform of 25000 ...\n",
      "--- Finished writing transformed 15000 in 28.01156253417333 minutes ---\"\n",
      "--- 1680.6961460113525 seconds ---\n",
      "Beginning transform of 30000 ...\n",
      "Writing transformed 25000 ...\n",
      "Writing transformed 30000 ...\n",
      "--- Finished writing transformed 30000 in 28.235480531056723 minutes ---\"\n",
      "--- 1694.1308937072754 seconds ---\n",
      "Beginning transform of 35000 ...\n",
      "--- Finished writing transformed 25000 in 28.256190037727357 minutes ---\"\n",
      "--- 1695.3736989498138 seconds ---\n",
      "Beginning transform of 40000 ...\n",
      "Writing transformed 35000 ...\n",
      "Writing transformed 40000 ...\n",
      "--- Finished writing transformed 40000 in 28.742069808642068 minutes ---\"\n",
      "--- 1724.5259702205658 seconds ---\n",
      "--- Finished writing transformed 35000 in 28.77057419617971 minutes ---\"\n",
      "--- 1726.2378787994385 seconds ---\n"
     ]
    }
   ],
   "source": [
    "x = p.map(clean_index, range(5000,45000,5000))"
   ]
  },
  {
   "cell_type": "code",
   "execution_count": 3,
   "id": "2b031552-3303-44e1-9669-761f259fd108",
   "metadata": {},
   "outputs": [
    {
     "name": "stdout",
     "output_type": "stream",
     "text": [
      "Beginning transform of 5000 ...\n",
      "Writing transformed 5000 ...\n",
      "--- Finished writing transformed 5000 in 28.037185633182524 minutes ---\"\n",
      "--- 1682.231214761734 seconds ---\n"
     ]
    },
    {
     "data": {
      "text/plain": [
       "5000"
      ]
     },
     "execution_count": 3,
     "metadata": {},
     "output_type": "execute_result"
    }
   ],
   "source": [
    "clean_index(5000)"
   ]
  },
  {
   "cell_type": "code",
   "execution_count": 4,
   "id": "853c5ff8-37ba-44a6-8859-6fc4d2c5dec7",
   "metadata": {},
   "outputs": [
    {
     "name": "stdout",
     "output_type": "stream",
     "text": [
      "Beginning transform of 10000 ...\n",
      "Writing transformed 10000 ...\n",
      "--- Finished writing transformed 10000 in 27.491266107559206 minutes ---\"\n",
      "--- 1649.47602891922 seconds ---\n"
     ]
    },
    {
     "data": {
      "text/plain": [
       "10000"
      ]
     },
     "execution_count": 4,
     "metadata": {},
     "output_type": "execute_result"
    }
   ],
   "source": [
    "clean_index(10000)"
   ]
  },
  {
   "cell_type": "code",
   "execution_count": null,
   "id": "059f64d1-4f00-4c3c-850a-7ecfa1139ddf",
   "metadata": {},
   "outputs": [],
   "source": []
  }
 ],
 "metadata": {
  "kernelspec": {
   "display_name": "Python 3",
   "language": "python",
   "name": "python3"
  },
  "language_info": {
   "codemirror_mode": {
    "name": "ipython",
    "version": 3
   },
   "file_extension": ".py",
   "mimetype": "text/x-python",
   "name": "python",
   "nbconvert_exporter": "python",
   "pygments_lexer": "ipython3",
   "version": "3.7.10"
  }
 },
 "nbformat": 4,
 "nbformat_minor": 5
}
